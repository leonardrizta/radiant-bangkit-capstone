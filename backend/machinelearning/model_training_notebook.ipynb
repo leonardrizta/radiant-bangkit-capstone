{
  "nbformat": 4,
  "nbformat_minor": 0,
  "metadata": {
    "colab": {
      "name": "model training notebook",
      "provenance": [],
      "toc_visible": true
    },
    "kernelspec": {
      "name": "python3",
      "display_name": "Python 3"
    },
    "language_info": {
      "name": "python"
    },
    "accelerator": "GPU"
  },
  "cells": [
    {
      "cell_type": "code",
      "metadata": {
        "colab": {
          "base_uri": "https://localhost:8080/"
        },
        "id": "UGaIOy2wcEqo",
        "outputId": "bf150690-4206-4082-cf5a-fde60f4d8ed4"
      },
      "source": [
        "import tensorflow as tf\n",
        "print(tf.__version__)"
      ],
      "execution_count": 1,
      "outputs": [
        {
          "output_type": "stream",
          "text": [
            "2.5.0\n"
          ],
          "name": "stdout"
        }
      ]
    },
    {
      "cell_type": "markdown",
      "metadata": {
        "id": "MV-KNwm38TDQ"
      },
      "source": [
        "# Kaggle Preparation"
      ]
    },
    {
      "cell_type": "code",
      "metadata": {
        "id": "fy-ntV4ZP0uW"
      },
      "source": [
        "import re\n",
        "import os\n",
        "import zipfile\n",
        "import random\n",
        "import shutil\n",
        "import tensorflow as tf\n",
        "from tensorflow.keras.optimizers import RMSprop, SGD\n",
        "from tensorflow.keras.preprocessing.image import ImageDataGenerator\n",
        "from shutil import copyfile\n",
        "from os import getcwd"
      ],
      "execution_count": 2,
      "outputs": []
    },
    {
      "cell_type": "code",
      "metadata": {
        "colab": {
          "resources": {
            "http://localhost:8080/nbextensions/google.colab/files.js": {
              "data": "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",
              "ok": true,
              "headers": [
                [
                  "content-type",
                  "application/javascript"
                ]
              ],
              "status": 200,
              "status_text": ""
            }
          },
          "base_uri": "https://localhost:8080/",
          "height": 89
        },
        "id": "aJ-_fjf-QHZy",
        "outputId": "4176c36d-5bb1-4158-a947-b3fe941c93b1"
      },
      "source": [
        "!pip install -q kaggle\n",
        "from google.colab import files\n",
        "files.upload()"
      ],
      "execution_count": 3,
      "outputs": [
        {
          "output_type": "display_data",
          "data": {
            "text/html": [
              "\n",
              "     <input type=\"file\" id=\"files-80e131c3-0920-4eb1-a7ed-c990d232d14e\" name=\"files[]\" multiple disabled\n",
              "        style=\"border:none\" />\n",
              "     <output id=\"result-80e131c3-0920-4eb1-a7ed-c990d232d14e\">\n",
              "      Upload widget is only available when the cell has been executed in the\n",
              "      current browser session. Please rerun this cell to enable.\n",
              "      </output>\n",
              "      <script src=\"/nbextensions/google.colab/files.js\"></script> "
            ],
            "text/plain": [
              "<IPython.core.display.HTML object>"
            ]
          },
          "metadata": {
            "tags": []
          }
        },
        {
          "output_type": "stream",
          "text": [
            "Saving kaggle.json to kaggle.json\n"
          ],
          "name": "stdout"
        },
        {
          "output_type": "execute_result",
          "data": {
            "text/plain": [
              "{'kaggle.json': b'{\"username\":\"leonardrizta\",\"key\":\"9e49c9b604d0e7ce6ee28ad39bffc2b1\"}'}"
            ]
          },
          "metadata": {
            "tags": []
          },
          "execution_count": 3
        }
      ]
    },
    {
      "cell_type": "code",
      "metadata": {
        "colab": {
          "base_uri": "https://localhost:8080/"
        },
        "id": "TKNTF_8qQKtH",
        "outputId": "3a8fda08-0fd4-49fe-dd67-f3892d20e09d"
      },
      "source": [
        "! mkdir ~/.kaggle\n",
        "! cp kaggle.json ~/.kaggle/\n",
        "! chmod 600 ~/.kaggle/kaggle.json\n",
        "! kaggle datasets list"
      ],
      "execution_count": 4,
      "outputs": [
        {
          "output_type": "stream",
          "text": [
            "Warning: Looks like you're using an outdated API Version, please consider updating (server 1.5.12 / client 1.5.4)\n",
            "ref                                                         title                                              size  lastUpdated          downloadCount  \n",
            "----------------------------------------------------------  ------------------------------------------------  -----  -------------------  -------------  \n",
            "gpreda/reddit-vaccine-myths                                 Reddit Vaccine Myths                              229KB  2021-06-01 11:18:46           6739  \n",
            "crowww/a-large-scale-fish-dataset                           A Large Scale Fish Dataset                          3GB  2021-04-28 17:03:01           3996  \n",
            "imsparsh/musicnet-dataset                                   MusicNet Dataset                                   22GB  2021-02-18 14:12:19           1349  \n",
            "dhruvildave/wikibooks-dataset                               Wikibooks Dataset                                   1GB  2021-02-18 10:08:27           2101  \n",
            "mathurinache/twitter-edge-nodes                             Twitter Edge Nodes                                342MB  2021-03-08 06:43:04            452  \n",
            "fatiimaezzahra/famous-iconic-women                          Famous Iconic Women                               838MB  2021-02-28 14:56:00            685  \n",
            "promptcloud/careerbuilder-job-listing-2020                  Careerbuilder Job Listing 2020                     42MB  2021-03-05 06:59:52            968  \n",
            "alsgroup/end-als                                            End ALS Kaggle Challenge                           12GB  2021-04-08 12:16:37            684  \n",
            "coloradokb/dandelionimages                                  DandelionImages                                     4GB  2021-02-19 20:03:47            408  \n",
            "nickuzmenkov/nih-chest-xrays-tfrecords                      NIH Chest X-rays TFRecords                         11GB  2021-03-09 04:49:23            553  \n",
            "simiotic/github-code-snippets                               GitHub Code Snippets                                7GB  2021-03-03 11:34:39            145  \n",
            "mathurinache/the-lj-speech-dataset                          The LJ Speech Dataset                               3GB  2021-02-15 09:19:54            170  \n",
            "stuartjames/lights                                          LightS: Light Specularity Dataset                  18GB  2021-02-18 14:32:26             65  \n",
            "landrykezebou/lvzhdr-tone-mapping-benchmark-dataset-tmonet  LVZ-HDR Tone Mapping Benchmark Dataset (TMO-Net)   24GB  2021-03-01 05:03:40             84  \n",
            "nickuzmenkov/ranzcr-clip-kfold-tfrecords                    RANZCR CLiP KFold TFRecords                         2GB  2021-02-21 13:29:51             82  \n",
            "imsparsh/accentdb-core-extended                             AccentDB - Core & Extended                          6GB  2021-02-17 14:22:54             77  \n",
            "datasnaek/youtube-new                                       Trending YouTube Video Statistics                 201MB  2019-06-03 00:56:47         141656  \n",
            "zynicide/wine-reviews                                       Wine Reviews                                       51MB  2017-11-27 17:08:04         137775  \n",
            "residentmario/ramen-ratings                                 Ramen Ratings                                      40KB  2018-01-11 16:04:39          23609  \n",
            "datasnaek/chess                                             Chess Game Dataset (Lichess)                        3MB  2017-09-04 03:09:09          18884  \n"
          ],
          "name": "stdout"
        }
      ]
    },
    {
      "cell_type": "markdown",
      "metadata": {
        "id": "kQypvO6Awcwi"
      },
      "source": [
        "# Dataset Download"
      ]
    },
    {
      "cell_type": "code",
      "metadata": {
        "colab": {
          "base_uri": "https://localhost:8080/"
        },
        "id": "XdjKttFYxDJZ",
        "outputId": "37deaaeb-1300-47d4-8ef4-ac5406314766"
      },
      "source": [
        "!kaggle datasets download -d shubhamgoel27/dermnet"
      ],
      "execution_count": 5,
      "outputs": [
        {
          "output_type": "stream",
          "text": [
            "Downloading dermnet.zip to /content\n",
            "100% 1.72G/1.72G [00:19<00:00, 84.7MB/s]\n",
            "100% 1.72G/1.72G [00:19<00:00, 95.5MB/s]\n"
          ],
          "name": "stdout"
        }
      ]
    },
    {
      "cell_type": "code",
      "metadata": {
        "id": "8hzmqDtxxHpK"
      },
      "source": [
        "dataset_path = \"/content/dermnet.zip\"\n",
        "zip_ref = zipfile.ZipFile(dataset_path, 'r')\n",
        "zip_ref.extractall('/tmp/')\n",
        "zip_ref.close()"
      ],
      "execution_count": 6,
      "outputs": []
    },
    {
      "cell_type": "code",
      "metadata": {
        "id": "o0XCy2YBwfig"
      },
      "source": [
        "train_data_dir = '/tmp/train/'\n",
        "validation_data_dir = '/tmp/test/'"
      ],
      "execution_count": 7,
      "outputs": []
    },
    {
      "cell_type": "markdown",
      "metadata": {
        "id": "kc0ZJFqeVy8Y"
      },
      "source": [
        "# Dataset Preparation"
      ]
    },
    {
      "cell_type": "code",
      "metadata": {
        "colab": {
          "base_uri": "https://localhost:8080/"
        },
        "id": "BTGviqzewhj9",
        "outputId": "4c60ee0d-2d9b-45f1-f683-ce6eb871c492"
      },
      "source": [
        "train_data_list = os.listdir(train_data_dir)\n",
        "validation_data_list = os.listdir(validation_data_dir)\n",
        "print(os.listdir(train_data_dir))\n",
        "print(os.listdir(validation_data_dir))\n",
        "print(len(os.listdir(train_data_dir)))\n",
        "print(len(os.listdir(validation_data_dir)))"
      ],
      "execution_count": 8,
      "outputs": [
        {
          "output_type": "stream",
          "text": [
            "['Melanoma Skin Cancer Nevi and Moles', 'Warts Molluscum and other Viral Infections', 'Scabies Lyme Disease and other Infestations and Bites', 'Exanthems and Drug Eruptions', 'Nail Fungus and other Nail Disease', 'Lupus and other Connective Tissue diseases', 'Actinic Keratosis Basal Cell Carcinoma and other Malignant Lesions', 'Hair Loss Photos Alopecia and other Hair Diseases', 'Systemic Disease', 'Light Diseases and Disorders of Pigmentation', 'Herpes HPV and other STDs Photos', 'Cellulitis Impetigo and other Bacterial Infections', 'Bullous Disease Photos', 'Vasculitis Photos', 'Acne and Rosacea Photos', 'Urticaria Hives', 'Psoriasis pictures Lichen Planus and related diseases', 'Atopic Dermatitis Photos', 'Tinea Ringworm Candidiasis and other Fungal Infections', 'Poison Ivy Photos and other Contact Dermatitis', 'Eczema Photos', 'Vascular Tumors', 'Seborrheic Keratoses and other Benign Tumors']\n",
            "['Melanoma Skin Cancer Nevi and Moles', 'Warts Molluscum and other Viral Infections', 'Scabies Lyme Disease and other Infestations and Bites', 'Exanthems and Drug Eruptions', 'Nail Fungus and other Nail Disease', 'Lupus and other Connective Tissue diseases', 'Actinic Keratosis Basal Cell Carcinoma and other Malignant Lesions', 'Hair Loss Photos Alopecia and other Hair Diseases', 'Systemic Disease', 'Light Diseases and Disorders of Pigmentation', 'Herpes HPV and other STDs Photos', 'Cellulitis Impetigo and other Bacterial Infections', 'Bullous Disease Photos', 'Vasculitis Photos', 'Acne and Rosacea Photos', 'Urticaria Hives', 'Psoriasis pictures Lichen Planus and related diseases', 'Atopic Dermatitis Photos', 'Tinea Ringworm Candidiasis and other Fungal Infections', 'Poison Ivy Photos and other Contact Dermatitis', 'Eczema Photos', 'Vascular Tumors', 'Seborrheic Keratoses and other Benign Tumors']\n",
            "23\n",
            "23\n"
          ],
          "name": "stdout"
        }
      ]
    },
    {
      "cell_type": "code",
      "metadata": {
        "id": "2monMgZzySIT"
      },
      "source": [
        "used_data = ['Acne and Rosacea Photos', 'Actinic Keratosis Basal Cell Carcinoma and other Malignant Lesions', 'Eczema Photos', 'Light Diseases and Disorders of Pigmentation', 'Nail Fungus and other Nail Disease']"
      ],
      "execution_count": 9,
      "outputs": []
    },
    {
      "cell_type": "code",
      "metadata": {
        "colab": {
          "base_uri": "https://localhost:8080/"
        },
        "id": "2DTl0ibo49L0",
        "outputId": "22e2d925-296d-4e68-f831-67884aba3601"
      },
      "source": [
        "unused_data = train_data_list\n",
        "print(unused_data)"
      ],
      "execution_count": 10,
      "outputs": [
        {
          "output_type": "stream",
          "text": [
            "['Melanoma Skin Cancer Nevi and Moles', 'Warts Molluscum and other Viral Infections', 'Scabies Lyme Disease and other Infestations and Bites', 'Exanthems and Drug Eruptions', 'Nail Fungus and other Nail Disease', 'Lupus and other Connective Tissue diseases', 'Actinic Keratosis Basal Cell Carcinoma and other Malignant Lesions', 'Hair Loss Photos Alopecia and other Hair Diseases', 'Systemic Disease', 'Light Diseases and Disorders of Pigmentation', 'Herpes HPV and other STDs Photos', 'Cellulitis Impetigo and other Bacterial Infections', 'Bullous Disease Photos', 'Vasculitis Photos', 'Acne and Rosacea Photos', 'Urticaria Hives', 'Psoriasis pictures Lichen Planus and related diseases', 'Atopic Dermatitis Photos', 'Tinea Ringworm Candidiasis and other Fungal Infections', 'Poison Ivy Photos and other Contact Dermatitis', 'Eczema Photos', 'Vascular Tumors', 'Seborrheic Keratoses and other Benign Tumors']\n"
          ],
          "name": "stdout"
        }
      ]
    },
    {
      "cell_type": "code",
      "metadata": {
        "colab": {
          "base_uri": "https://localhost:8080/"
        },
        "id": "1QgHmWVy5DNp",
        "outputId": "84e8cd62-a73a-45bb-8012-3c975db200ea"
      },
      "source": [
        "for data in used_data:\n",
        "  unused_data.remove(data)\n",
        "print(unused_data)\n",
        "print(len(unused_data))"
      ],
      "execution_count": 11,
      "outputs": [
        {
          "output_type": "stream",
          "text": [
            "['Melanoma Skin Cancer Nevi and Moles', 'Warts Molluscum and other Viral Infections', 'Scabies Lyme Disease and other Infestations and Bites', 'Exanthems and Drug Eruptions', 'Lupus and other Connective Tissue diseases', 'Hair Loss Photos Alopecia and other Hair Diseases', 'Systemic Disease', 'Herpes HPV and other STDs Photos', 'Cellulitis Impetigo and other Bacterial Infections', 'Bullous Disease Photos', 'Vasculitis Photos', 'Urticaria Hives', 'Psoriasis pictures Lichen Planus and related diseases', 'Atopic Dermatitis Photos', 'Tinea Ringworm Candidiasis and other Fungal Infections', 'Poison Ivy Photos and other Contact Dermatitis', 'Vascular Tumors', 'Seborrheic Keratoses and other Benign Tumors']\n",
            "18\n"
          ],
          "name": "stdout"
        }
      ]
    },
    {
      "cell_type": "code",
      "metadata": {
        "colab": {
          "base_uri": "https://localhost:8080/"
        },
        "id": "0R63MAb43ZH6",
        "outputId": "a64453d8-5ab8-4fc4-d4ea-0043b14850d2"
      },
      "source": [
        "for data in unused_data:\n",
        "  try:\n",
        "    shutil.rmtree(train_data_dir+ data)\n",
        "  except OSError as e:\n",
        "    print(\"Folder already deleted\")\n",
        "  try:\n",
        "    shutil.rmtree(validation_data_dir+ data)\n",
        "  except OSError as e:\n",
        "    print(\"Folder already deleted\")\n",
        "print(\"Done!\")"
      ],
      "execution_count": 12,
      "outputs": [
        {
          "output_type": "stream",
          "text": [
            "Done!\n"
          ],
          "name": "stdout"
        }
      ]
    },
    {
      "cell_type": "code",
      "metadata": {
        "colab": {
          "base_uri": "https://localhost:8080/"
        },
        "id": "1zTX_FekAGOO",
        "outputId": "f67ed206-1d5e-4f53-8cb6-bbc476308ee6"
      },
      "source": [
        "for directory in sorted(os.listdir(train_data_dir)):\n",
        "  print(directory)"
      ],
      "execution_count": 13,
      "outputs": [
        {
          "output_type": "stream",
          "text": [
            "Acne and Rosacea Photos\n",
            "Actinic Keratosis Basal Cell Carcinoma and other Malignant Lesions\n",
            "Eczema Photos\n",
            "Light Diseases and Disorders of Pigmentation\n",
            "Nail Fungus and other Nail Disease\n"
          ],
          "name": "stdout"
        }
      ]
    },
    {
      "cell_type": "markdown",
      "metadata": {
        "id": "fMsEgPbMXPV5"
      },
      "source": [
        "## Download list file"
      ]
    },
    {
      "cell_type": "code",
      "metadata": {
        "id": "2CNv4O-OXSBU"
      },
      "source": [
        "disease_directory = \"Acne and Rosacea Photos/\" #Change directory name with spesific disease\n",
        "with open('file.txt', 'a') as f:\n",
        "  for data in sorted(os.listdir(train_data_dir+disease_directory)):\n",
        "    print(data, file=f)"
      ],
      "execution_count": 14,
      "outputs": []
    },
    {
      "cell_type": "markdown",
      "metadata": {
        "id": "hVtEE31bFhR3"
      },
      "source": [
        "## Acne"
      ]
    },
    {
      "cell_type": "code",
      "metadata": {
        "id": "KHHOjS2QBu0g"
      },
      "source": [
        "disease_directory = \"Acne and Rosacea Photos/\""
      ],
      "execution_count": 15,
      "outputs": []
    },
    {
      "cell_type": "code",
      "metadata": {
        "id": "B8YMTIGB0De6"
      },
      "source": [
        "pattern_list = [\"^07[\\w-]*.jpg\", \n",
        "                \"^acne-[\\w-]*.jpg\", \n",
        "                \"^gram-[\\w-]*.jpg\",\n",
        "                \"^perioral-dermatitis[\\w-]*.jpg\",\n",
        "                \"^rosacea-[\\w-]*.jpg\",\n",
        "                ]"
      ],
      "execution_count": 16,
      "outputs": []
    },
    {
      "cell_type": "code",
      "metadata": {
        "colab": {
          "base_uri": "https://localhost:8080/"
        },
        "id": "sHOI-VpUC8Y3",
        "outputId": "af4abe05-0a5c-4ebd-ec0d-21594fa1260e"
      },
      "source": [
        "for data in sorted(os.listdir(train_data_dir+disease_directory)):\n",
        "  x = None\n",
        "  for pattern in pattern_list:\n",
        "    x = re.search(pattern, data)\n",
        "    if x is not None:\n",
        "      break\n",
        "  if x is None:\n",
        "    os.remove(train_data_dir+disease_directory+data)\n",
        "print(\"train data: \"+str(len(os.listdir(train_data_dir+disease_directory))))"
      ],
      "execution_count": 17,
      "outputs": [
        {
          "output_type": "stream",
          "text": [
            "train data: 682\n"
          ],
          "name": "stdout"
        }
      ]
    },
    {
      "cell_type": "code",
      "metadata": {
        "id": "F0eQJrpr5of6"
      },
      "source": [
        "pattern_list = [\"Forest-2\",\n",
        "                ]"
      ],
      "execution_count": 18,
      "outputs": []
    },
    {
      "cell_type": "code",
      "metadata": {
        "colab": {
          "base_uri": "https://localhost:8080/"
        },
        "id": "6N8b-QjZW57w",
        "outputId": "286b7388-6fb6-40f7-ce69-9e3266213373"
      },
      "source": [
        "print(\"validation data: \"+str(len(os.listdir(validation_data_dir+disease_directory))))"
      ],
      "execution_count": 19,
      "outputs": [
        {
          "output_type": "stream",
          "text": [
            "validation data: 312\n"
          ],
          "name": "stdout"
        }
      ]
    },
    {
      "cell_type": "code",
      "metadata": {
        "colab": {
          "base_uri": "https://localhost:8080/"
        },
        "id": "VLMERY6ZApZ0",
        "outputId": "236f6016-ebfe-43d7-958c-37c0c31b2292"
      },
      "source": [
        "for data in sorted(os.listdir(validation_data_dir+disease_directory)):\n",
        "  x = None\n",
        "  for pattern in pattern_list:\n",
        "    x = re.search(pattern, data)\n",
        "    if x is None:\n",
        "      break\n",
        "  if x is not None:\n",
        "    os.remove(validation_data_dir+disease_directory+data)\n",
        "print(\"validation data: \"+str(len(os.listdir(validation_data_dir+disease_directory))))"
      ],
      "execution_count": 20,
      "outputs": [
        {
          "output_type": "stream",
          "text": [
            "validation data: 311\n"
          ],
          "name": "stdout"
        }
      ]
    },
    {
      "cell_type": "markdown",
      "metadata": {
        "id": "N5jNW3GjFkQJ"
      },
      "source": [
        "## Actinic"
      ]
    },
    {
      "cell_type": "code",
      "metadata": {
        "id": "7E40iAq1C2Sc"
      },
      "source": [
        "disease_directory = \"Actinic Keratosis Basal Cell Carcinoma and other Malignant Lesions/\""
      ],
      "execution_count": 21,
      "outputs": []
    },
    {
      "cell_type": "code",
      "metadata": {
        "id": "Ui4gkbyM0m6K"
      },
      "source": [
        "pattern_list = [\"^actinic-[\\w-]*.jpg\",\n",
        "                \"^basal-[\\w-]*.jpg\",\n",
        "                \"^squamous-[\\w-]*.jpg\",\n",
        "                ]"
      ],
      "execution_count": 22,
      "outputs": []
    },
    {
      "cell_type": "code",
      "metadata": {
        "colab": {
          "base_uri": "https://localhost:8080/"
        },
        "id": "hkbL-rgBFmgv",
        "outputId": "91bc9c25-54e3-4757-caf1-c8c2578646ad"
      },
      "source": [
        "for data in sorted(os.listdir(train_data_dir+disease_directory)):\n",
        "  x = None\n",
        "  for pattern in pattern_list:\n",
        "    x = re.search(pattern, data)\n",
        "    if x is not None:\n",
        "      break\n",
        "  if x is None:\n",
        "    os.remove(train_data_dir+disease_directory+data)\n",
        "print(\"train data: \"+str(len(os.listdir(train_data_dir+disease_directory))))"
      ],
      "execution_count": 23,
      "outputs": [
        {
          "output_type": "stream",
          "text": [
            "train data: 822\n"
          ],
          "name": "stdout"
        }
      ]
    },
    {
      "cell_type": "code",
      "metadata": {
        "id": "pIvH9JlyEY0P"
      },
      "source": [
        "pattern_list = [\"^Forest-2[\\w-]*.jpg\", \n",
        "                ]"
      ],
      "execution_count": 24,
      "outputs": []
    },
    {
      "cell_type": "code",
      "metadata": {
        "colab": {
          "base_uri": "https://localhost:8080/"
        },
        "id": "441fRJ7VXlSN",
        "outputId": "4ba0ae43-a8be-4cb0-9f89-1e947eecfc11"
      },
      "source": [
        "print(\"validation data: \"+str(len(os.listdir(validation_data_dir+disease_directory))))"
      ],
      "execution_count": 25,
      "outputs": [
        {
          "output_type": "stream",
          "text": [
            "validation data: 288\n"
          ],
          "name": "stdout"
        }
      ]
    },
    {
      "cell_type": "code",
      "metadata": {
        "colab": {
          "base_uri": "https://localhost:8080/"
        },
        "id": "_ClEUYWv8W_x",
        "outputId": "6a0d2843-e3de-4dc9-8d02-fb859369c7c9"
      },
      "source": [
        "for data in sorted(os.listdir(validation_data_dir+disease_directory)):\n",
        "  x = None\n",
        "  for pattern in pattern_list:\n",
        "    x = re.search(pattern, data)\n",
        "    if x is None:\n",
        "      break\n",
        "  if x is not None:\n",
        "    os.remove(validation_data_dir+disease_directory+data)\n",
        "print(\"validation data: \"+str(len(os.listdir(validation_data_dir+disease_directory))))"
      ],
      "execution_count": 26,
      "outputs": [
        {
          "output_type": "stream",
          "text": [
            "validation data: 288\n"
          ],
          "name": "stdout"
        }
      ]
    },
    {
      "cell_type": "markdown",
      "metadata": {
        "id": "K-Bxbqu8GXQd"
      },
      "source": [
        "## Eczema Photos"
      ]
    },
    {
      "cell_type": "code",
      "metadata": {
        "id": "btadpAjpD9_x"
      },
      "source": [
        "disease_directory = \"Eczema Photos/\""
      ],
      "execution_count": 27,
      "outputs": []
    },
    {
      "cell_type": "code",
      "metadata": {
        "id": "ulmCR6_31e_y"
      },
      "source": [
        "pattern_list = [\"03Desquamation-[\\w-]*.jpg\",\n",
        "                \"03Eczema[\\w-]*.jpg\",\n",
        "                \"Dyshidrosis-[\\w-]*.jpg\",\n",
        "                \"chapped-[\\w-]*.jpg\",\n",
        "                \"eczema-[\\w-]*.jpg\",\n",
        "                ]"
      ],
      "execution_count": 28,
      "outputs": []
    },
    {
      "cell_type": "code",
      "metadata": {
        "colab": {
          "base_uri": "https://localhost:8080/"
        },
        "id": "VpPUx5hIGblr",
        "outputId": "5587e343-bda7-48c2-8cf9-6d443d5fdf5d"
      },
      "source": [
        "for data in sorted(os.listdir(train_data_dir+disease_directory)):\n",
        "  x = None\n",
        "  for pattern in pattern_list:\n",
        "    x = re.search(pattern, data)\n",
        "    if x is not None:\n",
        "      break\n",
        "  if x is None:\n",
        "    os.remove(train_data_dir+disease_directory+data)\n",
        "print(\"train data: \"+str(len(os.listdir(train_data_dir+disease_directory))))"
      ],
      "execution_count": 29,
      "outputs": [
        {
          "output_type": "stream",
          "text": [
            "train data: 793\n"
          ],
          "name": "stdout"
        }
      ]
    },
    {
      "cell_type": "code",
      "metadata": {
        "id": "WzO_82MAEphX"
      },
      "source": [
        "pattern_list = [\"^eczema-histology[\\w-]*.jpg\",\n",
        "                \"^eczema-impetiginized[\\w-]*.jpg\",\n",
        "                \"^eczema-lids[\\w-]*.jpg\",\n",
        "                \"^eczema-penis[\\w-]*.jpg\",\n",
        "                \"^eczema-scrotum[\\w-]*.jpg\",\n",
        "                \"^eczema-subacute[\\w-]*.jpg\",\n",
        "                \"^Forest-2[\\w-]*.jpg\",\n",
        "                ]"
      ],
      "execution_count": 30,
      "outputs": []
    },
    {
      "cell_type": "code",
      "metadata": {
        "colab": {
          "base_uri": "https://localhost:8080/"
        },
        "id": "q1JU5H7e85Ya",
        "outputId": "b8dd9ec4-ec74-459e-da98-417f4d97097f"
      },
      "source": [
        "for data in sorted(os.listdir(validation_data_dir+disease_directory)):\n",
        "  x = None\n",
        "  for pattern in pattern_list:\n",
        "    x = re.search(pattern, data)\n",
        "    if x is None:\n",
        "      break\n",
        "  if x is not None:\n",
        "    os.remove(validation_data_dir+disease_directory+data)\n",
        "print(\"validation data: \"+str(len(os.listdir(validation_data_dir+disease_directory))))"
      ],
      "execution_count": 31,
      "outputs": [
        {
          "output_type": "stream",
          "text": [
            "validation data: 309\n"
          ],
          "name": "stdout"
        }
      ]
    },
    {
      "cell_type": "markdown",
      "metadata": {
        "id": "UfwOhUczG7et"
      },
      "source": [
        "## Light Diseases"
      ]
    },
    {
      "cell_type": "code",
      "metadata": {
        "id": "BfnelEOl2Gig"
      },
      "source": [
        "disease_directory = \"Light Diseases and Disorders of Pigmentation/\""
      ],
      "execution_count": 32,
      "outputs": []
    },
    {
      "cell_type": "code",
      "metadata": {
        "id": "3WWC1t-g2Qe6"
      },
      "source": [
        "pattern_list = [\"^albinism-[\\w-]*.jpg\",\n",
        "                \"^colloid-[\\w-]*.jpg\",\n",
        "                \"^erythema-[\\w-]*.jpg\",\n",
        "                \"^erythromelanosis-[\\w-]*.jpg\",\n",
        "                \"^idiopathic-[\\w-]*.jpg\",\n",
        "                \"^lentigo-[\\w-]*.jpg\",\n",
        "                \"^melasma-[\\w-]*.jpg\",\n",
        "                \"^mongolian-[\\w-]*.jpg\",\n",
        "                \"^nevus-[\\w-]*.jpg\",\n",
        "                \"^phototoxic-[\\w-]*.jpg\",\n",
        "                \"^poikiloderma-[\\w-]*.jpg\",\n",
        "                \"^polymorphous-[\\w-]*.jpg\",\n",
        "                \"^radiation-[\\w-]*.jpg\",\n",
        "                \"^sun-[\\w-]*.jpg\",\n",
        "                \"^sunburn-[\\w-]*.jpg\",\n",
        "                ]"
      ],
      "execution_count": 33,
      "outputs": []
    },
    {
      "cell_type": "code",
      "metadata": {
        "colab": {
          "base_uri": "https://localhost:8080/"
        },
        "id": "e0RQlgto2eSe",
        "outputId": "f2a0facc-c83f-4a14-938f-89914ce84615"
      },
      "source": [
        "for data in sorted(os.listdir(train_data_dir+disease_directory)):\n",
        "  x = None\n",
        "  for pattern in pattern_list:\n",
        "    x = re.search(pattern, data)\n",
        "    if x is not None:\n",
        "      break\n",
        "  if x is None:\n",
        "    os.remove(train_data_dir+disease_directory+data)\n",
        "print(\"train data: \"+str(len(os.listdir(train_data_dir+disease_directory))))"
      ],
      "execution_count": 34,
      "outputs": [
        {
          "output_type": "stream",
          "text": [
            "train data: 408\n"
          ],
          "name": "stdout"
        }
      ]
    },
    {
      "cell_type": "code",
      "metadata": {
        "id": "WlVLN8Zq9NjZ"
      },
      "source": [
        "pattern_list = [\"Forest-2[\\w-]*.jpg\",\n",
        "                ]"
      ],
      "execution_count": 35,
      "outputs": []
    },
    {
      "cell_type": "code",
      "metadata": {
        "colab": {
          "base_uri": "https://localhost:8080/"
        },
        "id": "RTtopl8t2fOx",
        "outputId": "e9a40fa7-9e7b-4764-e81d-826ccf5ce4b0"
      },
      "source": [
        "for data in sorted(os.listdir(validation_data_dir+disease_directory)):\n",
        "  x = None\n",
        "  for pattern in pattern_list:\n",
        "    x = re.search(pattern, data)\n",
        "    if x is None:\n",
        "      break\n",
        "  if x is not None:\n",
        "    os.remove(validation_data_dir+disease_directory+data)\n",
        "print(\"validation data: \"+str(len(os.listdir(validation_data_dir+disease_directory))))"
      ],
      "execution_count": 36,
      "outputs": [
        {
          "output_type": "stream",
          "text": [
            "validation data: 143\n"
          ],
          "name": "stdout"
        }
      ]
    },
    {
      "cell_type": "markdown",
      "metadata": {
        "id": "UpAnNx-q3ctk"
      },
      "source": [
        "## Nail Fungus"
      ]
    },
    {
      "cell_type": "code",
      "metadata": {
        "id": "3CavQhGG3iYV"
      },
      "source": [
        "disease_directory = \"Nail Fungus and other Nail Disease/\""
      ],
      "execution_count": 37,
      "outputs": []
    },
    {
      "cell_type": "code",
      "metadata": {
        "id": "82rBR4NI24rm"
      },
      "source": [
        "pattern_list = [\"acute[\\w-]*.jpg\",\n",
        "                \"beaus[\\w-]*.jpg\",\n",
        "                \"biting[\\w-]*.jpg\",\n",
        "                \"blue[\\w-]*.jpg\",\n",
        "                \"chronic[\\w-]*.jpg\",\n",
        "                \"clubbing[\\w-]*.jpg\",\n",
        "                \"color[\\w-]*.jpg\",\n",
        "                \"congenital[\\w-]*.jpg\",\n",
        "                \"darier[\\w-]*.jpg\",\n",
        "                \"distal[\\w-]*.jpg\",\n",
        "                \"dry[\\w-]*.jpg\",\n",
        "                \"eczema[\\w-]*.jpg\",\n",
        "                \"habit[\\w-]*.jpg\",\n",
        "                \"ingrown[\\w-]*.jpg\",\n",
        "                \"koilonychia[\\w-]*.jpg\",\n",
        "                ]\n",
        "                "
      ],
      "execution_count": 38,
      "outputs": []
    },
    {
      "cell_type": "code",
      "metadata": {
        "colab": {
          "base_uri": "https://localhost:8080/"
        },
        "id": "gfAp6WyP3SF2",
        "outputId": "380d2c31-0dbd-45ec-b335-f57f0b29a2c7"
      },
      "source": [
        "for data in sorted(os.listdir(train_data_dir+disease_directory)):\n",
        "  x = None\n",
        "  for pattern in pattern_list:\n",
        "    x = re.search(pattern, data)\n",
        "    if x is not None:\n",
        "      break\n",
        "  if x is None:\n",
        "    os.remove(train_data_dir+disease_directory+data)\n",
        "print(\"train data: \"+str(len(os.listdir(train_data_dir+disease_directory))))"
      ],
      "execution_count": 39,
      "outputs": [
        {
          "output_type": "stream",
          "text": [
            "train data: 349\n"
          ],
          "name": "stdout"
        }
      ]
    },
    {
      "cell_type": "code",
      "metadata": {
        "id": "NwmZ1kWU-D08"
      },
      "source": [
        "pattern_list = [\"^Forest-2[\\w-]*.jpg\",\n",
        "                ]"
      ],
      "execution_count": 40,
      "outputs": []
    },
    {
      "cell_type": "code",
      "metadata": {
        "colab": {
          "base_uri": "https://localhost:8080/"
        },
        "id": "l7ObgUwe3U9c",
        "outputId": "47a294ea-61c3-4b7f-adc9-ae7a39afefc0"
      },
      "source": [
        "for data in sorted(os.listdir(validation_data_dir+disease_directory)):\n",
        "  x = None\n",
        "  for pattern in pattern_list:\n",
        "    x = re.search(pattern, data)\n",
        "    if x is None:\n",
        "      break\n",
        "  if x is not None:\n",
        "    os.remove(validation_data_dir+disease_directory+data)\n",
        "print(\"validation data: \"+str(len(os.listdir(validation_data_dir+disease_directory))))"
      ],
      "execution_count": 41,
      "outputs": [
        {
          "output_type": "stream",
          "text": [
            "validation data: 261\n"
          ],
          "name": "stdout"
        }
      ]
    },
    {
      "cell_type": "markdown",
      "metadata": {
        "id": "1tV79nAQa3gF"
      },
      "source": [
        "# Image Generator"
      ]
    },
    {
      "cell_type": "code",
      "metadata": {
        "id": "p9iuLTLua5Ul"
      },
      "source": [
        "img_width, img_height = 224, 224"
      ],
      "execution_count": 42,
      "outputs": []
    },
    {
      "cell_type": "code",
      "metadata": {
        "id": "4HUCm2aK00k6"
      },
      "source": [
        "def preprocess_image(path):\n",
        "    img = load_img(path, target_size = (img_height, img_width))\n",
        "    a = img_to_array(img)\n",
        "    a = np.expand_dims(a, axis = 0)\n",
        "    a = preprocess_input(a)\n",
        "    return a"
      ],
      "execution_count": 43,
      "outputs": []
    },
    {
      "cell_type": "code",
      "metadata": {
        "id": "oyeTnJR305e4",
        "colab": {
          "base_uri": "https://localhost:8080/"
        },
        "outputId": "67c6e8a0-78cf-4527-b59f-3ff5448cb4a3"
      },
      "source": [
        "from keras.preprocessing.image import ImageDataGenerator\n",
        "from keras.applications.resnet50 import preprocess_input\n",
        "\n",
        "HEIGHT = 224\n",
        "WIDTH = 224\n",
        "BATCH_SIZE = 16\n",
        "\n",
        "train_datagen =  ImageDataGenerator(\n",
        "      preprocessing_function=preprocess_input,\n",
        "      rotation_range=90,\n",
        "      horizontal_flip=True,\n",
        "      vertical_flip=True,\n",
        "      fill_mode = 'nearest'\n",
        "    )\n",
        "\n",
        "train_generator = train_datagen.flow_from_directory(train_data_dir, \n",
        "                                                    target_size=(HEIGHT, WIDTH), \n",
        "                                                    batch_size=BATCH_SIZE)\n",
        "\n",
        "\n",
        "test_datagen =  ImageDataGenerator(\n",
        "      preprocessing_function=preprocess_input,\n",
        "      rotation_range=90,\n",
        "      horizontal_flip=True,\n",
        "      vertical_flip=True,\n",
        "      fill_mode = 'nearest'\n",
        "    )\n",
        "validation_generator = test_datagen.flow_from_directory(\n",
        "        validation_data_dir,\n",
        "        target_size=(HEIGHT, WIDTH),\n",
        "        batch_size=BATCH_SIZE)"
      ],
      "execution_count": 44,
      "outputs": [
        {
          "output_type": "stream",
          "text": [
            "Found 3054 images belonging to 5 classes.\n",
            "Found 1312 images belonging to 5 classes.\n"
          ],
          "name": "stdout"
        }
      ]
    },
    {
      "cell_type": "markdown",
      "metadata": {
        "id": "d0AEVVlfEtYr"
      },
      "source": [
        "# Model Build"
      ]
    },
    {
      "cell_type": "markdown",
      "metadata": {
        "id": "T88inPukrPNl"
      },
      "source": [
        "## Resnet50 #6"
      ]
    },
    {
      "cell_type": "code",
      "metadata": {
        "colab": {
          "base_uri": "https://localhost:8080/"
        },
        "id": "a799kkEZrRly",
        "outputId": "e8527497-400c-4603-9dae-6f850061428e"
      },
      "source": [
        "input_t = tf.keras.Input(shape=(224,224,3))\n",
        "resnet_model = tf.keras.applications.resnet50.ResNet50(include_top=False,\n",
        "                                    weights=\"imagenet\",\n",
        "                                    input_tensor=input_t)"
      ],
      "execution_count": 45,
      "outputs": [
        {
          "output_type": "stream",
          "text": [
            "Downloading data from https://storage.googleapis.com/tensorflow/keras-applications/resnet/resnet50_weights_tf_dim_ordering_tf_kernels_notop.h5\n",
            "94773248/94765736 [==============================] - 1s 0us/step\n"
          ],
          "name": "stdout"
        }
      ]
    },
    {
      "cell_type": "code",
      "metadata": {
        "id": "fMoBk43-rZSg"
      },
      "source": [
        "def build_model(base_model, num_classes):\n",
        "  for layer in base_model.layers:\n",
        "    layer.trainable = False\n",
        "\n",
        "  model = tf.keras.models.Sequential()\n",
        "  model.add(tf.keras.layers.Lambda(lambda image: tf.image.resize(image, (224,224))))\n",
        "  model.add(base_model)\n",
        "  model.add(tf.keras.layers.Flatten())\n",
        "\n",
        "  model.add(tf.keras.layers.Dense(1024,activation=('relu')))\n",
        "  model.add(tf.keras.layers.Dense(512,activation=('relu')))\n",
        "  model.add(tf.keras.layers.Dropout(0.4))\n",
        "  model.add(tf.keras.layers.Dense(256,activation=('relu'))) \n",
        "  model.add(tf.keras.layers.Dropout(0.3))\n",
        "  model.add(tf.keras.layers.Dense(128,activation=('relu')))\n",
        "  model.add(tf.keras.layers.Dropout(0.2))\n",
        "\n",
        "  model.add(tf.keras.layers.Dense(num_classes, activation='softmax'))\n",
        "\n",
        "  return model\n",
        "\n",
        "class_list = os.listdir(train_data_dir)\n",
        "model = build_model(resnet_model, num_classes = len(class_list))"
      ],
      "execution_count": 46,
      "outputs": []
    },
    {
      "cell_type": "code",
      "metadata": {
        "id": "N-RnvkRxra4t"
      },
      "source": [
        "check_point = tf.keras.callbacks.ModelCheckpoint(\"dermnet.h5\", \n",
        "                                                 monitor='val_accuracy', \n",
        "                                                 verbose=1, \n",
        "                                                 save_best_only=True, \n",
        "                                                 save_weights_only=False, \n",
        "                                                 mode='max')"
      ],
      "execution_count": 47,
      "outputs": []
    },
    {
      "cell_type": "code",
      "metadata": {
        "id": "2wY99__brcci"
      },
      "source": [
        "model.compile(loss='categorical_crossentropy', \n",
        "              optimizer=tf.keras.optimizers.Adam(learning_rate=0.0001),\n",
        "              metrics=['accuracy'])"
      ],
      "execution_count": 48,
      "outputs": []
    },
    {
      "cell_type": "code",
      "metadata": {
        "colab": {
          "base_uri": "https://localhost:8080/"
        },
        "id": "ROkEoz_mreTs",
        "outputId": "e8c4f169-1477-455c-b270-5f2ce3bdebf5"
      },
      "source": [
        "NUM_EPOCHS = 45\n",
        "history = model.fit(train_generator, \n",
        "                    epochs=NUM_EPOCHS, \n",
        "                    workers=16,\n",
        "                    verbose=1,\n",
        "                    validation_data = validation_generator,\n",
        "                    callbacks=[check_point]\n",
        "                    )"
      ],
      "execution_count": 49,
      "outputs": [
        {
          "output_type": "stream",
          "text": [
            "Epoch 1/45\n",
            "191/191 [==============================] - 70s 337ms/step - loss: 2.2180 - accuracy: 0.4276 - val_loss: 1.1547 - val_accuracy: 0.5488\n",
            "\n",
            "Epoch 00001: val_accuracy improved from -inf to 0.54878, saving model to dermnet.h5\n"
          ],
          "name": "stdout"
        },
        {
          "output_type": "stream",
          "text": [
            "/usr/local/lib/python3.7/dist-packages/tensorflow/python/keras/utils/generic_utils.py:497: CustomMaskWarning: Custom mask layers require a config and must override get_config. When loading, the custom mask layer must be passed to the custom_objects argument.\n",
            "  category=CustomMaskWarning)\n"
          ],
          "name": "stderr"
        },
        {
          "output_type": "stream",
          "text": [
            "Epoch 2/45\n",
            "191/191 [==============================] - 66s 334ms/step - loss: 1.3145 - accuracy: 0.5485 - val_loss: 1.0262 - val_accuracy: 0.6265\n",
            "\n",
            "Epoch 00002: val_accuracy improved from 0.54878 to 0.62652, saving model to dermnet.h5\n",
            "Epoch 3/45\n",
            "191/191 [==============================] - 64s 325ms/step - loss: 1.1397 - accuracy: 0.6002 - val_loss: 0.9782 - val_accuracy: 0.6357\n",
            "\n",
            "Epoch 00003: val_accuracy improved from 0.62652 to 0.63567, saving model to dermnet.h5\n",
            "Epoch 4/45\n",
            "191/191 [==============================] - 66s 332ms/step - loss: 0.9959 - accuracy: 0.6477 - val_loss: 0.9838 - val_accuracy: 0.6410\n",
            "\n",
            "Epoch 00004: val_accuracy improved from 0.63567 to 0.64101, saving model to dermnet.h5\n",
            "Epoch 5/45\n",
            "191/191 [==============================] - 66s 331ms/step - loss: 0.8833 - accuracy: 0.6814 - val_loss: 0.9731 - val_accuracy: 0.6486\n",
            "\n",
            "Epoch 00005: val_accuracy improved from 0.64101 to 0.64863, saving model to dermnet.h5\n",
            "Epoch 6/45\n",
            "191/191 [==============================] - 65s 331ms/step - loss: 0.8127 - accuracy: 0.7060 - val_loss: 0.9909 - val_accuracy: 0.6433\n",
            "\n",
            "Epoch 00006: val_accuracy did not improve from 0.64863\n",
            "Epoch 7/45\n",
            "191/191 [==============================] - 65s 331ms/step - loss: 0.8082 - accuracy: 0.7076 - val_loss: 0.9186 - val_accuracy: 0.6715\n",
            "\n",
            "Epoch 00007: val_accuracy improved from 0.64863 to 0.67149, saving model to dermnet.h5\n",
            "Epoch 8/45\n",
            "191/191 [==============================] - 65s 328ms/step - loss: 0.7389 - accuracy: 0.7282 - val_loss: 0.9642 - val_accuracy: 0.6761\n",
            "\n",
            "Epoch 00008: val_accuracy improved from 0.67149 to 0.67607, saving model to dermnet.h5\n",
            "Epoch 9/45\n",
            "191/191 [==============================] - 66s 334ms/step - loss: 0.7115 - accuracy: 0.7407 - val_loss: 0.9462 - val_accuracy: 0.6745\n",
            "\n",
            "Epoch 00009: val_accuracy did not improve from 0.67607\n",
            "Epoch 10/45\n",
            "191/191 [==============================] - 65s 327ms/step - loss: 0.6215 - accuracy: 0.7724 - val_loss: 0.9726 - val_accuracy: 0.6989\n",
            "\n",
            "Epoch 00010: val_accuracy improved from 0.67607 to 0.69893, saving model to dermnet.h5\n",
            "Epoch 11/45\n",
            "191/191 [==============================] - 65s 329ms/step - loss: 0.6463 - accuracy: 0.7701 - val_loss: 0.9490 - val_accuracy: 0.6867\n",
            "\n",
            "Epoch 00011: val_accuracy did not improve from 0.69893\n",
            "Epoch 12/45\n",
            "191/191 [==============================] - 65s 329ms/step - loss: 0.6074 - accuracy: 0.7829 - val_loss: 0.9248 - val_accuracy: 0.7195\n",
            "\n",
            "Epoch 00012: val_accuracy improved from 0.69893 to 0.71951, saving model to dermnet.h5\n",
            "Epoch 13/45\n",
            "191/191 [==============================] - 64s 325ms/step - loss: 0.5689 - accuracy: 0.7993 - val_loss: 0.9411 - val_accuracy: 0.6951\n",
            "\n",
            "Epoch 00013: val_accuracy did not improve from 0.71951\n",
            "Epoch 14/45\n",
            "191/191 [==============================] - 65s 329ms/step - loss: 0.5403 - accuracy: 0.8068 - val_loss: 0.9649 - val_accuracy: 0.7012\n",
            "\n",
            "Epoch 00014: val_accuracy did not improve from 0.71951\n",
            "Epoch 15/45\n",
            "191/191 [==============================] - 64s 324ms/step - loss: 0.5108 - accuracy: 0.8173 - val_loss: 0.9594 - val_accuracy: 0.7088\n",
            "\n",
            "Epoch 00015: val_accuracy did not improve from 0.71951\n",
            "Epoch 16/45\n",
            "191/191 [==============================] - 65s 329ms/step - loss: 0.5108 - accuracy: 0.8284 - val_loss: 1.0374 - val_accuracy: 0.7012\n",
            "\n",
            "Epoch 00016: val_accuracy did not improve from 0.71951\n",
            "Epoch 17/45\n",
            "191/191 [==============================] - 64s 325ms/step - loss: 0.4928 - accuracy: 0.8320 - val_loss: 0.9481 - val_accuracy: 0.7104\n",
            "\n",
            "Epoch 00017: val_accuracy did not improve from 0.71951\n",
            "Epoch 18/45\n",
            "191/191 [==============================] - 66s 334ms/step - loss: 0.4704 - accuracy: 0.8343 - val_loss: 1.0312 - val_accuracy: 0.7043\n",
            "\n",
            "Epoch 00018: val_accuracy did not improve from 0.71951\n",
            "Epoch 19/45\n",
            "191/191 [==============================] - 68s 341ms/step - loss: 0.4677 - accuracy: 0.8432 - val_loss: 0.9048 - val_accuracy: 0.7027\n",
            "\n",
            "Epoch 00019: val_accuracy did not improve from 0.71951\n",
            "Epoch 20/45\n",
            "191/191 [==============================] - 69s 349ms/step - loss: 0.4316 - accuracy: 0.8546 - val_loss: 1.0466 - val_accuracy: 0.6944\n",
            "\n",
            "Epoch 00020: val_accuracy did not improve from 0.71951\n",
            "Epoch 21/45\n",
            "191/191 [==============================] - 69s 351ms/step - loss: 0.4205 - accuracy: 0.8549 - val_loss: 0.9864 - val_accuracy: 0.7195\n",
            "\n",
            "Epoch 00021: val_accuracy did not improve from 0.71951\n",
            "Epoch 22/45\n",
            "191/191 [==============================] - 69s 348ms/step - loss: 0.3908 - accuracy: 0.8648 - val_loss: 1.0511 - val_accuracy: 0.6959\n",
            "\n",
            "Epoch 00022: val_accuracy did not improve from 0.71951\n",
            "Epoch 23/45\n",
            "191/191 [==============================] - 67s 341ms/step - loss: 0.4045 - accuracy: 0.8595 - val_loss: 0.9383 - val_accuracy: 0.7302\n",
            "\n",
            "Epoch 00023: val_accuracy improved from 0.71951 to 0.73018, saving model to dermnet.h5\n",
            "Epoch 24/45\n",
            "191/191 [==============================] - 66s 332ms/step - loss: 0.3911 - accuracy: 0.8576 - val_loss: 0.9867 - val_accuracy: 0.7157\n",
            "\n",
            "Epoch 00024: val_accuracy did not improve from 0.73018\n",
            "Epoch 25/45\n",
            "191/191 [==============================] - 65s 329ms/step - loss: 0.3862 - accuracy: 0.8687 - val_loss: 1.0268 - val_accuracy: 0.7127\n",
            "\n",
            "Epoch 00025: val_accuracy did not improve from 0.73018\n",
            "Epoch 26/45\n",
            "191/191 [==============================] - 66s 321ms/step - loss: 0.3492 - accuracy: 0.8815 - val_loss: 1.0523 - val_accuracy: 0.7188\n",
            "\n",
            "Epoch 00026: val_accuracy did not improve from 0.73018\n",
            "Epoch 27/45\n",
            "191/191 [==============================] - 63s 319ms/step - loss: 0.3509 - accuracy: 0.8811 - val_loss: 1.1001 - val_accuracy: 0.7165\n",
            "\n",
            "Epoch 00027: val_accuracy did not improve from 0.73018\n",
            "Epoch 28/45\n",
            "191/191 [==============================] - 65s 322ms/step - loss: 0.3603 - accuracy: 0.8792 - val_loss: 1.0612 - val_accuracy: 0.7172\n",
            "\n",
            "Epoch 00028: val_accuracy did not improve from 0.73018\n",
            "Epoch 29/45\n",
            "191/191 [==============================] - 63s 320ms/step - loss: 0.3092 - accuracy: 0.8962 - val_loss: 1.0883 - val_accuracy: 0.7165\n",
            "\n",
            "Epoch 00029: val_accuracy did not improve from 0.73018\n",
            "Epoch 30/45\n",
            "191/191 [==============================] - 64s 323ms/step - loss: 0.3264 - accuracy: 0.8883 - val_loss: 1.2567 - val_accuracy: 0.7027\n",
            "\n",
            "Epoch 00030: val_accuracy did not improve from 0.73018\n",
            "Epoch 31/45\n",
            "191/191 [==============================] - 63s 319ms/step - loss: 0.3224 - accuracy: 0.8857 - val_loss: 1.0621 - val_accuracy: 0.7340\n",
            "\n",
            "Epoch 00031: val_accuracy improved from 0.73018 to 0.73399, saving model to dermnet.h5\n",
            "Epoch 32/45\n",
            "191/191 [==============================] - 64s 321ms/step - loss: 0.2954 - accuracy: 0.9044 - val_loss: 1.1652 - val_accuracy: 0.7271\n",
            "\n",
            "Epoch 00032: val_accuracy did not improve from 0.73399\n",
            "Epoch 33/45\n",
            "191/191 [==============================] - 63s 321ms/step - loss: 0.3158 - accuracy: 0.8949 - val_loss: 1.0762 - val_accuracy: 0.7332\n",
            "\n",
            "Epoch 00033: val_accuracy did not improve from 0.73399\n",
            "Epoch 34/45\n",
            "191/191 [==============================] - 64s 321ms/step - loss: 0.2854 - accuracy: 0.8991 - val_loss: 1.1581 - val_accuracy: 0.7393\n",
            "\n",
            "Epoch 00034: val_accuracy improved from 0.73399 to 0.73933, saving model to dermnet.h5\n",
            "Epoch 35/45\n",
            "191/191 [==============================] - 63s 319ms/step - loss: 0.2885 - accuracy: 0.8969 - val_loss: 1.1109 - val_accuracy: 0.7340\n",
            "\n",
            "Epoch 00035: val_accuracy did not improve from 0.73933\n",
            "Epoch 36/45\n",
            "191/191 [==============================] - 63s 319ms/step - loss: 0.2758 - accuracy: 0.9080 - val_loss: 1.1643 - val_accuracy: 0.7325\n",
            "\n",
            "Epoch 00036: val_accuracy did not improve from 0.73933\n",
            "Epoch 37/45\n",
            "191/191 [==============================] - 63s 317ms/step - loss: 0.2508 - accuracy: 0.9155 - val_loss: 1.1754 - val_accuracy: 0.7317\n",
            "\n",
            "Epoch 00037: val_accuracy did not improve from 0.73933\n",
            "Epoch 38/45\n",
            "191/191 [==============================] - 66s 323ms/step - loss: 0.2597 - accuracy: 0.9129 - val_loss: 1.1762 - val_accuracy: 0.7363\n",
            "\n",
            "Epoch 00038: val_accuracy did not improve from 0.73933\n",
            "Epoch 39/45\n",
            "191/191 [==============================] - 63s 317ms/step - loss: 0.2513 - accuracy: 0.9198 - val_loss: 1.0944 - val_accuracy: 0.7340\n",
            "\n",
            "Epoch 00039: val_accuracy did not improve from 0.73933\n",
            "Epoch 40/45\n",
            "191/191 [==============================] - 66s 322ms/step - loss: 0.2266 - accuracy: 0.9250 - val_loss: 1.2827 - val_accuracy: 0.7309\n",
            "\n",
            "Epoch 00040: val_accuracy did not improve from 0.73933\n",
            "Epoch 41/45\n",
            "191/191 [==============================] - 65s 318ms/step - loss: 0.2338 - accuracy: 0.9217 - val_loss: 1.2421 - val_accuracy: 0.7431\n",
            "\n",
            "Epoch 00041: val_accuracy improved from 0.73933 to 0.74314, saving model to dermnet.h5\n",
            "Epoch 42/45\n",
            "191/191 [==============================] - 63s 320ms/step - loss: 0.2507 - accuracy: 0.9142 - val_loss: 1.2158 - val_accuracy: 0.7264\n",
            "\n",
            "Epoch 00042: val_accuracy did not improve from 0.74314\n",
            "Epoch 43/45\n",
            "191/191 [==============================] - 61s 307ms/step - loss: 0.2237 - accuracy: 0.9221 - val_loss: 1.2272 - val_accuracy: 0.7302\n",
            "\n",
            "Epoch 00043: val_accuracy did not improve from 0.74314\n",
            "Epoch 44/45\n",
            "191/191 [==============================] - 61s 307ms/step - loss: 0.2047 - accuracy: 0.9322 - val_loss: 1.2533 - val_accuracy: 0.7409\n",
            "\n",
            "Epoch 00044: val_accuracy did not improve from 0.74314\n",
            "Epoch 45/45\n",
            "191/191 [==============================] - 60s 305ms/step - loss: 0.2091 - accuracy: 0.9306 - val_loss: 1.1400 - val_accuracy: 0.7515\n",
            "\n",
            "Epoch 00045: val_accuracy improved from 0.74314 to 0.75152, saving model to dermnet.h5\n"
          ],
          "name": "stdout"
        }
      ]
    },
    {
      "cell_type": "code",
      "metadata": {
        "colab": {
          "base_uri": "https://localhost:8080/"
        },
        "id": "nB80tLA0rgQV",
        "outputId": "46df4dfb-fa33-482b-eec0-1ef64e8187bc"
      },
      "source": [
        "model.summary()"
      ],
      "execution_count": 50,
      "outputs": [
        {
          "output_type": "stream",
          "text": [
            "Model: \"sequential\"\n",
            "_________________________________________________________________\n",
            "Layer (type)                 Output Shape              Param #   \n",
            "=================================================================\n",
            "lambda (Lambda)              (None, 224, 224, None)    0         \n",
            "_________________________________________________________________\n",
            "resnet50 (Functional)        (None, 7, 7, 2048)        23587712  \n",
            "_________________________________________________________________\n",
            "flatten (Flatten)            (None, 100352)            0         \n",
            "_________________________________________________________________\n",
            "dense (Dense)                (None, 1024)              102761472 \n",
            "_________________________________________________________________\n",
            "dense_1 (Dense)              (None, 512)               524800    \n",
            "_________________________________________________________________\n",
            "dropout (Dropout)            (None, 512)               0         \n",
            "_________________________________________________________________\n",
            "dense_2 (Dense)              (None, 256)               131328    \n",
            "_________________________________________________________________\n",
            "dropout_1 (Dropout)          (None, 256)               0         \n",
            "_________________________________________________________________\n",
            "dense_3 (Dense)              (None, 128)               32896     \n",
            "_________________________________________________________________\n",
            "dropout_2 (Dropout)          (None, 128)               0         \n",
            "_________________________________________________________________\n",
            "dense_4 (Dense)              (None, 5)                 645       \n",
            "=================================================================\n",
            "Total params: 127,038,853\n",
            "Trainable params: 103,451,141\n",
            "Non-trainable params: 23,587,712\n",
            "_________________________________________________________________\n"
          ],
          "name": "stdout"
        }
      ]
    },
    {
      "cell_type": "markdown",
      "metadata": {
        "id": "vZn-eIzZ3LHR"
      },
      "source": [
        "# Show Accuracy"
      ]
    },
    {
      "cell_type": "code",
      "metadata": {
        "id": "s6he6Xmp3NNL",
        "colab": {
          "base_uri": "https://localhost:8080/",
          "height": 547
        },
        "outputId": "3f76a2d4-2617-4d96-bbd7-e9694873c271"
      },
      "source": [
        "import matplotlib.pyplot as plt\n",
        "acc = history.history['accuracy']\n",
        "loss = history.history['loss']\n",
        "val_acc = history.history['val_accuracy']\n",
        "val_loss = history.history['val_loss']\n",
        "epochs = range(len(acc))\n",
        "plt.plot(epochs, acc, 'b', label = 'Training accuracy')\n",
        "plt.plot(epochs, val_acc, 'r', label = 'Validation accuracy')\n",
        "plt.legend(loc=0)\n",
        "plt.figure()\n",
        "\n",
        "plt.show()\n",
        "\n",
        "plt.plot(epochs, loss, 'b', label = 'Training loss')\n",
        "plt.plot(epochs, val_loss, 'r', label = 'Validation loss')\n",
        "plt.legend(loc=0)\n",
        "plt.figure()\n",
        "\n",
        "plt.show()"
      ],
      "execution_count": 51,
      "outputs": [
        {
          "output_type": "display_data",
          "data": {
            "image/png": "[encoded data removed]",
            "text/plain": [
              "<Figure size 432x288 with 1 Axes>"
            ]
          },
          "metadata": {
            "tags": [],
            "needs_background": "light"
          }
        },
        {
          "output_type": "display_data",
          "data": {
            "text/plain": [
              "<Figure size 432x288 with 0 Axes>"
            ]
          },
          "metadata": {
            "tags": []
          }
        },
        {
          "output_type": "display_data",
          "data": {
            "image/png": "[encoded data removed]",
            "text/plain": [
              "<Figure size 432x288 with 1 Axes>"
            ]
          },
          "metadata": {
            "tags": [],
            "needs_background": "light"
          }
        },
        {
          "output_type": "display_data",
          "data": {
            "text/plain": [
              "<Figure size 432x288 with 0 Axes>"
            ]
          },
          "metadata": {
            "tags": []
          }
        }
      ]
    },
    {
      "cell_type": "markdown",
      "metadata": {
        "id": "leOPEss63OoX"
      },
      "source": [
        "# Confusion Matrix"
      ]
    },
    {
      "cell_type": "code",
      "metadata": {
        "id": "tvvS3R0O3VGX",
        "colab": {
          "base_uri": "https://localhost:8080/"
        },
        "outputId": "2c4277e6-acf1-4229-dcdf-47712a70def8"
      },
      "source": [
        "print(validation_generator.classes)"
      ],
      "execution_count": 52,
      "outputs": [
        {
          "output_type": "stream",
          "text": [
            "[0 0 0 ... 4 4 4]\n"
          ],
          "name": "stdout"
        }
      ]
    },
    {
      "cell_type": "code",
      "metadata": {
        "id": "uTaevIaO3Vr9",
        "colab": {
          "base_uri": "https://localhost:8080/"
        },
        "outputId": "e69190d6-b2b6-4e26-91d5-b740e8aa7161"
      },
      "source": [
        "from sklearn.metrics import classification_report, confusion_matrix\n",
        "import numpy as np\n",
        "\n",
        "num_test_images = 1457 \n",
        "# Y_pred = finetune_model.predict_generator(validation_generator, num_test_images // BATCH_SIZE+1)\n",
        "Y_pred = model.predict_generator(validation_generator, num_test_images)\n",
        "y_pred = np.argmax(Y_pred, axis=1)\n",
        "print('Confusion Matrix')\n",
        "print(confusion_matrix(validation_generator.classes, y_pred))\n",
        "print('\\nClassification Report')\n",
        "# 7 target_names = ['Acne and Rosacea Photos', 'Actinic Keratosis Basal Cell Carcinoma and other Malignant Lesions', 'Eczema Photos', 'Light Diseases and Disorders of Pigmentation', 'Nail Fungus and other Nail Disease', 'Vascular Tumors', 'Warts Molluscum and other Viral Infections']\n",
        "# 5 target_names = ['Acne and Rosacea Photos', 'Actinic Keratosis Basal Cell Carcinoma and other Malignant Lesions', 'Light Diseases and Disorders of Pigmentation', 'Vascular Tumors', 'Warts Molluscum and other Viral Infections']\n",
        "target_names = ['Acne and Rosacea Photos', 'Actinic Keratosis Basal Cell Carcinoma and other Malignant Lesions', 'Eczema Photos', 'Light Diseases and Disorders of Pigmentation', 'Nail Fungus and other Nail Disease', 'Vascular Tumors', 'Warts Molluscum and other Viral Infections']\n",
        "\n",
        "print(classification_report(validation_generator.classes, y_pred, target_names=used_data))"
      ],
      "execution_count": 53,
      "outputs": [
        {
          "output_type": "stream",
          "text": [
            "/usr/local/lib/python3.7/dist-packages/tensorflow/python/keras/engine/training.py:2001: UserWarning: `Model.predict_generator` is deprecated and will be removed in a future version. Please use `Model.predict`, which supports generators.\n",
            "  warnings.warn('`Model.predict_generator` is deprecated and '\n"
          ],
          "name": "stderr"
        },
        {
          "output_type": "stream",
          "text": [
            "WARNING:tensorflow:Your input ran out of data; interrupting training. Make sure that your dataset or generator can generate at least `steps_per_epoch * epochs` batches (in this case, 1457 batches). You may need to use the repeat() function when building your dataset.\n",
            "Confusion Matrix\n",
            "[[63 74 82 34 58]\n",
            " [63 68 91 22 44]\n",
            " [65 76 86 39 43]\n",
            " [44 34 35 14 16]\n",
            " [62 70 70 21 38]]\n",
            "\n",
            "Classification Report\n",
            "                                                                    precision    recall  f1-score   support\n",
            "\n",
            "                                           Acne and Rosacea Photos       0.21      0.20      0.21       311\n",
            "Actinic Keratosis Basal Cell Carcinoma and other Malignant Lesions       0.21      0.24      0.22       288\n",
            "                                                     Eczema Photos       0.24      0.28      0.26       309\n",
            "                      Light Diseases and Disorders of Pigmentation       0.11      0.10      0.10       143\n",
            "                                Nail Fungus and other Nail Disease       0.19      0.15      0.17       261\n",
            "\n",
            "                                                          accuracy                           0.21      1312\n",
            "                                                         macro avg       0.19      0.19      0.19      1312\n",
            "                                                      weighted avg       0.20      0.21      0.20      1312\n",
            "\n"
          ],
          "name": "stdout"
        }
      ]
    },
    {
      "cell_type": "markdown",
      "metadata": {
        "id": "hqCmCNRD3h0I"
      },
      "source": [
        "# Test Predict"
      ]
    },
    {
      "cell_type": "code",
      "metadata": {
        "colab": {
          "resources": {
            "http://localhost:8080/nbextensions/google.colab/files.js": {
              "data": "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",
              "ok": true,
              "headers": [
                [
                  "content-type",
                  "application/javascript"
                ]
              ],
              "status": 200,
              "status_text": ""
            }
          },
          "base_uri": "https://localhost:8080/",
          "height": 177
        },
        "id": "PsfqlSVp3jGN",
        "outputId": "0c6f62d0-8c36-4387-a543-107652cbae40"
      },
      "source": [
        "import numpy as np\n",
        "from google.colab import files\n",
        "from keras.preprocessing import image\n",
        "\n",
        "uploaded = files.upload()\n",
        "\n",
        "for fn in uploaded.keys():\n",
        " \n",
        "  # predicting images\n",
        "  path = '/content/' + fn\n",
        "  img = image.load_img(path, target_size=(224, 224))\n",
        "  x = image.img_to_array(img)\n",
        "  x = np.expand_dims(x, axis=0)\n",
        "\n",
        "  images = np.vstack([x])\n",
        "  classes = model.predict(images)\n",
        "  classes_predict = model.predict_classes(images)\n",
        "  print(classes)\n",
        "  print(classes_predict)\n",
        "  print(used_data[np.argmax(classes)])"
      ],
      "execution_count": 57,
      "outputs": [
        {
          "output_type": "display_data",
          "data": {
            "text/html": [
              "\n",
              "     <input type=\"file\" id=\"files-f0a68148-d62a-4488-972f-92ced3ce80a5\" name=\"files[]\" multiple disabled\n",
              "        style=\"border:none\" />\n",
              "     <output id=\"result-f0a68148-d62a-4488-972f-92ced3ce80a5\">\n",
              "      Upload widget is only available when the cell has been executed in the\n",
              "      current browser session. Please rerun this cell to enable.\n",
              "      </output>\n",
              "      <script src=\"/nbextensions/google.colab/files.js\"></script> "
            ],
            "text/plain": [
              "<IPython.core.display.HTML object>"
            ]
          },
          "metadata": {
            "tags": []
          }
        },
        {
          "output_type": "stream",
          "text": [
            "Saving t-eczema-foot-43.jpg to t-eczema-foot-43 (3).jpg\n",
            "[[1.2619196e-07 1.8601007e-05 9.9996102e-01 1.8107496e-05 2.1384030e-06]]\n",
            "[2]\n",
            "Eczema Photos\n"
          ],
          "name": "stdout"
        },
        {
          "output_type": "stream",
          "text": [
            "/usr/local/lib/python3.7/dist-packages/tensorflow/python/keras/engine/sequential.py:455: UserWarning: `model.predict_classes()` is deprecated and will be removed after 2021-01-01. Please use instead:* `np.argmax(model.predict(x), axis=-1)`,   if your model does multi-class classification   (e.g. if it uses a `softmax` last-layer activation).* `(model.predict(x) > 0.5).astype(\"int32\")`,   if your model does binary classification   (e.g. if it uses a `sigmoid` last-layer activation).\n",
            "  warnings.warn('`model.predict_classes()` is deprecated and '\n"
          ],
          "name": "stderr"
        }
      ]
    },
    {
      "cell_type": "markdown",
      "metadata": {
        "id": "uiKxeKrG2z9R"
      },
      "source": [
        "# Save Model"
      ]
    },
    {
      "cell_type": "code",
      "metadata": {
        "colab": {
          "base_uri": "https://localhost:8080/"
        },
        "id": "dKGW5xV17uDw",
        "outputId": "10ca23ab-c73d-4ba4-950e-84f700f42214"
      },
      "source": [
        "model.save(\"dermnet.h5\")"
      ],
      "execution_count": 59,
      "outputs": [
        {
          "output_type": "stream",
          "text": [
            "/usr/local/lib/python3.7/dist-packages/tensorflow/python/keras/utils/generic_utils.py:497: CustomMaskWarning: Custom mask layers require a config and must override get_config. When loading, the custom mask layer must be passed to the custom_objects argument.\n",
            "  category=CustomMaskWarning)\n"
          ],
          "name": "stderr"
        }
      ]
    },
    {
      "cell_type": "markdown",
      "metadata": {
        "id": "W2V85xeG25Nl"
      },
      "source": [
        "# Upload to GCS"
      ]
    },
    {
      "cell_type": "code",
      "metadata": {
        "colab": {
          "base_uri": "https://localhost:8080/"
        },
        "id": "_PltecFa9U8X",
        "outputId": "d4f8f324-3c32-480e-c6ef-d295977032e3"
      },
      "source": [
        "!ls -al"
      ],
      "execution_count": 60,
      "outputs": [
        {
          "output_type": "stream",
          "text": [
            "total 4414460\n",
            "drwxr-xr-x 1 root root       4096 Jun  5 12:27  .\n",
            "drwxr-xr-x 1 root root       4096 Jun  5 11:24  ..\n",
            "drwxr-xr-x 4 root root       4096 Jun  1 13:40  .config\n",
            "-rw-r--r-- 1 root root 1336132696 Jun  5 12:27  dermnet.h5\n",
            "-rw-r--r-- 1 root root 1847748564 Jun  5 11:26  dermnet.zip\n",
            "-rw-r--r-- 1 root root      18956 Jun  5 11:27  file.txt\n",
            "drwxr-xr-x 2 root root       4096 Jun  5 12:27  .ipynb_checkpoints\n",
            "-rw-r--r-- 1 root root         68 Jun  5 11:25  kaggle.json\n",
            "drwxr-xr-x 1 root root       4096 Jun  1 13:40  sample_data\n",
            "-rw-r--r-- 1 root root      81003 Jun  5 12:23 't-eczema-foot-43 (1).jpg'\n",
            "-rw-r--r-- 1 root root      81003 Jun  5 12:25 't-eczema-foot-43 (2).jpg'\n",
            "-rw-r--r-- 1 root root      81003 Jun  5 12:26 't-eczema-foot-43 (3).jpg'\n",
            "-rw-r--r-- 1 root root      81003 Jun  5 12:22  t-eczema-foot-43.jpg\n",
            "-rw-r--r-- 1 root root 1336132696 Jun  5 12:20  train_dermnet.h5\n"
          ],
          "name": "stdout"
        }
      ]
    },
    {
      "cell_type": "code",
      "metadata": {
        "id": "SKlO8PZT9ftb"
      },
      "source": [
        "from google.colab import auth\n",
        "auth.authenticate_user()"
      ],
      "execution_count": 61,
      "outputs": []
    },
    {
      "cell_type": "code",
      "metadata": {
        "id": "V9fVJ8aXANPx"
      },
      "source": [
        "project_id ='plexiform-being-312905'\n",
        "bucket_name = 'dermnet'"
      ],
      "execution_count": 62,
      "outputs": []
    },
    {
      "cell_type": "code",
      "metadata": {
        "id": "fL0tbtnZpFzm",
        "colab": {
          "base_uri": "https://localhost:8080/",
          "height": 35
        },
        "outputId": "01b52ad4-e0c0-4b97-c54b-9784beeb00b4"
      },
      "source": [
        "from datetime import datetime\n",
        "\n",
        "now = datetime.now()\n",
        "current_time = now.strftime(\"%d%m%y-%H%M%S\")\n",
        "current_time"
      ],
      "execution_count": 63,
      "outputs": [
        {
          "output_type": "execute_result",
          "data": {
            "application/vnd.google.colaboratory.intrinsic+json": {
              "type": "string"
            },
            "text/plain": [
              "'050621-122837'"
            ]
          },
          "metadata": {
            "tags": []
          },
          "execution_count": 63
        }
      ]
    },
    {
      "cell_type": "code",
      "metadata": {
        "colab": {
          "base_uri": "https://localhost:8080/"
        },
        "id": "SK2k8uC7AfoE",
        "outputId": "a730c936-fac8-4ad8-a59f-d92c9697470e"
      },
      "source": [
        "!gsutil cp dermnet.h5 gs://{bucket_name}/{current_time}/"
      ],
      "execution_count": 64,
      "outputs": [
        {
          "output_type": "stream",
          "text": [
            "Copying file://dermnet.h5 [Content-Type=application/octet-stream]...\n",
            "/ [0 files][    0.0 B/  1.2 GiB]                                                \r==> NOTE: You are uploading one or more large file(s), which would run\n",
            "significantly faster if you enable parallel composite uploads. This\n",
            "feature can be enabled by editing the\n",
            "\"parallel_composite_upload_threshold\" value in your .boto\n",
            "configuration file. However, note that if you do this large files will\n",
            "be uploaded as `composite objects\n",
            "<https://cloud.google.com/storage/docs/composite-objects>`_,which\n",
            "means that any user who downloads such objects will need to have a\n",
            "compiled crcmod installed (see \"gsutil help crcmod\"). This is because\n",
            "without a compiled crcmod, computing checksums on composite objects is\n",
            "so slow that gsutil disables downloads of composite objects.\n",
            "\n",
            "/\n",
            "Operation completed over 1 objects/1.2 GiB.                                      \n"
          ],
          "name": "stdout"
        }
      ]
    },
    {
      "cell_type": "code",
      "metadata": {
        "id": "zj-CJd6AJZbj"
      },
      "source": [
        ""
      ],
      "execution_count": null,
      "outputs": []
    }
  ]
}