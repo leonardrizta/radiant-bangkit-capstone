{
  "nbformat": 4,
  "nbformat_minor": 0,
  "metadata": {
    "colab": {
      "name": "main_notebook",
      "provenance": [],
      "toc_visible": true
    },
    "kernelspec": {
      "name": "python3",
      "display_name": "Python 3"
    },
    "language_info": {
      "name": "python"
    },
    "accelerator": "GPU"
  },
  "cells": [
    {
      "cell_type": "markdown",
      "metadata": {
        "id": "MV-KNwm38TDQ"
      },
      "source": [
        "# Kaggle Preparation"
      ]
    },
    {
      "cell_type": "code",
      "metadata": {
        "id": "fy-ntV4ZP0uW"
      },
      "source": [
        "import os\n",
        "import zipfile\n",
        "import random\n",
        "import shutil\n",
        "import tensorflow as tf\n",
        "from tensorflow.keras.optimizers import RMSprop\n",
        "from tensorflow.keras.preprocessing.image import ImageDataGenerator\n",
        "from shutil import copyfile\n",
        "from os import getcwd"
      ],
      "execution_count": null,
      "outputs": []
    },
    {
      "cell_type": "code",
      "metadata": {
        "colab": {
          "resources": {
            "http://localhost:8080/nbextensions/google.colab/files.js": {
              "data": "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",
              "ok": true,
              "headers": [
                [
                  "content-type",
                  "application/javascript"
                ]
              ],
              "status": 200,
              "status_text": ""
            }
          },
          "base_uri": "https://localhost:8080/",
          "height": 89
        },
        "id": "aJ-_fjf-QHZy",
        "outputId": "cbe51ecb-d385-4a20-a2f2-9e4bef7cde65"
      },
      "source": [
        "!pip install -q kaggle\n",
        "from google.colab import files\n",
        "files.upload()"
      ],
      "execution_count": null,
      "outputs": [
        {
          "output_type": "display_data",
          "data": {
            "text/html": [
              "\n",
              "     <input type=\"file\" id=\"files-5d59c195-b25d-455e-a0cd-adc19ca76828\" name=\"files[]\" multiple disabled\n",
              "        style=\"border:none\" />\n",
              "     <output id=\"result-5d59c195-b25d-455e-a0cd-adc19ca76828\">\n",
              "      Upload widget is only available when the cell has been executed in the\n",
              "      current browser session. Please rerun this cell to enable.\n",
              "      </output>\n",
              "      <script src=\"/nbextensions/google.colab/files.js\"></script> "
            ],
            "text/plain": [
              "<IPython.core.display.HTML object>"
            ]
          },
          "metadata": {
            "tags": []
          }
        },
        {
          "output_type": "stream",
          "text": [
            "Saving kaggle.json to kaggle (1).json\n"
          ],
          "name": "stdout"
        },
        {
          "output_type": "execute_result",
          "data": {
            "text/plain": [
              "{'kaggle.json': b'{\"username\":\"leonardrizta\",\"key\":\"9e49c9b604d0e7ce6ee28ad39bffc2b1\"}'}"
            ]
          },
          "metadata": {
            "tags": []
          },
          "execution_count": 4
        }
      ]
    },
    {
      "cell_type": "code",
      "metadata": {
        "colab": {
          "base_uri": "https://localhost:8080/"
        },
        "id": "TKNTF_8qQKtH",
        "outputId": "979ca1e6-7a9a-4fad-9e50-b9310d583ed9"
      },
      "source": [
        "! mkdir ~/.kaggle\n",
        "! cp kaggle.json ~/.kaggle/\n",
        "! chmod 600 ~/.kaggle/kaggle.json\n",
        "! kaggle datasets list"
      ],
      "execution_count": null,
      "outputs": [
        {
          "output_type": "stream",
          "text": [
            "mkdir: cannot create directory ‘/root/.kaggle’: File exists\n",
            "Warning: Looks like you're using an outdated API Version, please consider updating (server 1.5.12 / client 1.5.4)\n",
            "ref                                                         title                                              size  lastUpdated          downloadCount  \n",
            "----------------------------------------------------------  ------------------------------------------------  -----  -------------------  -------------  \n",
            "gpreda/reddit-vaccine-myths                                 Reddit Vaccine Myths                              229KB  2021-05-21 06:23:33           5983  \n",
            "crowww/a-large-scale-fish-dataset                           A Large Scale Fish Dataset                          3GB  2021-04-28 17:03:01           3342  \n",
            "imsparsh/musicnet-dataset                                   MusicNet Dataset                                   22GB  2021-02-18 14:12:19           1180  \n",
            "dhruvildave/wikibooks-dataset                               Wikibooks Dataset                                   1GB  2021-02-18 10:08:27           1921  \n",
            "promptcloud/careerbuilder-job-listing-2020                  Careerbuilder Job Listing 2020                     42MB  2021-03-05 06:59:52            843  \n",
            "mathurinache/twitter-edge-nodes                             Twitter Edge Nodes                                342MB  2021-03-08 06:43:04            407  \n",
            "alsgroup/end-als                                            End ALS Kaggle Challenge                           12GB  2021-04-08 12:16:37            637  \n",
            "fatiimaezzahra/famous-iconic-women                          Famous Iconic Women                               838MB  2021-02-28 14:56:00            619  \n",
            "simiotic/github-code-snippets                               GitHub Code Snippets                                7GB  2021-03-03 11:34:39            127  \n",
            "nickuzmenkov/nih-chest-xrays-tfrecords                      NIH Chest X-rays TFRecords                         11GB  2021-03-09 04:49:23            515  \n",
            "coloradokb/dandelionimages                                  DandelionImages                                     4GB  2021-02-19 20:03:47            326  \n",
            "mathurinache/the-lj-speech-dataset                          The LJ Speech Dataset                               3GB  2021-02-15 09:19:54            150  \n",
            "stuartjames/lights                                          LightS: Light Specularity Dataset                  18GB  2021-02-18 14:32:26             56  \n",
            "landrykezebou/lvzhdr-tone-mapping-benchmark-dataset-tmonet  LVZ-HDR Tone Mapping Benchmark Dataset (TMO-Net)   24GB  2021-03-01 05:03:40             72  \n",
            "imsparsh/accentdb-core-extended                             AccentDB - Core & Extended                          6GB  2021-02-17 14:22:54             65  \n",
            "nickuzmenkov/ranzcr-clip-kfold-tfrecords                    RANZCR CLiP KFold TFRecords                         2GB  2021-02-21 13:29:51             78  \n",
            "datasnaek/youtube-new                                       Trending YouTube Video Statistics                 201MB  2019-06-03 00:56:47         140722  \n",
            "zynicide/wine-reviews                                       Wine Reviews                                       51MB  2017-11-27 17:08:04         136945  \n",
            "datasnaek/chess                                             Chess Game Dataset (Lichess)                        3MB  2017-09-04 03:09:09          18464  \n",
            "residentmario/ramen-ratings                                 Ramen Ratings                                      40KB  2018-01-11 16:04:39          23206  \n"
          ],
          "name": "stdout"
        }
      ]
    },
    {
      "cell_type": "code",
      "metadata": {
        "colab": {
          "base_uri": "https://localhost:8080/"
        },
        "id": "A1nF5_DlQMaB",
        "outputId": "8fa91895-6ad6-47d9-d0c1-a1c0cfdfce67"
      },
      "source": [
        "!kaggle datasets download -d shubhamgoel27/dermnet"
      ],
      "execution_count": null,
      "outputs": [
        {
          "output_type": "stream",
          "text": [
            "Downloading dermnet.zip to /content\n",
            "100% 1.72G/1.72G [00:36<00:00, 67.1MB/s]\n",
            "100% 1.72G/1.72G [00:36<00:00, 50.0MB/s]\n"
          ],
          "name": "stdout"
        }
      ]
    },
    {
      "cell_type": "code",
      "metadata": {
        "id": "5zizGAUhQOSl"
      },
      "source": [
        "dataset_path = \"/content/dermnet.zip\"\n",
        "zip_ref = zipfile.ZipFile(dataset_path, 'r')\n",
        "zip_ref.extractall('/tmp/')\n",
        "zip_ref.close()"
      ],
      "execution_count": null,
      "outputs": []
    },
    {
      "cell_type": "markdown",
      "metadata": {
        "id": "VVZOlL5x8eQY"
      },
      "source": [
        "# Dataset Preparation"
      ]
    },
    {
      "cell_type": "code",
      "metadata": {
        "id": "_BW3vjALQQSl"
      },
      "source": [
        "train_data_dir = '/tmp/train/'\n",
        "validation_data_dir = '/tmp/test/'"
      ],
      "execution_count": null,
      "outputs": []
    },
    {
      "cell_type": "code",
      "metadata": {
        "colab": {
          "base_uri": "https://localhost:8080/"
        },
        "id": "-z7wuYhTQcwG",
        "outputId": "5a5906f7-846e-4cd3-e8b9-04b3c11ad37c"
      },
      "source": [
        "train_data_list = os.listdir(train_data_dir)\n",
        "validation_data_list = os.listdir(validation_data_dir)\n",
        "print(os.listdir(train_data_dir))\n",
        "print(os.listdir(validation_data_dir))\n",
        "print(len(os.listdir(train_data_dir)))\n",
        "print(len(os.listdir(validation_data_dir)))"
      ],
      "execution_count": null,
      "outputs": [
        {
          "output_type": "stream",
          "text": [
            "['Hair Loss Photos Alopecia and other Hair Diseases', 'Eczema Photos', 'Tinea Ringworm Candidiasis and other Fungal Infections', 'Scabies Lyme Disease and other Infestations and Bites', 'Herpes HPV and other STDs Photos', 'Acne and Rosacea Photos', 'Warts Molluscum and other Viral Infections', 'Systemic Disease', 'Vascular Tumors', 'Light Diseases and Disorders of Pigmentation', 'Lupus and other Connective Tissue diseases', 'Atopic Dermatitis Photos', 'Bullous Disease Photos', 'Melanoma Skin Cancer Nevi and Moles', 'Actinic Keratosis Basal Cell Carcinoma and other Malignant Lesions', 'Exanthems and Drug Eruptions', 'Poison Ivy Photos and other Contact Dermatitis', 'Vasculitis Photos', 'Urticaria Hives', 'Seborrheic Keratoses and other Benign Tumors', 'Cellulitis Impetigo and other Bacterial Infections', 'Nail Fungus and other Nail Disease', 'Psoriasis pictures Lichen Planus and related diseases']\n",
            "['Hair Loss Photos Alopecia and other Hair Diseases', 'Eczema Photos', 'Tinea Ringworm Candidiasis and other Fungal Infections', 'Scabies Lyme Disease and other Infestations and Bites', 'Herpes HPV and other STDs Photos', 'Acne and Rosacea Photos', 'Warts Molluscum and other Viral Infections', 'Systemic Disease', 'Vascular Tumors', 'Light Diseases and Disorders of Pigmentation', 'Lupus and other Connective Tissue diseases', 'Atopic Dermatitis Photos', 'Bullous Disease Photos', 'Melanoma Skin Cancer Nevi and Moles', 'Actinic Keratosis Basal Cell Carcinoma and other Malignant Lesions', 'Exanthems and Drug Eruptions', 'Poison Ivy Photos and other Contact Dermatitis', 'Vasculitis Photos', 'Urticaria Hives', 'Seborrheic Keratoses and other Benign Tumors', 'Cellulitis Impetigo and other Bacterial Infections', 'Nail Fungus and other Nail Disease', 'Psoriasis pictures Lichen Planus and related diseases']\n",
            "23\n",
            "23\n"
          ],
          "name": "stdout"
        }
      ]
    },
    {
      "cell_type": "code",
      "metadata": {
        "id": "xnpoAI-8QoM9"
      },
      "source": [
        "train_folder_dict = dict(zip(train_data_list, [len(os.listdir(train_data_dir + folder)) for folder in train_data_list]))"
      ],
      "execution_count": null,
      "outputs": []
    },
    {
      "cell_type": "code",
      "metadata": {
        "colab": {
          "base_uri": "https://localhost:8080/"
        },
        "id": "A8z6i1yO1TkY",
        "outputId": "f010af9c-050e-4601-a1bd-eebc9c6606c6"
      },
      "source": [
        "sorted_tuples = sorted(train_folder_dict.items(), key=lambda item: item[1], reverse=True)\n",
        "sorted_dict = {k: v for k, v in sorted_tuples}\n",
        "print(sorted_dict)"
      ],
      "execution_count": null,
      "outputs": [
        {
          "output_type": "stream",
          "text": [
            "{'Psoriasis pictures Lichen Planus and related diseases': 1405, 'Seborrheic Keratoses and other Benign Tumors': 1371, 'Tinea Ringworm Candidiasis and other Fungal Infections': 1300, 'Eczema Photos': 1235, 'Actinic Keratosis Basal Cell Carcinoma and other Malignant Lesions': 1149, 'Warts Molluscum and other Viral Infections': 1086, 'Nail Fungus and other Nail Disease': 1040, 'Acne and Rosacea Photos': 840, 'Systemic Disease': 606, 'Light Diseases and Disorders of Pigmentation': 568, 'Atopic Dermatitis Photos': 489, 'Vascular Tumors': 482, 'Melanoma Skin Cancer Nevi and Moles': 463, 'Bullous Disease Photos': 448, 'Scabies Lyme Disease and other Infestations and Bites': 431, 'Lupus and other Connective Tissue diseases': 420, 'Vasculitis Photos': 416, 'Herpes HPV and other STDs Photos': 405, 'Exanthems and Drug Eruptions': 404, 'Cellulitis Impetigo and other Bacterial Infections': 288, 'Poison Ivy Photos and other Contact Dermatitis': 260, 'Hair Loss Photos Alopecia and other Hair Diseases': 239, 'Urticaria Hives': 212}\n"
          ],
          "name": "stdout"
        }
      ]
    },
    {
      "cell_type": "code",
      "metadata": {
        "colab": {
          "base_uri": "https://localhost:8080/"
        },
        "id": "_hFpa1nA4xXO",
        "outputId": "8b4c1e7e-f979-42af-8cfa-22b2e40ee2b7"
      },
      "source": [
        "seven_highest_data = {k: v for k, v in sorted_tuples[:7]}\n",
        "print(seven_highest_data)\n",
        "unused_data = {k: v for k, v in sorted_tuples[7:]}\n",
        "print(unused_data)"
      ],
      "execution_count": null,
      "outputs": [
        {
          "output_type": "stream",
          "text": [
            "{'Psoriasis pictures Lichen Planus and related diseases': 1405, 'Seborrheic Keratoses and other Benign Tumors': 1371, 'Tinea Ringworm Candidiasis and other Fungal Infections': 1300, 'Eczema Photos': 1235, 'Actinic Keratosis Basal Cell Carcinoma and other Malignant Lesions': 1149, 'Warts Molluscum and other Viral Infections': 1086, 'Nail Fungus and other Nail Disease': 1040}\n",
            "{'Acne and Rosacea Photos': 840, 'Systemic Disease': 606, 'Light Diseases and Disorders of Pigmentation': 568, 'Atopic Dermatitis Photos': 489, 'Vascular Tumors': 482, 'Melanoma Skin Cancer Nevi and Moles': 463, 'Bullous Disease Photos': 448, 'Scabies Lyme Disease and other Infestations and Bites': 431, 'Lupus and other Connective Tissue diseases': 420, 'Vasculitis Photos': 416, 'Herpes HPV and other STDs Photos': 405, 'Exanthems and Drug Eruptions': 404, 'Cellulitis Impetigo and other Bacterial Infections': 288, 'Poison Ivy Photos and other Contact Dermatitis': 260, 'Hair Loss Photos Alopecia and other Hair Diseases': 239, 'Urticaria Hives': 212}\n"
          ],
          "name": "stdout"
        }
      ]
    },
    {
      "cell_type": "code",
      "metadata": {
        "colab": {
          "base_uri": "https://localhost:8080/"
        },
        "id": "9QKLApzr6Kyb",
        "outputId": "92093b75-1f2b-4a8a-aca8-e7256ac29ba4"
      },
      "source": [
        "for data in unused_data:\n",
        "  try:\n",
        "    shutil.rmtree(train_data_dir+ data)\n",
        "  except OSError as e:\n",
        "    print(\"Folder already deleted\")\n",
        "  try:\n",
        "    shutil.rmtree(validation_data_dir+ data)\n",
        "  except OSError as e:\n",
        "    print(\"Folder already deleted\")\n",
        "print(\"Done!\")"
      ],
      "execution_count": null,
      "outputs": [
        {
          "output_type": "stream",
          "text": [
            "Done!\n"
          ],
          "name": "stdout"
        }
      ]
    },
    {
      "cell_type": "markdown",
      "metadata": {
        "id": "Y691RBbd8im0"
      },
      "source": [
        "# CNN"
      ]
    },
    {
      "cell_type": "code",
      "metadata": {
        "id": "W-20URgqZmVf"
      },
      "source": [
        "TRAINING_DIR = '/tmp/dataset/train/'\n",
        "training_datagen = ImageDataGenerator(\n",
        "    rescale = 1.0/255,\n",
        "    rotation_range = 40,\n",
        "    width_shift_range = 0.4,\n",
        "    height_shift_range = 0.4,\n",
        "    shear_range = 0.4,\n",
        "    zoom_range = 0.4,\n",
        "    horizontal_flip = True,\n",
        "    fill_mode = 'nearest'\n",
        ")\n",
        "\n",
        "VALIDATION_DIR = '/tmp/dataset/test'\n",
        "validation_datagen = ImageDataGenerator(rescale=1.0/255)"
      ],
      "execution_count": null,
      "outputs": []
    },
    {
      "cell_type": "code",
      "metadata": {
        "colab": {
          "base_uri": "https://localhost:8080/"
        },
        "id": "LVLm9m12bnoQ",
        "outputId": "863ad3aa-297f-40b4-8d0d-76b125f3208b"
      },
      "source": [
        "train_generator = training_datagen.flow_from_directory(\n",
        "    TRAINING_DIR,\n",
        "    target_size = (250, 250),\n",
        "    class_mode = 'categorical',\n",
        "    batch_size = 126\n",
        ")\n",
        "\n",
        "validation_generator = validation_datagen.flow_from_directory(\n",
        "    VALIDATION_DIR,\n",
        "    target_size = (250, 250),\n",
        "    class_mode = 'categorical',\n",
        "    batch_size = 126\n",
        ")"
      ],
      "execution_count": null,
      "outputs": [
        {
          "output_type": "stream",
          "text": [
            "Found 12153 images belonging to 7 classes.\n",
            "Found 2128 images belonging to 7 classes.\n"
          ],
          "name": "stdout"
        }
      ]
    },
    {
      "cell_type": "code",
      "metadata": {
        "colab": {
          "base_uri": "https://localhost:8080/"
        },
        "id": "4VXDoPpwchs8",
        "outputId": "6cd26493-1254-414e-cecb-cd73451ec784"
      },
      "source": [
        "model = tf.keras.models.Sequential([\n",
        "    tf.keras.layers.Conv2D(64, (3, 3), activation='relu', input_shape=(250, 250, 3)),\n",
        "    tf.keras.layers.MaxPooling2D(2, 2),\n",
        "    tf.keras.layers.Conv2D(64, (3, 3), activation='relu'),\n",
        "    tf.keras.layers.MaxPooling2D(2, 2),\n",
        "    tf.keras.layers.Conv2D(128, (3, 3), activation='relu'),\n",
        "    tf.keras.layers.MaxPooling2D(2, 2),\n",
        "    tf.keras.layers.Conv2D(128, (3, 3), activation='relu'),\n",
        "    tf.keras.layers.MaxPooling2D(2, 2),\n",
        "    tf.keras.layers.Flatten(),\n",
        "    tf.keras.layers.Dropout(0.5),\n",
        "    tf.keras.layers.Dense(512, activation='relu'),\n",
        "    tf.keras.layers.Dense(7, activation='softmax')\n",
        "])\n",
        "\n",
        "model.summary()"
      ],
      "execution_count": null,
      "outputs": [
        {
          "output_type": "stream",
          "text": [
            "Model: \"sequential\"\n",
            "_________________________________________________________________\n",
            "Layer (type)                 Output Shape              Param #   \n",
            "=================================================================\n",
            "conv2d (Conv2D)              (None, 248, 248, 64)      1792      \n",
            "_________________________________________________________________\n",
            "max_pooling2d (MaxPooling2D) (None, 124, 124, 64)      0         \n",
            "_________________________________________________________________\n",
            "conv2d_1 (Conv2D)            (None, 122, 122, 64)      36928     \n",
            "_________________________________________________________________\n",
            "max_pooling2d_1 (MaxPooling2 (None, 61, 61, 64)        0         \n",
            "_________________________________________________________________\n",
            "conv2d_2 (Conv2D)            (None, 59, 59, 128)       73856     \n",
            "_________________________________________________________________\n",
            "max_pooling2d_2 (MaxPooling2 (None, 29, 29, 128)       0         \n",
            "_________________________________________________________________\n",
            "conv2d_3 (Conv2D)            (None, 27, 27, 128)       147584    \n",
            "_________________________________________________________________\n",
            "max_pooling2d_3 (MaxPooling2 (None, 13, 13, 128)       0         \n",
            "_________________________________________________________________\n",
            "flatten (Flatten)            (None, 21632)             0         \n",
            "_________________________________________________________________\n",
            "dropout (Dropout)            (None, 21632)             0         \n",
            "_________________________________________________________________\n",
            "dense (Dense)                (None, 512)               11076096  \n",
            "_________________________________________________________________\n",
            "dense_1 (Dense)              (None, 7)                 3591      \n",
            "=================================================================\n",
            "Total params: 11,339,847\n",
            "Trainable params: 11,339,847\n",
            "Non-trainable params: 0\n",
            "_________________________________________________________________\n"
          ],
          "name": "stdout"
        }
      ]
    },
    {
      "cell_type": "code",
      "metadata": {
        "colab": {
          "base_uri": "https://localhost:8080/"
        },
        "id": "YuzUpV1pdxst",
        "outputId": "bb468235-ae8c-4c66-bc1e-686687f42a97"
      },
      "source": [
        "model.compile(loss = 'categorical_crossentropy', optimizer = 'rmsprop', metrics = ['accuracy'])\n",
        "history = model.fit(train_generator, epochs = 35, steps_per_epoch = 25, validation_data = validation_generator, verbose = 1, validation_steps = 7)"
      ],
      "execution_count": null,
      "outputs": [
        {
          "output_type": "stream",
          "text": [
            "Epoch 1/35\n",
            "25/25 [==============================] - 88s 2s/step - loss: 2.2962 - accuracy: 0.1644 - val_loss: 1.9387 - val_accuracy: 0.1429\n",
            "Epoch 2/35\n",
            "25/25 [==============================] - 54s 2s/step - loss: 1.9351 - accuracy: 0.2006 - val_loss: 1.9332 - val_accuracy: 0.1100\n",
            "Epoch 3/35\n",
            "25/25 [==============================] - 54s 2s/step - loss: 1.9082 - accuracy: 0.2041 - val_loss: 1.9223 - val_accuracy: 0.1179\n",
            "Epoch 4/35\n",
            "25/25 [==============================] - 54s 2s/step - loss: 1.9029 - accuracy: 0.2117 - val_loss: 1.9405 - val_accuracy: 0.1349\n",
            "Epoch 5/35\n",
            "25/25 [==============================] - 54s 2s/step - loss: 1.8828 - accuracy: 0.2213 - val_loss: 1.9377 - val_accuracy: 0.1213\n",
            "Epoch 6/35\n",
            "25/25 [==============================] - 54s 2s/step - loss: 1.8936 - accuracy: 0.2340 - val_loss: 1.9795 - val_accuracy: 0.0862\n",
            "Epoch 7/35\n",
            "25/25 [==============================] - 53s 2s/step - loss: 1.8728 - accuracy: 0.2362 - val_loss: 1.9354 - val_accuracy: 0.1247\n",
            "Epoch 8/35\n",
            "25/25 [==============================] - 53s 2s/step - loss: 1.8716 - accuracy: 0.2356 - val_loss: 1.9233 - val_accuracy: 0.1576\n",
            "Epoch 9/35\n",
            "25/25 [==============================] - 53s 2s/step - loss: 1.8582 - accuracy: 0.2410 - val_loss: 1.9120 - val_accuracy: 0.1497\n",
            "Epoch 10/35\n",
            "25/25 [==============================] - 53s 2s/step - loss: 1.8348 - accuracy: 0.2565 - val_loss: 1.9375 - val_accuracy: 0.1463\n",
            "Epoch 11/35\n",
            "25/25 [==============================] - 53s 2s/step - loss: 1.8354 - accuracy: 0.2533 - val_loss: 1.9235 - val_accuracy: 0.1871\n",
            "Epoch 12/35\n",
            "25/25 [==============================] - 53s 2s/step - loss: 1.8529 - accuracy: 0.2533 - val_loss: 1.9651 - val_accuracy: 0.1429\n",
            "Epoch 13/35\n",
            "25/25 [==============================] - 52s 2s/step - loss: 1.8455 - accuracy: 0.2580 - val_loss: 1.9400 - val_accuracy: 0.1417\n",
            "Epoch 14/35\n",
            "25/25 [==============================] - 54s 2s/step - loss: 1.8421 - accuracy: 0.2686 - val_loss: 1.9154 - val_accuracy: 0.1395\n",
            "Epoch 15/35\n",
            "25/25 [==============================] - 53s 2s/step - loss: 1.8371 - accuracy: 0.2565 - val_loss: 1.9436 - val_accuracy: 0.1961\n",
            "Epoch 16/35\n",
            "25/25 [==============================] - 53s 2s/step - loss: 1.8192 - accuracy: 0.2603 - val_loss: 1.9197 - val_accuracy: 0.1463\n",
            "Epoch 17/35\n",
            "25/25 [==============================] - 52s 2s/step - loss: 1.8116 - accuracy: 0.2788 - val_loss: 1.9410 - val_accuracy: 0.1848\n",
            "Epoch 18/35\n",
            "25/25 [==============================] - 53s 2s/step - loss: 1.8102 - accuracy: 0.2698 - val_loss: 1.9886 - val_accuracy: 0.1701\n",
            "Epoch 19/35\n",
            "25/25 [==============================] - 52s 2s/step - loss: 1.7973 - accuracy: 0.2905 - val_loss: 1.9310 - val_accuracy: 0.1769\n",
            "Epoch 20/35\n",
            "25/25 [==============================] - 53s 2s/step - loss: 1.8022 - accuracy: 0.2832 - val_loss: 2.1094 - val_accuracy: 0.1599\n",
            "Epoch 21/35\n",
            "25/25 [==============================] - 53s 2s/step - loss: 1.7997 - accuracy: 0.2762 - val_loss: 1.9557 - val_accuracy: 0.1701\n",
            "Epoch 22/35\n",
            "25/25 [==============================] - 53s 2s/step - loss: 1.7976 - accuracy: 0.2892 - val_loss: 1.9780 - val_accuracy: 0.1542\n",
            "Epoch 23/35\n",
            "25/25 [==============================] - 52s 2s/step - loss: 1.8063 - accuracy: 0.2853 - val_loss: 1.9128 - val_accuracy: 0.1621\n",
            "Epoch 24/35\n",
            "25/25 [==============================] - 53s 2s/step - loss: 1.7864 - accuracy: 0.2854 - val_loss: 1.9934 - val_accuracy: 0.1735\n",
            "Epoch 25/35\n",
            "25/25 [==============================] - 53s 2s/step - loss: 1.7757 - accuracy: 0.2873 - val_loss: 1.8888 - val_accuracy: 0.1757\n",
            "Epoch 26/35\n",
            "25/25 [==============================] - 55s 2s/step - loss: 1.7777 - accuracy: 0.2889 - val_loss: 1.9503 - val_accuracy: 0.1803\n",
            "Epoch 27/35\n",
            "25/25 [==============================] - 54s 2s/step - loss: 1.7780 - accuracy: 0.3016 - val_loss: 1.9260 - val_accuracy: 0.1746\n",
            "Epoch 28/35\n",
            "25/25 [==============================] - 52s 2s/step - loss: 1.7537 - accuracy: 0.3044 - val_loss: 1.8950 - val_accuracy: 0.1893\n",
            "Epoch 29/35\n",
            "25/25 [==============================] - 53s 2s/step - loss: 1.7676 - accuracy: 0.2956 - val_loss: 1.9483 - val_accuracy: 0.1576\n",
            "Epoch 30/35\n",
            "25/25 [==============================] - 53s 2s/step - loss: 1.7788 - accuracy: 0.2879 - val_loss: 1.9961 - val_accuracy: 0.1791\n",
            "Epoch 31/35\n",
            "25/25 [==============================] - 53s 2s/step - loss: 1.7459 - accuracy: 0.3159 - val_loss: 2.1965 - val_accuracy: 0.1780\n",
            "Epoch 32/35\n",
            "25/25 [==============================] - 54s 2s/step - loss: 1.7691 - accuracy: 0.3044 - val_loss: 1.9614 - val_accuracy: 0.1621\n",
            "Epoch 33/35\n",
            "25/25 [==============================] - 53s 2s/step - loss: 1.7529 - accuracy: 0.3087 - val_loss: 2.0502 - val_accuracy: 0.1825\n",
            "Epoch 34/35\n",
            "25/25 [==============================] - 54s 2s/step - loss: 1.7451 - accuracy: 0.3143 - val_loss: 2.0122 - val_accuracy: 0.1587\n",
            "Epoch 35/35\n",
            "25/25 [==============================] - 54s 2s/step - loss: 1.7447 - accuracy: 0.3111 - val_loss: 1.9704 - val_accuracy: 0.1757\n"
          ],
          "name": "stdout"
        }
      ]
    },
    {
      "cell_type": "code",
      "metadata": {
        "colab": {
          "base_uri": "https://localhost:8080/",
          "height": 552
        },
        "id": "WiFT25QigB69",
        "outputId": "c9241259-2056-4054-d2e1-a39d772a46bd"
      },
      "source": [
        "import matplotlib.pyplot as plt\n",
        "acc = history.history['accuracy']\n",
        "val_acc = history.history['val_accuracy']\n",
        "loss = history.history['loss']\n",
        "val_loss = history.history['val_loss']\n",
        "epochs = range(len(acc))\n",
        "plt.plot(epochs, acc, 'r', label = 'Training accuracy')\n",
        "plt.plot(epochs, val_acc, 'b', label = 'Validation accuracy')\n",
        "plt.legend(loc=0)\n",
        "plt.figure()\n",
        "\n",
        "plt.show()\n",
        "\n",
        "plt.plot(epochs, loss, 'r', label = 'Training loss')\n",
        "plt.plot(epochs, val_loss, 'b', label = 'Validation loss')\n",
        "plt.legend(loc=0)\n",
        "plt.figure()\n",
        "\n",
        "plt.show()"
      ],
      "execution_count": null,
      "outputs": [
        {
          "output_type": "display_data",
          "data": {
            "image/png": "[encoded data removed]",
            "text/plain": [
              "<Figure size 432x288 with 1 Axes>"
            ]
          },
          "metadata": {
            "tags": [],
            "needs_background": "light"
          }
        },
        {
          "output_type": "display_data",
          "data": {
            "text/plain": [
              "<Figure size 432x288 with 0 Axes>"
            ]
          },
          "metadata": {
            "tags": []
          }
        },
        {
          "output_type": "display_data",
          "data": {
            "image/png": "[encoded data removed]",
            "text/plain": [
              "<Figure size 432x288 with 1 Axes>"
            ]
          },
          "metadata": {
            "tags": [],
            "needs_background": "light"
          }
        },
        {
          "output_type": "display_data",
          "data": {
            "text/plain": [
              "<Figure size 432x288 with 0 Axes>"
            ]
          },
          "metadata": {
            "tags": []
          }
        }
      ]
    },
    {
      "cell_type": "markdown",
      "metadata": {
        "id": "ARcjp-nP0mTD"
      },
      "source": [
        "# ResNet50"
      ]
    },
    {
      "cell_type": "code",
      "metadata": {
        "id": "mqN-3Q7o0pR3"
      },
      "source": [
        "import numpy as np\n",
        "import pandas as pd"
      ],
      "execution_count": null,
      "outputs": []
    },
    {
      "cell_type": "code",
      "metadata": {
        "id": "QU94rbTJ0vl6"
      },
      "source": [
        "from keras.preprocessing.image import load_img, img_to_array\n",
        "from tensorflow.keras.applications.resnet import  preprocess_input"
      ],
      "execution_count": null,
      "outputs": []
    },
    {
      "cell_type": "code",
      "metadata": {
        "id": "L74T8h_r0zlJ"
      },
      "source": [
        "img_width, img_height = 256, 256"
      ],
      "execution_count": null,
      "outputs": []
    },
    {
      "cell_type": "code",
      "metadata": {
        "id": "4HUCm2aK00k6"
      },
      "source": [
        "def preprocess_image(path):\n",
        "    img = load_img(path, target_size = (img_height, img_width))\n",
        "    a = img_to_array(img)\n",
        "    a = np.expand_dims(a, axis = 0)\n",
        "    a = preprocess_input(a)\n",
        "    return a"
      ],
      "execution_count": null,
      "outputs": []
    },
    {
      "cell_type": "code",
      "metadata": {
        "id": "YaoBqFFr03MA"
      },
      "source": [
        "from keras.applications.resnet50 import ResNet50, preprocess_input\n",
        "\n",
        "HEIGHT = 300\n",
        "WIDTH = 300\n",
        "\n",
        "base_model = ResNet50(weights='imagenet', \n",
        "                      include_top=False, \n",
        "                      input_shape=(HEIGHT, WIDTH, 3))"
      ],
      "execution_count": null,
      "outputs": []
    },
    {
      "cell_type": "code",
      "metadata": {
        "colab": {
          "base_uri": "https://localhost:8080/"
        },
        "id": "oyeTnJR305e4",
        "outputId": "36d14fc7-53ca-43b3-a014-a083d6796b29"
      },
      "source": [
        "from keras.preprocessing.image import ImageDataGenerator\n",
        "\n",
        "TRAIN_DIR = \"/kaggle/input/dermnet/train/\"\n",
        "HEIGHT = 300\n",
        "WIDTH = 300\n",
        "BATCH_SIZE = 8\n",
        "\n",
        "train_datagen =  ImageDataGenerator(\n",
        "      preprocessing_function=preprocess_input,\n",
        "      rotation_range=90,\n",
        "      horizontal_flip=True,\n",
        "      vertical_flip=True\n",
        "    )\n",
        "\n",
        "train_generator = train_datagen.flow_from_directory(train_data_dir, \n",
        "                                                    target_size=(HEIGHT, WIDTH), \n",
        "                                                    batch_size=BATCH_SIZE)\n",
        "\n",
        "\n",
        "test_datagen =  ImageDataGenerator(\n",
        "      preprocessing_function=preprocess_input,\n",
        "      rotation_range=90,\n",
        "      horizontal_flip=True,\n",
        "      vertical_flip=True\n",
        "    )\n",
        "validation_generator = test_datagen.flow_from_directory(\n",
        "        validation_data_dir,\n",
        "        target_size=(300, 300),\n",
        "        batch_size=BATCH_SIZE)"
      ],
      "execution_count": null,
      "outputs": [
        {
          "output_type": "stream",
          "text": [
            "Found 8586 images belonging to 7 classes.\n",
            "Found 2150 images belonging to 7 classes.\n"
          ],
          "name": "stdout"
        }
      ]
    },
    {
      "cell_type": "code",
      "metadata": {
        "colab": {
          "base_uri": "https://localhost:8080/"
        },
        "id": "IK9F0VWM1uIn",
        "outputId": "30437548-3076-4550-d62b-10dafd39eafb"
      },
      "source": [
        "from keras.layers import Dense, Activation, Flatten, Dropout, GlobalAveragePooling2D\n",
        "from keras.models import Sequential, Model\n",
        "from tensorflow.keras import models\n",
        "\n",
        "def build_finetune_model(base_model, dropout, fc_layers, num_classes):\n",
        "    for layer in base_model.layers:\n",
        "        layer.trainable = False\n",
        "\n",
        "    new_model = models.Sequential()\n",
        "    new_model.add(base_model)\n",
        "    new_model.add(Flatten())\n",
        "    x = new_model.output\n",
        "    for fc in fc_layers:\n",
        "        new_model.add(Dense(fc, activation='relu'))\n",
        "        new_model.add(Dropout(dropout))\n",
        "\n",
        "    new_model.add(Dense(num_classes, activation='softmax'))\n",
        "    print(new_model.summary())\n",
        "\n",
        "    return new_model\n",
        "\n",
        "class_list = os.listdir(train_data_dir)\n",
        "FC_LAYERS = [1024, 1024]\n",
        "dropout = 0.5\n",
        "\n",
        "finetune_model = build_finetune_model(base_model, \n",
        "                                      dropout=dropout, \n",
        "                                      fc_layers=FC_LAYERS, \n",
        "                                      num_classes=len(class_list))"
      ],
      "execution_count": null,
      "outputs": [
        {
          "output_type": "stream",
          "text": [
            "Model: \"sequential_2\"\n",
            "_________________________________________________________________\n",
            "Layer (type)                 Output Shape              Param #   \n",
            "=================================================================\n",
            "resnet50 (Functional)        (None, 10, 10, 2048)      23587712  \n",
            "_________________________________________________________________\n",
            "module_wrapper_12 (ModuleWra (None, 204800)            0         \n",
            "_________________________________________________________________\n",
            "module_wrapper_13 (ModuleWra (None, 1024)              209716224 \n",
            "_________________________________________________________________\n",
            "module_wrapper_14 (ModuleWra (None, 1024)              0         \n",
            "_________________________________________________________________\n",
            "module_wrapper_15 (ModuleWra (None, 1024)              1049600   \n",
            "_________________________________________________________________\n",
            "module_wrapper_16 (ModuleWra (None, 1024)              0         \n",
            "_________________________________________________________________\n",
            "module_wrapper_17 (ModuleWra (None, 7)                 7175      \n",
            "=================================================================\n",
            "Total params: 234,360,711\n",
            "Trainable params: 210,772,999\n",
            "Non-trainable params: 23,587,712\n",
            "_________________________________________________________________\n",
            "None\n"
          ],
          "name": "stdout"
        }
      ]
    },
    {
      "cell_type": "code",
      "metadata": {
        "colab": {
          "base_uri": "https://localhost:8080/"
        },
        "id": "ECmhH93b2GsV",
        "outputId": "f70df335-27c4-46cf-adc2-4dcf43aa1869"
      },
      "source": [
        "from keras.optimizers import SGD, Adam\n",
        "from keras.callbacks import ModelCheckpoint\n",
        "import matplotlib.pyplot as plt\n",
        "\n",
        "NUM_EPOCHS = 30\n",
        "BATCH_SIZE = 16\n",
        "num_train_images = 8586\n",
        "\n",
        "adam = Adam(learning_rate=0.00001)\n",
        "finetune_model.compile(adam, loss='categorical_crossentropy', metrics=['accuracy'])\n",
        "\n",
        "history = finetune_model.fit(train_generator, epochs=NUM_EPOCHS, workers=16, \n",
        "                                       steps_per_epoch=num_train_images // BATCH_SIZE, \n",
        "                                       shuffle=True,\n",
        "                                       validation_data = validation_generator)"
      ],
      "execution_count": null,
      "outputs": [
        {
          "output_type": "stream",
          "text": [
            "Epoch 1/30\n",
            "536/536 [==============================] - 178s 322ms/step - loss: 2.4816 - accuracy: 0.2735 - val_loss: 1.5249 - val_accuracy: 0.4177\n",
            "Epoch 2/30\n",
            "536/536 [==============================] - 175s 323ms/step - loss: 1.7634 - accuracy: 0.3298 - val_loss: 1.5182 - val_accuracy: 0.4279\n",
            "Epoch 3/30\n",
            "536/536 [==============================] - 170s 313ms/step - loss: 1.6537 - accuracy: 0.3666 - val_loss: 1.4786 - val_accuracy: 0.4414\n",
            "Epoch 4/30\n",
            "536/536 [==============================] - 168s 311ms/step - loss: 1.6227 - accuracy: 0.3814 - val_loss: 1.4279 - val_accuracy: 0.4721\n",
            "Epoch 5/30\n",
            "536/536 [==============================] - 171s 313ms/step - loss: 1.6120 - accuracy: 0.3884 - val_loss: 1.4266 - val_accuracy: 0.4591\n",
            "Epoch 6/30\n",
            "536/536 [==============================] - 169s 312ms/step - loss: 1.5550 - accuracy: 0.4178 - val_loss: 1.3830 - val_accuracy: 0.4814\n",
            "Epoch 7/30\n",
            "536/536 [==============================] - 170s 310ms/step - loss: 1.5422 - accuracy: 0.4193 - val_loss: 1.3746 - val_accuracy: 0.4935\n",
            "Epoch 8/30\n",
            "536/536 [==============================] - 169s 311ms/step - loss: 1.5059 - accuracy: 0.4314 - val_loss: 1.3637 - val_accuracy: 0.5014\n",
            "Epoch 9/30\n",
            "536/536 [==============================] - 169s 309ms/step - loss: 1.4876 - accuracy: 0.4442 - val_loss: 1.3419 - val_accuracy: 0.4940\n",
            "Epoch 10/30\n",
            "536/536 [==============================] - 168s 310ms/step - loss: 1.4606 - accuracy: 0.4576 - val_loss: 1.3254 - val_accuracy: 0.5079\n",
            "Epoch 11/30\n",
            "536/536 [==============================] - 169s 309ms/step - loss: 1.4486 - accuracy: 0.4559 - val_loss: 1.3378 - val_accuracy: 0.5037\n",
            "Epoch 12/30\n",
            "536/536 [==============================] - 168s 309ms/step - loss: 1.4128 - accuracy: 0.4674 - val_loss: 1.2986 - val_accuracy: 0.5260\n",
            "Epoch 13/30\n",
            "536/536 [==============================] - 169s 309ms/step - loss: 1.3983 - accuracy: 0.4682 - val_loss: 1.2936 - val_accuracy: 0.5265\n",
            "Epoch 14/30\n",
            "536/536 [==============================] - 167s 308ms/step - loss: 1.3932 - accuracy: 0.4872 - val_loss: 1.2718 - val_accuracy: 0.5251\n",
            "Epoch 15/30\n",
            "536/536 [==============================] - 167s 308ms/step - loss: 1.3666 - accuracy: 0.4918 - val_loss: 1.2662 - val_accuracy: 0.5256\n",
            "Epoch 16/30\n",
            "536/536 [==============================] - 167s 308ms/step - loss: 1.3767 - accuracy: 0.4827 - val_loss: 1.2660 - val_accuracy: 0.5349\n",
            "Epoch 17/30\n",
            "536/536 [==============================] - 169s 308ms/step - loss: 1.3462 - accuracy: 0.4998 - val_loss: 1.2752 - val_accuracy: 0.5447\n",
            "Epoch 18/30\n",
            "536/536 [==============================] - 167s 308ms/step - loss: 1.3546 - accuracy: 0.4979 - val_loss: 1.2305 - val_accuracy: 0.5526\n",
            "Epoch 19/30\n",
            "536/536 [==============================] - 167s 309ms/step - loss: 1.3402 - accuracy: 0.5049 - val_loss: 1.2419 - val_accuracy: 0.5395\n",
            "Epoch 20/30\n",
            "536/536 [==============================] - 168s 310ms/step - loss: 1.3040 - accuracy: 0.5238 - val_loss: 1.2549 - val_accuracy: 0.5498\n",
            "Epoch 21/30\n",
            "536/536 [==============================] - 168s 310ms/step - loss: 1.3035 - accuracy: 0.5091 - val_loss: 1.2365 - val_accuracy: 0.5451\n",
            "Epoch 22/30\n",
            "536/536 [==============================] - 201s 369ms/step - loss: 1.2836 - accuracy: 0.5282 - val_loss: 1.2170 - val_accuracy: 0.5540\n",
            "Epoch 23/30\n",
            "536/536 [==============================] - 168s 310ms/step - loss: 1.3000 - accuracy: 0.5215 - val_loss: 1.2380 - val_accuracy: 0.5405\n",
            "Epoch 24/30\n",
            "536/536 [==============================] - 169s 309ms/step - loss: 1.2575 - accuracy: 0.5439 - val_loss: 1.2244 - val_accuracy: 0.5526\n",
            "Epoch 25/30\n",
            "536/536 [==============================] - 170s 310ms/step - loss: 1.2489 - accuracy: 0.5411 - val_loss: 1.2191 - val_accuracy: 0.5507\n",
            "Epoch 26/30\n",
            "536/536 [==============================] - 168s 310ms/step - loss: 1.2478 - accuracy: 0.5423 - val_loss: 1.1957 - val_accuracy: 0.5679\n",
            "Epoch 27/30\n",
            "536/536 [==============================] - 168s 309ms/step - loss: 1.2305 - accuracy: 0.5574 - val_loss: 1.2135 - val_accuracy: 0.5609\n",
            "Epoch 28/30\n",
            "536/536 [==============================] - 169s 309ms/step - loss: 1.2140 - accuracy: 0.5483 - val_loss: 1.2148 - val_accuracy: 0.5474\n",
            "Epoch 29/30\n",
            "376/536 [====================>.........] - ETA: 34s - loss: 1.1876 - accuracy: 0.5759"
          ],
          "name": "stdout"
        }
      ]
    },
    {
      "cell_type": "code",
      "metadata": {
        "colab": {
          "base_uri": "https://localhost:8080/",
          "height": 163
        },
        "id": "lnRQlhQW2LZ7",
        "outputId": "0b16ef72-f399-4994-f5ed-1fa2bd573a32"
      },
      "source": [
        "while True:pass"
      ],
      "execution_count": null,
      "outputs": [
        {
          "output_type": "error",
          "ename": "KeyboardInterrupt",
          "evalue": "ignored",
          "traceback": [
            "\u001b[0;31m---------------------------------------------------------------------------\u001b[0m",
            "\u001b[0;31mKeyboardInterrupt\u001b[0m                         Traceback (most recent call last)",
            "\u001b[0;32m<ipython-input-22-534b7a74019f>\u001b[0m in \u001b[0;36m<module>\u001b[0;34m()\u001b[0m\n\u001b[0;32m----> 1\u001b[0;31m \u001b[0;32mwhile\u001b[0m \u001b[0;32mTrue\u001b[0m\u001b[0;34m:\u001b[0m\u001b[0;32mpass\u001b[0m\u001b[0;34m\u001b[0m\u001b[0;34m\u001b[0m\u001b[0m\n\u001b[0m",
            "\u001b[0;31mKeyboardInterrupt\u001b[0m: "
          ]
        }
      ]
    },
    {
      "cell_type": "code",
      "metadata": {
        "colab": {
          "base_uri": "https://localhost:8080/",
          "height": 549
        },
        "id": "5SXSMlyX2NKD",
        "outputId": "3326d9dc-ac22-46f6-9a79-b24f41730044"
      },
      "source": [
        "import matplotlib.pyplot as plt\n",
        "acc = history.history['accuracy']\n",
        "loss = history.history['loss']\n",
        "val_acc = history.history['val_accuracy']\n",
        "val_loss = history.history['val_loss']\n",
        "epochs = range(len(acc))\n",
        "plt.plot(epochs, acc, 'b', label = 'Training accuracy')\n",
        "plt.plot(epochs, val_acc, 'r', label = 'Validation accuracy')\n",
        "plt.legend(loc=0)\n",
        "plt.figure()\n",
        "\n",
        "plt.show()\n",
        "\n",
        "plt.plot(epochs, loss, 'b', label = 'Training loss')\n",
        "plt.plot(epochs, val_loss, 'r', label = 'Validation loss')\n",
        "plt.legend(loc=0)\n",
        "plt.figure()\n",
        "\n",
        "plt.show()"
      ],
      "execution_count": null,
      "outputs": [
        {
          "output_type": "display_data",
          "data": {
            "image/png": "[encoded data removed]",
            "text/plain": [
              "<Figure size 432x288 with 1 Axes>"
            ]
          },
          "metadata": {
            "tags": [],
            "needs_background": "light"
          }
        },
        {
          "output_type": "display_data",
          "data": {
            "text/plain": [
              "<Figure size 432x288 with 0 Axes>"
            ]
          },
          "metadata": {
            "tags": []
          }
        },
        {
          "output_type": "display_data",
          "data": {
            "image/png": "[encoded data removed]",
            "text/plain": [
              "<Figure size 432x288 with 1 Axes>"
            ]
          },
          "metadata": {
            "tags": [],
            "needs_background": "light"
          }
        },
        {
          "output_type": "display_data",
          "data": {
            "text/plain": [
              "<Figure size 432x288 with 0 Axes>"
            ]
          },
          "metadata": {
            "tags": []
          }
        }
      ]
    },
    {
      "cell_type": "code",
      "metadata": {
        "id": "uyrw5ss-EKbY"
      },
      "source": [
        ""
      ],
      "execution_count": null,
      "outputs": []
    }
  ]
}