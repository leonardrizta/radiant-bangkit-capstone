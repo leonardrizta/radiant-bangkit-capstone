{
  "nbformat": 4,
  "nbformat_minor": 0,
  "metadata": {
    "colab": {
      "name": "main_notebook_all_in_one.ipynb",
      "provenance": [],
      "toc_visible": true
    },
    "kernelspec": {
      "name": "python3",
      "display_name": "Python 3"
    },
    "language_info": {
      "name": "python"
    },
    "accelerator": "GPU"
  },
  "cells": [
    {
      "cell_type": "code",
      "metadata": {
        "colab": {
          "base_uri": "https://localhost:8080/"
        },
        "id": "UGaIOy2wcEqo",
        "outputId": "dc0aea77-c6e7-4225-b71f-2bea16351129"
      },
      "source": [
        "import tensorflow as tf\n",
        "print(tf.__version__)"
      ],
      "execution_count": null,
      "outputs": [
        {
          "output_type": "stream",
          "text": [
            "2.5.0\n"
          ],
          "name": "stdout"
        }
      ]
    },
    {
      "cell_type": "markdown",
      "metadata": {
        "id": "MV-KNwm38TDQ"
      },
      "source": [
        "# Kaggle Preparation"
      ]
    },
    {
      "cell_type": "code",
      "metadata": {
        "id": "fy-ntV4ZP0uW"
      },
      "source": [
        "import re\n",
        "import os\n",
        "import zipfile\n",
        "import random\n",
        "import shutil\n",
        "import tensorflow as tf\n",
        "from tensorflow.keras.optimizers import RMSprop, SGD\n",
        "from tensorflow.keras.preprocessing.image import ImageDataGenerator\n",
        "from shutil import copyfile\n",
        "from os import getcwd"
      ],
      "execution_count": null,
      "outputs": []
    },
    {
      "cell_type": "code",
      "metadata": {
        "colab": {
          "resources": {
            "http://localhost:8080/nbextensions/google.colab/files.js": {
              "data": "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",
              "ok": true,
              "headers": [
                [
                  "content-type",
                  "application/javascript"
                ]
              ],
              "status": 200,
              "status_text": ""
            }
          },
          "base_uri": "https://localhost:8080/",
          "height": 89
        },
        "id": "aJ-_fjf-QHZy",
        "outputId": "ada6bfea-f441-4577-8091-6fc8175a6340"
      },
      "source": [
        "!pip install -q kaggle\n",
        "from google.colab import files\n",
        "files.upload()"
      ],
      "execution_count": null,
      "outputs": [
        {
          "output_type": "display_data",
          "data": {
            "text/html": [
              "\n",
              "     <input type=\"file\" id=\"files-4d66729d-525b-45ec-b5da-7325e518891b\" name=\"files[]\" multiple disabled\n",
              "        style=\"border:none\" />\n",
              "     <output id=\"result-4d66729d-525b-45ec-b5da-7325e518891b\">\n",
              "      Upload widget is only available when the cell has been executed in the\n",
              "      current browser session. Please rerun this cell to enable.\n",
              "      </output>\n",
              "      <script src=\"/nbextensions/google.colab/files.js\"></script> "
            ],
            "text/plain": [
              "<IPython.core.display.HTML object>"
            ]
          },
          "metadata": {
            "tags": []
          }
        },
        {
          "output_type": "stream",
          "text": [
            "Saving kaggle.json to kaggle.json\n"
          ],
          "name": "stdout"
        },
        {
          "output_type": "execute_result",
          "data": {
            "text/plain": [
              "{'kaggle.json': b'{\"username\":\"leonardrizta\",\"key\":\"9e49c9b604d0e7ce6ee28ad39bffc2b1\"}'}"
            ]
          },
          "metadata": {
            "tags": []
          },
          "execution_count": 3
        }
      ]
    },
    {
      "cell_type": "code",
      "metadata": {
        "colab": {
          "base_uri": "https://localhost:8080/"
        },
        "id": "TKNTF_8qQKtH",
        "outputId": "36e2ff7c-72ac-44c8-a960-36af1ca337ec"
      },
      "source": [
        "! mkdir ~/.kaggle\n",
        "! cp kaggle.json ~/.kaggle/\n",
        "! chmod 600 ~/.kaggle/kaggle.json\n",
        "! kaggle datasets list"
      ],
      "execution_count": null,
      "outputs": [
        {
          "output_type": "stream",
          "text": [
            "Warning: Looks like you're using an outdated API Version, please consider updating (server 1.5.12 / client 1.5.4)\n",
            "ref                                                         title                                              size  lastUpdated          downloadCount  \n",
            "----------------------------------------------------------  ------------------------------------------------  -----  -------------------  -------------  \n",
            "gpreda/reddit-vaccine-myths                                 Reddit Vaccine Myths                              229KB  2021-06-01 11:18:46           6536  \n",
            "crowww/a-large-scale-fish-dataset                           A Large Scale Fish Dataset                          3GB  2021-04-28 17:03:01           3835  \n",
            "imsparsh/musicnet-dataset                                   MusicNet Dataset                                   22GB  2021-02-18 14:12:19           1312  \n",
            "dhruvildave/wikibooks-dataset                               Wikibooks Dataset                                   1GB  2021-02-18 10:08:27           2059  \n",
            "promptcloud/careerbuilder-job-listing-2020                  Careerbuilder Job Listing 2020                     42MB  2021-03-05 06:59:52            934  \n",
            "mathurinache/twitter-edge-nodes                             Twitter Edge Nodes                                342MB  2021-03-08 06:43:04            443  \n",
            "fatiimaezzahra/famous-iconic-women                          Famous Iconic Women                               838MB  2021-02-28 14:56:00            667  \n",
            "alsgroup/end-als                                            End ALS Kaggle Challenge                           12GB  2021-04-08 12:16:37            670  \n",
            "simiotic/github-code-snippets                               GitHub Code Snippets                                7GB  2021-03-03 11:34:39            137  \n",
            "coloradokb/dandelionimages                                  DandelionImages                                     4GB  2021-02-19 20:03:47            382  \n",
            "nickuzmenkov/nih-chest-xrays-tfrecords                      NIH Chest X-rays TFRecords                         11GB  2021-03-09 04:49:23            537  \n",
            "mathurinache/the-lj-speech-dataset                          The LJ Speech Dataset                               3GB  2021-02-15 09:19:54            168  \n",
            "stuartjames/lights                                          LightS: Light Specularity Dataset                  18GB  2021-02-18 14:32:26             62  \n",
            "imsparsh/accentdb-core-extended                             AccentDB - Core & Extended                          6GB  2021-02-17 14:22:54             76  \n",
            "nickuzmenkov/ranzcr-clip-kfold-tfrecords                    RANZCR CLiP KFold TFRecords                         2GB  2021-02-21 13:29:51             81  \n",
            "landrykezebou/lvzhdr-tone-mapping-benchmark-dataset-tmonet  LVZ-HDR Tone Mapping Benchmark Dataset (TMO-Net)   24GB  2021-03-01 05:03:40             82  \n",
            "datasnaek/youtube-new                                       Trending YouTube Video Statistics                 201MB  2019-06-03 00:56:47         141361  \n",
            "zynicide/wine-reviews                                       Wine Reviews                                       51MB  2017-11-27 17:08:04         137525  \n",
            "residentmario/ramen-ratings                                 Ramen Ratings                                      40KB  2018-01-11 16:04:39          23522  \n",
            "datasnaek/chess                                             Chess Game Dataset (Lichess)                        3MB  2017-09-04 03:09:09          18791  \n"
          ],
          "name": "stdout"
        }
      ]
    },
    {
      "cell_type": "markdown",
      "metadata": {
        "id": "kQypvO6Awcwi"
      },
      "source": [
        "# Dataset Download"
      ]
    },
    {
      "cell_type": "code",
      "metadata": {
        "colab": {
          "base_uri": "https://localhost:8080/"
        },
        "id": "XdjKttFYxDJZ",
        "outputId": "08a3dcbf-aaa4-46b1-a5f6-85608dd3d0ae"
      },
      "source": [
        "!kaggle datasets download -d shubhamgoel27/dermnet"
      ],
      "execution_count": null,
      "outputs": [
        {
          "output_type": "stream",
          "text": [
            "Downloading dermnet.zip to /content\n",
            "100% 1.72G/1.72G [00:12<00:00, 37.1MB/s]\n",
            "100% 1.72G/1.72G [00:12<00:00, 145MB/s] \n"
          ],
          "name": "stdout"
        }
      ]
    },
    {
      "cell_type": "code",
      "metadata": {
        "id": "8hzmqDtxxHpK"
      },
      "source": [
        "dataset_path = \"/content/dermnet.zip\"\n",
        "zip_ref = zipfile.ZipFile(dataset_path, 'r')\n",
        "zip_ref.extractall('/tmp/')\n",
        "zip_ref.close()"
      ],
      "execution_count": null,
      "outputs": []
    },
    {
      "cell_type": "code",
      "metadata": {
        "id": "o0XCy2YBwfig"
      },
      "source": [
        "train_data_dir = '/tmp/train/'\n",
        "validation_data_dir = '/tmp/test/'"
      ],
      "execution_count": null,
      "outputs": []
    },
    {
      "cell_type": "markdown",
      "metadata": {
        "id": "kc0ZJFqeVy8Y"
      },
      "source": [
        "# Dataset Preparation"
      ]
    },
    {
      "cell_type": "code",
      "metadata": {
        "colab": {
          "base_uri": "https://localhost:8080/"
        },
        "id": "BTGviqzewhj9",
        "outputId": "00c226e0-8768-4035-e538-e6c244416b3b"
      },
      "source": [
        "train_data_list = os.listdir(train_data_dir)\n",
        "validation_data_list = os.listdir(validation_data_dir)\n",
        "print(os.listdir(train_data_dir))\n",
        "print(os.listdir(validation_data_dir))\n",
        "print(len(os.listdir(train_data_dir)))\n",
        "print(len(os.listdir(validation_data_dir)))"
      ],
      "execution_count": null,
      "outputs": [
        {
          "output_type": "stream",
          "text": [
            "['Herpes HPV and other STDs Photos', 'Warts Molluscum and other Viral Infections', 'Melanoma Skin Cancer Nevi and Moles', 'Systemic Disease', 'Actinic Keratosis Basal Cell Carcinoma and other Malignant Lesions', 'Vascular Tumors', 'Exanthems and Drug Eruptions', 'Acne and Rosacea Photos', 'Hair Loss Photos Alopecia and other Hair Diseases', 'Bullous Disease Photos', 'Atopic Dermatitis Photos', 'Tinea Ringworm Candidiasis and other Fungal Infections', 'Lupus and other Connective Tissue diseases', 'Psoriasis pictures Lichen Planus and related diseases', 'Poison Ivy Photos and other Contact Dermatitis', 'Scabies Lyme Disease and other Infestations and Bites', 'Urticaria Hives', 'Eczema Photos', 'Vasculitis Photos', 'Seborrheic Keratoses and other Benign Tumors', 'Cellulitis Impetigo and other Bacterial Infections', 'Nail Fungus and other Nail Disease', 'Light Diseases and Disorders of Pigmentation']\n",
            "['Herpes HPV and other STDs Photos', 'Warts Molluscum and other Viral Infections', 'Melanoma Skin Cancer Nevi and Moles', 'Systemic Disease', 'Actinic Keratosis Basal Cell Carcinoma and other Malignant Lesions', 'Vascular Tumors', 'Exanthems and Drug Eruptions', 'Acne and Rosacea Photos', 'Hair Loss Photos Alopecia and other Hair Diseases', 'Bullous Disease Photos', 'Atopic Dermatitis Photos', 'Tinea Ringworm Candidiasis and other Fungal Infections', 'Lupus and other Connective Tissue diseases', 'Psoriasis pictures Lichen Planus and related diseases', 'Poison Ivy Photos and other Contact Dermatitis', 'Scabies Lyme Disease and other Infestations and Bites', 'Urticaria Hives', 'Eczema Photos', 'Vasculitis Photos', 'Seborrheic Keratoses and other Benign Tumors', 'Cellulitis Impetigo and other Bacterial Infections', 'Nail Fungus and other Nail Disease', 'Light Diseases and Disorders of Pigmentation']\n",
            "23\n",
            "23\n"
          ],
          "name": "stdout"
        }
      ]
    },
    {
      "cell_type": "code",
      "metadata": {
        "id": "2monMgZzySIT"
      },
      "source": [
        "used_data = ['Acne and Rosacea Photos', 'Actinic Keratosis Basal Cell Carcinoma and other Malignant Lesions', 'Eczema Photos', 'Light Diseases and Disorders of Pigmentation', 'Nail Fungus and other Nail Disease']"
      ],
      "execution_count": null,
      "outputs": []
    },
    {
      "cell_type": "code",
      "metadata": {
        "colab": {
          "base_uri": "https://localhost:8080/"
        },
        "id": "2DTl0ibo49L0",
        "outputId": "bebdf6f9-f8a2-47fe-cfea-a4323e994774"
      },
      "source": [
        "unused_data = train_data_list\n",
        "print(unused_data)"
      ],
      "execution_count": null,
      "outputs": [
        {
          "output_type": "stream",
          "text": [
            "['Herpes HPV and other STDs Photos', 'Warts Molluscum and other Viral Infections', 'Melanoma Skin Cancer Nevi and Moles', 'Systemic Disease', 'Actinic Keratosis Basal Cell Carcinoma and other Malignant Lesions', 'Vascular Tumors', 'Exanthems and Drug Eruptions', 'Acne and Rosacea Photos', 'Hair Loss Photos Alopecia and other Hair Diseases', 'Bullous Disease Photos', 'Atopic Dermatitis Photos', 'Tinea Ringworm Candidiasis and other Fungal Infections', 'Lupus and other Connective Tissue diseases', 'Psoriasis pictures Lichen Planus and related diseases', 'Poison Ivy Photos and other Contact Dermatitis', 'Scabies Lyme Disease and other Infestations and Bites', 'Urticaria Hives', 'Eczema Photos', 'Vasculitis Photos', 'Seborrheic Keratoses and other Benign Tumors', 'Cellulitis Impetigo and other Bacterial Infections', 'Nail Fungus and other Nail Disease', 'Light Diseases and Disorders of Pigmentation']\n"
          ],
          "name": "stdout"
        }
      ]
    },
    {
      "cell_type": "code",
      "metadata": {
        "colab": {
          "base_uri": "https://localhost:8080/"
        },
        "id": "1QgHmWVy5DNp",
        "outputId": "b61c1f06-6096-4065-e535-1f01a120f619"
      },
      "source": [
        "for data in used_data:\n",
        "  unused_data.remove(data)\n",
        "print(unused_data)\n",
        "print(len(unused_data))"
      ],
      "execution_count": null,
      "outputs": [
        {
          "output_type": "stream",
          "text": [
            "['Herpes HPV and other STDs Photos', 'Warts Molluscum and other Viral Infections', 'Melanoma Skin Cancer Nevi and Moles', 'Systemic Disease', 'Vascular Tumors', 'Exanthems and Drug Eruptions', 'Hair Loss Photos Alopecia and other Hair Diseases', 'Bullous Disease Photos', 'Atopic Dermatitis Photos', 'Tinea Ringworm Candidiasis and other Fungal Infections', 'Lupus and other Connective Tissue diseases', 'Psoriasis pictures Lichen Planus and related diseases', 'Poison Ivy Photos and other Contact Dermatitis', 'Scabies Lyme Disease and other Infestations and Bites', 'Urticaria Hives', 'Vasculitis Photos', 'Seborrheic Keratoses and other Benign Tumors', 'Cellulitis Impetigo and other Bacterial Infections']\n",
            "18\n"
          ],
          "name": "stdout"
        }
      ]
    },
    {
      "cell_type": "code",
      "metadata": {
        "colab": {
          "base_uri": "https://localhost:8080/"
        },
        "id": "0R63MAb43ZH6",
        "outputId": "316753a9-2d8d-4240-e5df-61fb926ce564"
      },
      "source": [
        "for data in unused_data:\n",
        "  try:\n",
        "    shutil.rmtree(train_data_dir+ data)\n",
        "  except OSError as e:\n",
        "    print(\"Folder already deleted\")\n",
        "  try:\n",
        "    shutil.rmtree(validation_data_dir+ data)\n",
        "  except OSError as e:\n",
        "    print(\"Folder already deleted\")\n",
        "print(\"Done!\")"
      ],
      "execution_count": null,
      "outputs": [
        {
          "output_type": "stream",
          "text": [
            "Done!\n"
          ],
          "name": "stdout"
        }
      ]
    },
    {
      "cell_type": "code",
      "metadata": {
        "colab": {
          "base_uri": "https://localhost:8080/"
        },
        "id": "1zTX_FekAGOO",
        "outputId": "0cbc9ff3-3b20-4418-f185-16a26a9333bd"
      },
      "source": [
        "for directory in sorted(os.listdir(train_data_dir)):\n",
        "  print(directory)"
      ],
      "execution_count": null,
      "outputs": [
        {
          "output_type": "stream",
          "text": [
            "Acne and Rosacea Photos\n",
            "Actinic Keratosis Basal Cell Carcinoma and other Malignant Lesions\n",
            "Eczema Photos\n",
            "Light Diseases and Disorders of Pigmentation\n",
            "Nail Fungus and other Nail Disease\n"
          ],
          "name": "stdout"
        }
      ]
    },
    {
      "cell_type": "markdown",
      "metadata": {
        "id": "fMsEgPbMXPV5"
      },
      "source": [
        "## Download list file"
      ]
    },
    {
      "cell_type": "code",
      "metadata": {
        "id": "2CNv4O-OXSBU"
      },
      "source": [
        "disease_directory = \"Acne and Rosacea Photos/\" #Change directory name with spesific disease\n",
        "with open('file.txt', 'a') as f:\n",
        "  for data in sorted(os.listdir(train_data_dir+disease_directory)):\n",
        "    print(data, file=f)"
      ],
      "execution_count": null,
      "outputs": []
    },
    {
      "cell_type": "markdown",
      "metadata": {
        "id": "hVtEE31bFhR3"
      },
      "source": [
        "## Acne"
      ]
    },
    {
      "cell_type": "code",
      "metadata": {
        "id": "KHHOjS2QBu0g"
      },
      "source": [
        "disease_directory = \"Acne and Rosacea Photos/\""
      ],
      "execution_count": null,
      "outputs": []
    },
    {
      "cell_type": "code",
      "metadata": {
        "id": "B8YMTIGB0De6"
      },
      "source": [
        "pattern_list = [\"^07[\\w-]*.jpg\", \n",
        "                \"^acne-[\\w-]*.jpg\", \n",
        "                \"^gram-[\\w-]*.jpg\",\n",
        "                \"^perioral-dermatitis[\\w-]*.jpg\",\n",
        "                \"^rosacea-[\\w-]*.jpg\",\n",
        "                ]"
      ],
      "execution_count": null,
      "outputs": []
    },
    {
      "cell_type": "code",
      "metadata": {
        "colab": {
          "base_uri": "https://localhost:8080/"
        },
        "id": "sHOI-VpUC8Y3",
        "outputId": "7a27a02d-d956-4441-80c5-7224dc2602e0"
      },
      "source": [
        "for data in sorted(os.listdir(train_data_dir+disease_directory)):\n",
        "  x = None\n",
        "  for pattern in pattern_list:\n",
        "    x = re.search(pattern, data)\n",
        "    if x is not None:\n",
        "      break\n",
        "  if x is None:\n",
        "    os.remove(train_data_dir+disease_directory+data)\n",
        "print(\"train data: \"+str(len(os.listdir(train_data_dir+disease_directory))))"
      ],
      "execution_count": null,
      "outputs": [
        {
          "output_type": "stream",
          "text": [
            "train data: 682\n"
          ],
          "name": "stdout"
        }
      ]
    },
    {
      "cell_type": "code",
      "metadata": {
        "id": "F0eQJrpr5of6"
      },
      "source": [
        "pattern_list = [\"Forest-2\",\n",
        "                ]"
      ],
      "execution_count": null,
      "outputs": []
    },
    {
      "cell_type": "code",
      "metadata": {
        "colab": {
          "base_uri": "https://localhost:8080/"
        },
        "id": "6N8b-QjZW57w",
        "outputId": "560a58f7-2fb6-4e66-a999-e1884edd4173"
      },
      "source": [
        "print(\"validation data: \"+str(len(os.listdir(validation_data_dir+disease_directory))))"
      ],
      "execution_count": null,
      "outputs": [
        {
          "output_type": "stream",
          "text": [
            "validation data: 312\n"
          ],
          "name": "stdout"
        }
      ]
    },
    {
      "cell_type": "code",
      "metadata": {
        "colab": {
          "base_uri": "https://localhost:8080/"
        },
        "id": "VLMERY6ZApZ0",
        "outputId": "1ccf6a72-b322-476b-93bb-ff98539aa358"
      },
      "source": [
        "for data in sorted(os.listdir(validation_data_dir+disease_directory)):\n",
        "  x = None\n",
        "  for pattern in pattern_list:\n",
        "    x = re.search(pattern, data)\n",
        "    if x is None:\n",
        "      break\n",
        "  if x is not None:\n",
        "    os.remove(validation_data_dir+disease_directory+data)\n",
        "print(\"validation data: \"+str(len(os.listdir(validation_data_dir+disease_directory))))"
      ],
      "execution_count": null,
      "outputs": [
        {
          "output_type": "stream",
          "text": [
            "validation data: 311\n"
          ],
          "name": "stdout"
        }
      ]
    },
    {
      "cell_type": "markdown",
      "metadata": {
        "id": "N5jNW3GjFkQJ"
      },
      "source": [
        "## Actinic"
      ]
    },
    {
      "cell_type": "code",
      "metadata": {
        "id": "7E40iAq1C2Sc"
      },
      "source": [
        "disease_directory = \"Actinic Keratosis Basal Cell Carcinoma and other Malignant Lesions/\""
      ],
      "execution_count": null,
      "outputs": []
    },
    {
      "cell_type": "code",
      "metadata": {
        "id": "Ui4gkbyM0m6K"
      },
      "source": [
        "pattern_list = [\"^actinic-[\\w-]*.jpg\",\n",
        "                \"^basal-[\\w-]*.jpg\",\n",
        "                \"^squamous-[\\w-]*.jpg\",\n",
        "                ]"
      ],
      "execution_count": null,
      "outputs": []
    },
    {
      "cell_type": "code",
      "metadata": {
        "colab": {
          "base_uri": "https://localhost:8080/"
        },
        "id": "hkbL-rgBFmgv",
        "outputId": "ba1eb8fa-3a47-4c1d-9b57-1b3f52c23cff"
      },
      "source": [
        "for data in sorted(os.listdir(train_data_dir+disease_directory)):\n",
        "  x = None\n",
        "  for pattern in pattern_list:\n",
        "    x = re.search(pattern, data)\n",
        "    if x is not None:\n",
        "      break\n",
        "  if x is None:\n",
        "    os.remove(train_data_dir+disease_directory+data)\n",
        "print(\"train data: \"+str(len(os.listdir(train_data_dir+disease_directory))))"
      ],
      "execution_count": null,
      "outputs": [
        {
          "output_type": "stream",
          "text": [
            "train data: 822\n"
          ],
          "name": "stdout"
        }
      ]
    },
    {
      "cell_type": "code",
      "metadata": {
        "id": "pIvH9JlyEY0P"
      },
      "source": [
        "pattern_list = [\"^Forest-2[\\w-]*.jpg\", \n",
        "                ]"
      ],
      "execution_count": null,
      "outputs": []
    },
    {
      "cell_type": "code",
      "metadata": {
        "colab": {
          "base_uri": "https://localhost:8080/"
        },
        "id": "441fRJ7VXlSN",
        "outputId": "2e0ea376-db72-490a-ef38-f52049d7aef8"
      },
      "source": [
        "print(\"validation data: \"+str(len(os.listdir(validation_data_dir+disease_directory))))"
      ],
      "execution_count": null,
      "outputs": [
        {
          "output_type": "stream",
          "text": [
            "validation data: 288\n"
          ],
          "name": "stdout"
        }
      ]
    },
    {
      "cell_type": "code",
      "metadata": {
        "colab": {
          "base_uri": "https://localhost:8080/"
        },
        "id": "_ClEUYWv8W_x",
        "outputId": "07f53c0c-6cc6-460a-8d7f-596c7caf8b3e"
      },
      "source": [
        "for data in sorted(os.listdir(validation_data_dir+disease_directory)):\n",
        "  x = None\n",
        "  for pattern in pattern_list:\n",
        "    x = re.search(pattern, data)\n",
        "    if x is None:\n",
        "      break\n",
        "  if x is not None:\n",
        "    os.remove(validation_data_dir+disease_directory+data)\n",
        "print(\"validation data: \"+str(len(os.listdir(validation_data_dir+disease_directory))))"
      ],
      "execution_count": null,
      "outputs": [
        {
          "output_type": "stream",
          "text": [
            "validation data: 288\n"
          ],
          "name": "stdout"
        }
      ]
    },
    {
      "cell_type": "markdown",
      "metadata": {
        "id": "K-Bxbqu8GXQd"
      },
      "source": [
        "## Eczema Photos"
      ]
    },
    {
      "cell_type": "code",
      "metadata": {
        "id": "btadpAjpD9_x"
      },
      "source": [
        "disease_directory = \"Eczema Photos/\""
      ],
      "execution_count": null,
      "outputs": []
    },
    {
      "cell_type": "code",
      "metadata": {
        "id": "ulmCR6_31e_y"
      },
      "source": [
        "pattern_list = [\"03Desquamation-[\\w-]*.jpg\",\n",
        "                \"03Eczema[\\w-]*.jpg\",\n",
        "                \"Dyshidrosis-[\\w-]*.jpg\",\n",
        "                \"chapped-[\\w-]*.jpg\",\n",
        "                \"eczema-[\\w-]*.jpg\",\n",
        "                ]"
      ],
      "execution_count": null,
      "outputs": []
    },
    {
      "cell_type": "code",
      "metadata": {
        "colab": {
          "base_uri": "https://localhost:8080/"
        },
        "id": "VpPUx5hIGblr",
        "outputId": "72626815-469a-4e64-b755-20a742482f42"
      },
      "source": [
        "for data in sorted(os.listdir(train_data_dir+disease_directory)):\n",
        "  x = None\n",
        "  for pattern in pattern_list:\n",
        "    x = re.search(pattern, data)\n",
        "    if x is not None:\n",
        "      break\n",
        "  if x is None:\n",
        "    os.remove(train_data_dir+disease_directory+data)\n",
        "print(\"train data: \"+str(len(os.listdir(train_data_dir+disease_directory))))"
      ],
      "execution_count": null,
      "outputs": [
        {
          "output_type": "stream",
          "text": [
            "train data: 793\n"
          ],
          "name": "stdout"
        }
      ]
    },
    {
      "cell_type": "code",
      "metadata": {
        "id": "WzO_82MAEphX"
      },
      "source": [
        "pattern_list = [\"^eczema-histology[\\w-]*.jpg\",\n",
        "                \"^eczema-impetiginized[\\w-]*.jpg\",\n",
        "                \"^eczema-lids[\\w-]*.jpg\",\n",
        "                \"^eczema-penis[\\w-]*.jpg\",\n",
        "                \"^eczema-scrotum[\\w-]*.jpg\",\n",
        "                \"^eczema-subacute[\\w-]*.jpg\",\n",
        "                \"^Forest-2[\\w-]*.jpg\",\n",
        "                ]"
      ],
      "execution_count": null,
      "outputs": []
    },
    {
      "cell_type": "code",
      "metadata": {
        "colab": {
          "base_uri": "https://localhost:8080/"
        },
        "id": "q1JU5H7e85Ya",
        "outputId": "edf6494c-891f-4eef-88b7-dba5bbf2334f"
      },
      "source": [
        "for data in sorted(os.listdir(validation_data_dir+disease_directory)):\n",
        "  x = None\n",
        "  for pattern in pattern_list:\n",
        "    x = re.search(pattern, data)\n",
        "    if x is None:\n",
        "      break\n",
        "  if x is not None:\n",
        "    os.remove(validation_data_dir+disease_directory+data)\n",
        "print(\"validation data: \"+str(len(os.listdir(validation_data_dir+disease_directory))))"
      ],
      "execution_count": null,
      "outputs": [
        {
          "output_type": "stream",
          "text": [
            "validation data: 309\n"
          ],
          "name": "stdout"
        }
      ]
    },
    {
      "cell_type": "markdown",
      "metadata": {
        "id": "UfwOhUczG7et"
      },
      "source": [
        "## Light Diseases"
      ]
    },
    {
      "cell_type": "code",
      "metadata": {
        "id": "BfnelEOl2Gig"
      },
      "source": [
        "disease_directory = \"Light Diseases and Disorders of Pigmentation/\""
      ],
      "execution_count": null,
      "outputs": []
    },
    {
      "cell_type": "code",
      "metadata": {
        "id": "3WWC1t-g2Qe6"
      },
      "source": [
        "pattern_list = [\"^albinism-[\\w-]*.jpg\",\n",
        "                \"^colloid-[\\w-]*.jpg\",\n",
        "                \"^erythema-[\\w-]*.jpg\",\n",
        "                \"^erythromelanosis-[\\w-]*.jpg\",\n",
        "                \"^idiopathic-[\\w-]*.jpg\",\n",
        "                \"^lentigo-[\\w-]*.jpg\",\n",
        "                \"^melasma-[\\w-]*.jpg\",\n",
        "                \"^mongolian-[\\w-]*.jpg\",\n",
        "                \"^nevus-[\\w-]*.jpg\",\n",
        "                \"^phototoxic-[\\w-]*.jpg\",\n",
        "                \"^poikiloderma-[\\w-]*.jpg\",\n",
        "                \"^polymorphous-[\\w-]*.jpg\",\n",
        "                \"^radiation-[\\w-]*.jpg\",\n",
        "                \"^sun-[\\w-]*.jpg\",\n",
        "                \"^sunburn-[\\w-]*.jpg\",\n",
        "                ]"
      ],
      "execution_count": null,
      "outputs": []
    },
    {
      "cell_type": "code",
      "metadata": {
        "colab": {
          "base_uri": "https://localhost:8080/"
        },
        "id": "e0RQlgto2eSe",
        "outputId": "95477496-3f84-4970-8921-5a693b56f944"
      },
      "source": [
        "for data in sorted(os.listdir(train_data_dir+disease_directory)):\n",
        "  x = None\n",
        "  for pattern in pattern_list:\n",
        "    x = re.search(pattern, data)\n",
        "    if x is not None:\n",
        "      break\n",
        "  if x is None:\n",
        "    os.remove(train_data_dir+disease_directory+data)\n",
        "print(\"train data: \"+str(len(os.listdir(train_data_dir+disease_directory))))"
      ],
      "execution_count": null,
      "outputs": [
        {
          "output_type": "stream",
          "text": [
            "train data: 408\n"
          ],
          "name": "stdout"
        }
      ]
    },
    {
      "cell_type": "code",
      "metadata": {
        "id": "WlVLN8Zq9NjZ"
      },
      "source": [
        "pattern_list = [\"Forest-2[\\w-]*.jpg\",\n",
        "                ]"
      ],
      "execution_count": null,
      "outputs": []
    },
    {
      "cell_type": "code",
      "metadata": {
        "colab": {
          "base_uri": "https://localhost:8080/"
        },
        "id": "RTtopl8t2fOx",
        "outputId": "4e1d526a-b9c3-4ebc-950c-a8087e262f8c"
      },
      "source": [
        "for data in sorted(os.listdir(validation_data_dir+disease_directory)):\n",
        "  x = None\n",
        "  for pattern in pattern_list:\n",
        "    x = re.search(pattern, data)\n",
        "    if x is None:\n",
        "      break\n",
        "  if x is not None:\n",
        "    os.remove(validation_data_dir+disease_directory+data)\n",
        "print(\"validation data: \"+str(len(os.listdir(validation_data_dir+disease_directory))))"
      ],
      "execution_count": null,
      "outputs": [
        {
          "output_type": "stream",
          "text": [
            "validation data: 143\n"
          ],
          "name": "stdout"
        }
      ]
    },
    {
      "cell_type": "markdown",
      "metadata": {
        "id": "UpAnNx-q3ctk"
      },
      "source": [
        "## Nail Fungus"
      ]
    },
    {
      "cell_type": "code",
      "metadata": {
        "id": "3CavQhGG3iYV"
      },
      "source": [
        "disease_directory = \"Nail Fungus and other Nail Disease/\""
      ],
      "execution_count": null,
      "outputs": []
    },
    {
      "cell_type": "code",
      "metadata": {
        "id": "82rBR4NI24rm"
      },
      "source": [
        "pattern_list = [\"acute[\\w-]*.jpg\",\n",
        "                \"beaus[\\w-]*.jpg\",\n",
        "                \"biting[\\w-]*.jpg\",\n",
        "                \"blue[\\w-]*.jpg\",\n",
        "                \"chronic[\\w-]*.jpg\",\n",
        "                \"clubbing[\\w-]*.jpg\",\n",
        "                \"color[\\w-]*.jpg\",\n",
        "                \"congenital[\\w-]*.jpg\",\n",
        "                \"darier[\\w-]*.jpg\",\n",
        "                \"distal[\\w-]*.jpg\",\n",
        "                \"dry[\\w-]*.jpg\",\n",
        "                \"eczema[\\w-]*.jpg\",\n",
        "                \"habit[\\w-]*.jpg\",\n",
        "                \"ingrown[\\w-]*.jpg\",\n",
        "                \"koilonychia[\\w-]*.jpg\",\n",
        "                ]\n",
        "                "
      ],
      "execution_count": null,
      "outputs": []
    },
    {
      "cell_type": "code",
      "metadata": {
        "colab": {
          "base_uri": "https://localhost:8080/"
        },
        "id": "gfAp6WyP3SF2",
        "outputId": "570180e8-680d-4c9f-f4a7-03c350c8f6c8"
      },
      "source": [
        "for data in sorted(os.listdir(train_data_dir+disease_directory)):\n",
        "  x = None\n",
        "  for pattern in pattern_list:\n",
        "    x = re.search(pattern, data)\n",
        "    if x is not None:\n",
        "      break\n",
        "  if x is None:\n",
        "    os.remove(train_data_dir+disease_directory+data)\n",
        "print(\"train data: \"+str(len(os.listdir(train_data_dir+disease_directory))))"
      ],
      "execution_count": null,
      "outputs": [
        {
          "output_type": "stream",
          "text": [
            "train data: 349\n"
          ],
          "name": "stdout"
        }
      ]
    },
    {
      "cell_type": "code",
      "metadata": {
        "id": "NwmZ1kWU-D08"
      },
      "source": [
        "pattern_list = [\"^Forest-2[\\w-]*.jpg\",\n",
        "                ]"
      ],
      "execution_count": null,
      "outputs": []
    },
    {
      "cell_type": "code",
      "metadata": {
        "colab": {
          "base_uri": "https://localhost:8080/"
        },
        "id": "l7ObgUwe3U9c",
        "outputId": "724324fc-4ee1-4fcc-8fc8-06275f6e4434"
      },
      "source": [
        "for data in sorted(os.listdir(validation_data_dir+disease_directory)):\n",
        "  x = None\n",
        "  for pattern in pattern_list:\n",
        "    x = re.search(pattern, data)\n",
        "    if x is None:\n",
        "      break\n",
        "  if x is not None:\n",
        "    os.remove(validation_data_dir+disease_directory+data)\n",
        "print(\"validation data: \"+str(len(os.listdir(validation_data_dir+disease_directory))))"
      ],
      "execution_count": null,
      "outputs": [
        {
          "output_type": "stream",
          "text": [
            "validation data: 261\n"
          ],
          "name": "stdout"
        }
      ]
    },
    {
      "cell_type": "markdown",
      "metadata": {
        "id": "1tV79nAQa3gF"
      },
      "source": [
        "# Image Generator"
      ]
    },
    {
      "cell_type": "code",
      "metadata": {
        "id": "p9iuLTLua5Ul"
      },
      "source": [
        "img_width, img_height = 224, 224"
      ],
      "execution_count": null,
      "outputs": []
    },
    {
      "cell_type": "code",
      "metadata": {
        "id": "4HUCm2aK00k6"
      },
      "source": [
        "def preprocess_image(path):\n",
        "    img = load_img(path, target_size = (img_height, img_width))\n",
        "    a = img_to_array(img)\n",
        "    a = np.expand_dims(a, axis = 0)\n",
        "    a = preprocess_input(a)\n",
        "    return a"
      ],
      "execution_count": null,
      "outputs": []
    },
    {
      "cell_type": "code",
      "metadata": {
        "id": "oyeTnJR305e4",
        "colab": {
          "base_uri": "https://localhost:8080/"
        },
        "outputId": "aa23d46f-1ab1-4b9c-9f0f-b66e9a5e7a09"
      },
      "source": [
        "from keras.preprocessing.image import ImageDataGenerator\n",
        "from keras.applications.resnet50 import preprocess_input\n",
        "\n",
        "HEIGHT = 224\n",
        "WIDTH = 224\n",
        "BATCH_SIZE = 16\n",
        "\n",
        "train_datagen =  ImageDataGenerator(\n",
        "      preprocessing_function=preprocess_input,\n",
        "      rotation_range=90,\n",
        "      horizontal_flip=True,\n",
        "      vertical_flip=True,\n",
        "      fill_mode = 'nearest'\n",
        "    )\n",
        "\n",
        "train_generator = train_datagen.flow_from_directory(train_data_dir, \n",
        "                                                    target_size=(HEIGHT, WIDTH), \n",
        "                                                    batch_size=BATCH_SIZE)\n",
        "\n",
        "\n",
        "test_datagen =  ImageDataGenerator(\n",
        "      preprocessing_function=preprocess_input,\n",
        "      rotation_range=90,\n",
        "      horizontal_flip=True,\n",
        "      vertical_flip=True,\n",
        "      fill_mode = 'nearest'\n",
        "    )\n",
        "validation_generator = test_datagen.flow_from_directory(\n",
        "        validation_data_dir,\n",
        "        target_size=(HEIGHT, WIDTH),\n",
        "        batch_size=BATCH_SIZE)"
      ],
      "execution_count": null,
      "outputs": [
        {
          "output_type": "stream",
          "text": [
            "Found 3054 images belonging to 5 classes.\n",
            "Found 1312 images belonging to 5 classes.\n"
          ],
          "name": "stdout"
        }
      ]
    },
    {
      "cell_type": "markdown",
      "metadata": {
        "id": "d0AEVVlfEtYr"
      },
      "source": [
        "# Model Experiment"
      ]
    },
    {
      "cell_type": "markdown",
      "metadata": {
        "id": "_Zkbv9eb5ML5"
      },
      "source": [
        "## Resnet50 #2"
      ]
    },
    {
      "cell_type": "code",
      "metadata": {
        "id": "hEGlUen_5P9L"
      },
      "source": [
        "input_t = tf.keras.Input(shape=(224,224,3))\n",
        "res_model = tf.keras.applications.resnet50.ResNet50(include_top=False,\n",
        "                                    weights=\"imagenet\",\n",
        "                                    input_tensor=input_t)"
      ],
      "execution_count": null,
      "outputs": []
    },
    {
      "cell_type": "code",
      "metadata": {
        "id": "kTpQQwuY5qzS"
      },
      "source": [
        "for layer in res_model.layers:\n",
        "  layer.trainable = False"
      ],
      "execution_count": null,
      "outputs": []
    },
    {
      "cell_type": "code",
      "metadata": {
        "id": "LxT4dDMM6DLy"
      },
      "source": [
        "model = tf.keras.models.Sequential()\n",
        "model.add(tf.keras.layers.Lambda(lambda image: tf.image.resize(image, (224,224))))\n",
        "model.add(res_model)\n",
        "model.add(tf.keras.layers.Flatten())\n",
        "model.add(tf.keras.layers.BatchNormalization())\n",
        "model.add(tf.keras.layers.Dense(256, activation='relu'))\n",
        "model.add(tf.keras.layers.Dropout(0.5))\n",
        "model.add(tf.keras.layers.BatchNormalization())\n",
        "model.add(tf.keras.layers.Dense(128, activation='relu'))\n",
        "model.add(tf.keras.layers.Dropout(0.5))\n",
        "model.add(tf.keras.layers.BatchNormalization())\n",
        "model.add(tf.keras.layers.Dense(64, activation='relu'))\n",
        "model.add(tf.keras.layers.Dropout(0.5))\n",
        "model.add(tf.keras.layers.BatchNormalization())\n",
        "model.add(tf.keras.layers.Dense(5, activation='softmax'))"
      ],
      "execution_count": null,
      "outputs": []
    },
    {
      "cell_type": "code",
      "metadata": {
        "id": "sOP5tR066RTw"
      },
      "source": [
        "check_point = tf.keras.callbacks.ModelCheckpoint(filepath='dermnet.h5',\n",
        "                                          monitor=\"val_accuracy\",\n",
        "                                          mode='max',\n",
        "                                          save_best_only=True,\n",
        "                                          )"
      ],
      "execution_count": null,
      "outputs": []
    },
    {
      "cell_type": "code",
      "metadata": {
        "id": "T24sajE27DFP"
      },
      "source": [
        "model.compile(loss='categorical_crossentropy', \n",
        "              optimizer=tf.keras.optimizers.RMSprop(learning_rate=2e-5),\n",
        "              metrics=['accuracy'])"
      ],
      "execution_count": null,
      "outputs": []
    },
    {
      "cell_type": "code",
      "metadata": {
        "colab": {
          "base_uri": "https://localhost:8080/"
        },
        "id": "li3QHC097UN0",
        "outputId": "eb8f7763-ed48-430f-c569-23f4ed6e5f17"
      },
      "source": [
        "NUM_EPOCHS = 45\n",
        "history = model.fit(train_generator, \n",
        "                    epochs=NUM_EPOCHS, \n",
        "                    workers=16,\n",
        "                    verbose=1,\n",
        "                    validation_data = validation_generator,\n",
        "                    callbacks=[check_point]\n",
        "                    )"
      ],
      "execution_count": null,
      "outputs": [
        {
          "output_type": "stream",
          "text": [
            "Epoch 1/45\n",
            " 33/191 [====>.........................] - ETA: 30s - loss: 2.1029 - accuracy: 0.2235"
          ],
          "name": "stdout"
        }
      ]
    },
    {
      "cell_type": "markdown",
      "metadata": {
        "id": "bheMjfD3BMiq"
      },
      "source": [
        "## Resnet50 #3"
      ]
    },
    {
      "cell_type": "code",
      "metadata": {
        "id": "-OLeQu5rBQud"
      },
      "source": [
        "input_t = tf.keras.Input(shape=(224,224,3))\n",
        "res_model = tf.keras.applications.resnet50.ResNet50(include_top=False,\n",
        "                                    weights=\"imagenet\",\n",
        "                                    input_tensor=input_t)"
      ],
      "execution_count": null,
      "outputs": []
    },
    {
      "cell_type": "code",
      "metadata": {
        "id": "6ku4irwqBrsn"
      },
      "source": [
        "def build_model(base_model, num_classes):\n",
        "  for layer in base_model.layers:\n",
        "    layer.trainable = False\n",
        "\n",
        "  model = tf.keras.models.Sequential()\n",
        "\n",
        "  model.add(tf.keras.layers.Lambda(lambda image: tf.image.resize(image, (224,224))))\n",
        "  model.add(base_model)\n",
        "  model.add(tf.keras.layers.Flatten())\n",
        "\n",
        "  model.add(tf.keras.layers.Dense(1024, activation='relu'))\n",
        "  model.add(tf.keras.layers.Dense(1024, activation='relu'))\n",
        "  model.add(tf.keras.layers.Dense(num_classes, activation='softmax'))\n",
        "\n",
        "  return model\n",
        "\n",
        "class_list = os.listdir(train_data_dir)\n",
        "model = build_model(res_model, num_classes = len(class_list))"
      ],
      "execution_count": null,
      "outputs": []
    },
    {
      "cell_type": "code",
      "metadata": {
        "id": "I2Yop6xoCNOR"
      },
      "source": [
        "check_point = tf.keras.callbacks.ModelCheckpoint(filepath='dermnet.h5',\n",
        "                                          monitor=\"val_accuracy\",\n",
        "                                          mode='max',\n",
        "                                          save_best_only=True,\n",
        "                                          )"
      ],
      "execution_count": null,
      "outputs": []
    },
    {
      "cell_type": "code",
      "metadata": {
        "id": "YG0QOF_0CP5a"
      },
      "source": [
        "model.compile(loss='categorical_crossentropy', \n",
        "              optimizer=tf.keras.optimizers.SGD(learning_rate=0.0001, momentum=0.6),\n",
        "              metrics=['accuracy'])"
      ],
      "execution_count": null,
      "outputs": []
    },
    {
      "cell_type": "code",
      "metadata": {
        "colab": {
          "base_uri": "https://localhost:8080/"
        },
        "id": "nhDtEBmqCAPU",
        "outputId": "15a60859-2ff9-499c-99c2-1a0c3d23c3e7"
      },
      "source": [
        "NUM_EPOCHS = 45\n",
        "history = model.fit(train_generator, \n",
        "                    epochs=NUM_EPOCHS, \n",
        "                    workers=16,\n",
        "                    verbose=1,\n",
        "                    validation_data = validation_generator,\n",
        "                    callbacks=[check_point]\n",
        "                    )"
      ],
      "execution_count": null,
      "outputs": [
        {
          "output_type": "stream",
          "text": [
            "Epoch 1/45\n",
            " 28/191 [===>..........................] - ETA: 45s - loss: 1.7410 - accuracy: 0.3139"
          ],
          "name": "stdout"
        }
      ]
    },
    {
      "cell_type": "markdown",
      "metadata": {
        "id": "11IDXs5cdff_"
      },
      "source": [
        "## Resnet50 #4"
      ]
    },
    {
      "cell_type": "code",
      "metadata": {
        "id": "nEQUGH8ndfJK",
        "colab": {
          "base_uri": "https://localhost:8080/"
        },
        "outputId": "3e4bab36-2335-4239-cca5-6c836f297f68"
      },
      "source": [
        "input_t = tf.keras.Input(shape=(224,224,3))\n",
        "resnet_model = tf.keras.applications.resnet50.ResNet50(include_top=False,\n",
        "                                    weights=\"imagenet\",\n",
        "                                    input_tensor=input_t)"
      ],
      "execution_count": null,
      "outputs": [
        {
          "output_type": "stream",
          "text": [
            "Downloading data from https://storage.googleapis.com/tensorflow/keras-applications/resnet/resnet50_weights_tf_dim_ordering_tf_kernels_notop.h5\n",
            "94773248/94765736 [==============================] - 0s 0us/step\n"
          ],
          "name": "stdout"
        }
      ]
    },
    {
      "cell_type": "code",
      "metadata": {
        "id": "ukRGYlzHdoVI"
      },
      "source": [
        "def build_model(base_model, num_classes):\n",
        "  for layer in base_model.layers:\n",
        "    layer.trainable = False\n",
        "\n",
        "  model = tf.keras.models.Sequential()\n",
        "  model.add(tf.keras.layers.Lambda(lambda image: tf.image.resize(image, (224,224))))\n",
        "  model.add(base_model)\n",
        "  model.add(tf.keras.layers.Flatten())\n",
        "\n",
        "  model.add(tf.keras.layers.Dense(1024, activation=tf.keras.layers.LeakyReLU(alpha=0.3)))\n",
        "  model.add(tf.keras.layers.Dense(1024, activation=tf.keras.layers.LeakyReLU(alpha=0.3)))\n",
        "\n",
        "  model.add(tf.keras.layers.Dense(num_classes, activation='softmax'))\n",
        "\n",
        "  return model\n",
        "\n",
        "class_list = os.listdir(train_data_dir)\n",
        "\n",
        "model = build_model(resnet_model, num_classes = len(class_list))"
      ],
      "execution_count": null,
      "outputs": []
    },
    {
      "cell_type": "code",
      "metadata": {
        "id": "Borh0PwNdpq7"
      },
      "source": [
        "check_point = tf.keras.callbacks.ModelCheckpoint(filepath='dermnet.h5',\n",
        "                                          monitor=\"val_accuracy\",\n",
        "                                          mode='max',\n",
        "                                          save_best_only=True,\n",
        "                                          )"
      ],
      "execution_count": null,
      "outputs": []
    },
    {
      "cell_type": "code",
      "metadata": {
        "id": "clkhUmIFdqaG"
      },
      "source": [
        "model.compile(loss='categorical_crossentropy', \n",
        "              optimizer=tf.keras.optimizers.SGD(learning_rate=0.001, momentum=0.6),\n",
        "              metrics=['accuracy'])"
      ],
      "execution_count": null,
      "outputs": []
    },
    {
      "cell_type": "code",
      "metadata": {
        "id": "R10pSogTdr9C",
        "colab": {
          "base_uri": "https://localhost:8080/"
        },
        "outputId": "c910d3d0-58ea-4e05-c003-e2d957555189"
      },
      "source": [
        "NUM_EPOCHS = 45\n",
        "history = model.fit(train_generator, \n",
        "                    epochs=NUM_EPOCHS, \n",
        "                    workers=16,\n",
        "                    verbose=1,\n",
        "                    validation_data = validation_generator,\n",
        "                    callbacks=[check_point]\n",
        "                    )"
      ],
      "execution_count": null,
      "outputs": [
        {
          "output_type": "stream",
          "text": [
            "Epoch 1/45\n",
            "191/191 [==============================] - 65s 313ms/step - loss: 1.4415 - accuracy: 0.6349 - val_loss: 1.3177 - val_accuracy: 0.6075\n"
          ],
          "name": "stdout"
        },
        {
          "output_type": "stream",
          "text": [
            "/usr/local/lib/python3.7/dist-packages/tensorflow/python/keras/utils/generic_utils.py:497: CustomMaskWarning: Custom mask layers require a config and must override get_config. When loading, the custom mask layer must be passed to the custom_objects argument.\n",
            "  category=CustomMaskWarning)\n"
          ],
          "name": "stderr"
        },
        {
          "output_type": "stream",
          "text": [
            "Epoch 2/45\n",
            "191/191 [==============================] - 61s 308ms/step - loss: 0.7299 - accuracy: 0.7475 - val_loss: 1.2295 - val_accuracy: 0.6502\n",
            "Epoch 3/45\n",
            "191/191 [==============================] - 63s 319ms/step - loss: 0.6365 - accuracy: 0.7724 - val_loss: 1.1358 - val_accuracy: 0.6799\n",
            "Epoch 4/45\n",
            "191/191 [==============================] - 61s 308ms/step - loss: 0.5625 - accuracy: 0.7973 - val_loss: 1.3890 - val_accuracy: 0.6136\n",
            "Epoch 5/45\n",
            "191/191 [==============================] - 63s 309ms/step - loss: 0.5203 - accuracy: 0.8075 - val_loss: 1.1783 - val_accuracy: 0.6845\n",
            "Epoch 6/45\n",
            "191/191 [==============================] - 61s 307ms/step - loss: 0.4791 - accuracy: 0.8209 - val_loss: 1.1955 - val_accuracy: 0.6989\n",
            "Epoch 7/45\n",
            "191/191 [==============================] - 60s 304ms/step - loss: 0.4510 - accuracy: 0.8399 - val_loss: 1.1676 - val_accuracy: 0.7073\n",
            "Epoch 8/45\n",
            "191/191 [==============================] - 61s 310ms/step - loss: 0.4206 - accuracy: 0.8425 - val_loss: 1.2231 - val_accuracy: 0.7020\n",
            "Epoch 9/45\n",
            "191/191 [==============================] - 63s 306ms/step - loss: 0.4052 - accuracy: 0.8559 - val_loss: 1.4159 - val_accuracy: 0.6578\n",
            "Epoch 10/45\n",
            "191/191 [==============================] - 63s 309ms/step - loss: 0.3807 - accuracy: 0.8661 - val_loss: 1.1894 - val_accuracy: 0.7134\n",
            "Epoch 11/45\n",
            "191/191 [==============================] - 61s 309ms/step - loss: 0.3571 - accuracy: 0.8713 - val_loss: 1.2045 - val_accuracy: 0.7096\n",
            "Epoch 12/45\n",
            "191/191 [==============================] - 61s 310ms/step - loss: 0.3231 - accuracy: 0.8834 - val_loss: 1.2757 - val_accuracy: 0.6966\n",
            "Epoch 13/45\n",
            "191/191 [==============================] - 60s 306ms/step - loss: 0.3256 - accuracy: 0.8808 - val_loss: 1.1893 - val_accuracy: 0.7256\n",
            "Epoch 14/45\n",
            "191/191 [==============================] - 60s 304ms/step - loss: 0.3046 - accuracy: 0.8851 - val_loss: 1.1379 - val_accuracy: 0.7386\n",
            "Epoch 15/45\n",
            "191/191 [==============================] - 61s 307ms/step - loss: 0.2985 - accuracy: 0.8936 - val_loss: 1.2529 - val_accuracy: 0.7020\n",
            "Epoch 16/45\n",
            "191/191 [==============================] - 60s 303ms/step - loss: 0.2702 - accuracy: 0.9044 - val_loss: 1.2092 - val_accuracy: 0.7256\n",
            "Epoch 17/45\n",
            "191/191 [==============================] - 60s 303ms/step - loss: 0.2718 - accuracy: 0.9047 - val_loss: 1.3142 - val_accuracy: 0.7081\n",
            "Epoch 18/45\n",
            "191/191 [==============================] - 59s 299ms/step - loss: 0.2370 - accuracy: 0.9185 - val_loss: 1.1315 - val_accuracy: 0.7462\n",
            "Epoch 19/45\n",
            "191/191 [==============================] - 59s 298ms/step - loss: 0.2560 - accuracy: 0.9054 - val_loss: 1.4326 - val_accuracy: 0.7005\n",
            "Epoch 20/45\n",
            "191/191 [==============================] - 60s 299ms/step - loss: 0.2409 - accuracy: 0.9152 - val_loss: 1.2597 - val_accuracy: 0.7348\n",
            "Epoch 21/45\n",
            "191/191 [==============================] - 59s 299ms/step - loss: 0.2303 - accuracy: 0.9175 - val_loss: 1.1667 - val_accuracy: 0.7424\n",
            "Epoch 22/45\n",
            "191/191 [==============================] - 59s 298ms/step - loss: 0.2002 - accuracy: 0.9325 - val_loss: 1.2481 - val_accuracy: 0.7424\n",
            "Epoch 23/45\n",
            "191/191 [==============================] - 59s 297ms/step - loss: 0.2041 - accuracy: 0.9296 - val_loss: 1.4137 - val_accuracy: 0.7104\n",
            "Epoch 24/45\n",
            "191/191 [==============================] - 59s 297ms/step - loss: 0.1869 - accuracy: 0.9325 - val_loss: 1.4916 - val_accuracy: 0.6997\n",
            "Epoch 25/45\n",
            "191/191 [==============================] - 61s 302ms/step - loss: 0.2037 - accuracy: 0.9283 - val_loss: 1.2905 - val_accuracy: 0.7409\n",
            "Epoch 26/45\n",
            "191/191 [==============================] - 61s 306ms/step - loss: 0.1910 - accuracy: 0.9342 - val_loss: 1.2612 - val_accuracy: 0.7264\n",
            "Epoch 27/45\n",
            "191/191 [==============================] - 61s 309ms/step - loss: 0.2059 - accuracy: 0.9227 - val_loss: 1.3644 - val_accuracy: 0.7096\n",
            "Epoch 28/45\n",
            "191/191 [==============================] - 63s 310ms/step - loss: 0.1706 - accuracy: 0.9378 - val_loss: 1.3010 - val_accuracy: 0.7370\n",
            "Epoch 29/45\n",
            "191/191 [==============================] - 63s 309ms/step - loss: 0.1503 - accuracy: 0.9430 - val_loss: 1.3429 - val_accuracy: 0.7317\n",
            "Epoch 30/45\n",
            "191/191 [==============================] - 63s 308ms/step - loss: 0.1572 - accuracy: 0.9424 - val_loss: 1.3058 - val_accuracy: 0.7386\n",
            "Epoch 31/45\n",
            "191/191 [==============================] - 63s 308ms/step - loss: 0.1493 - accuracy: 0.9479 - val_loss: 1.4093 - val_accuracy: 0.7416\n",
            "Epoch 32/45\n",
            "191/191 [==============================] - 60s 305ms/step - loss: 0.1585 - accuracy: 0.9420 - val_loss: 1.4137 - val_accuracy: 0.7348\n",
            "Epoch 33/45\n",
            "191/191 [==============================] - 60s 305ms/step - loss: 0.1359 - accuracy: 0.9551 - val_loss: 1.3769 - val_accuracy: 0.7348\n",
            "Epoch 34/45\n",
            "191/191 [==============================] - 59s 301ms/step - loss: 0.1446 - accuracy: 0.9499 - val_loss: 1.3332 - val_accuracy: 0.7515\n",
            "Epoch 35/45\n",
            "191/191 [==============================] - 59s 299ms/step - loss: 0.1260 - accuracy: 0.9561 - val_loss: 1.3286 - val_accuracy: 0.7424\n",
            "Epoch 36/45\n",
            "191/191 [==============================] - 59s 299ms/step - loss: 0.1325 - accuracy: 0.9558 - val_loss: 1.4772 - val_accuracy: 0.7470\n",
            "Epoch 37/45\n",
            "191/191 [==============================] - 61s 300ms/step - loss: 0.1255 - accuracy: 0.9535 - val_loss: 1.4266 - val_accuracy: 0.7546\n",
            "Epoch 38/45\n",
            "191/191 [==============================] - 59s 298ms/step - loss: 0.1163 - accuracy: 0.9601 - val_loss: 1.4067 - val_accuracy: 0.7523\n",
            "Epoch 39/45\n",
            "191/191 [==============================] - 61s 299ms/step - loss: 0.1142 - accuracy: 0.9594 - val_loss: 1.5571 - val_accuracy: 0.7355\n",
            "Epoch 40/45\n",
            "191/191 [==============================] - 59s 299ms/step - loss: 0.1059 - accuracy: 0.9594 - val_loss: 1.3491 - val_accuracy: 0.7477\n",
            "Epoch 41/45\n",
            "191/191 [==============================] - 61s 299ms/step - loss: 0.1181 - accuracy: 0.9597 - val_loss: 1.4382 - val_accuracy: 0.7470\n",
            "Epoch 42/45\n",
            "191/191 [==============================] - 60s 302ms/step - loss: 0.0844 - accuracy: 0.9702 - val_loss: 1.5099 - val_accuracy: 0.7470\n",
            "Epoch 43/45\n",
            "191/191 [==============================] - 59s 301ms/step - loss: 0.1047 - accuracy: 0.9627 - val_loss: 1.4533 - val_accuracy: 0.7470\n",
            "Epoch 44/45\n",
            "191/191 [==============================] - 59s 300ms/step - loss: 0.0954 - accuracy: 0.9659 - val_loss: 1.4703 - val_accuracy: 0.7561\n",
            "Epoch 45/45\n",
            "191/191 [==============================] - 59s 300ms/step - loss: 0.0953 - accuracy: 0.9610 - val_loss: 1.6507 - val_accuracy: 0.7264\n"
          ],
          "name": "stdout"
        }
      ]
    },
    {
      "cell_type": "code",
      "metadata": {
        "id": "gsbZm3zbdtYB"
      },
      "source": [
        "model.summary()"
      ],
      "execution_count": null,
      "outputs": []
    },
    {
      "cell_type": "markdown",
      "metadata": {
        "id": "vZn-eIzZ3LHR"
      },
      "source": [
        "# Show Accuracy"
      ]
    },
    {
      "cell_type": "code",
      "metadata": {
        "id": "s6he6Xmp3NNL",
        "colab": {
          "base_uri": "https://localhost:8080/"
        },
        "outputId": "194f81cc-356e-4af6-fcce-f4579f41b3fa"
      },
      "source": [
        "import matplotlib.pyplot as plt\n",
        "acc = history.history['accuracy']\n",
        "loss = history.history['loss']\n",
        "val_acc = history.history['val_accuracy']\n",
        "val_loss = history.history['val_loss']\n",
        "epochs = range(len(acc))\n",
        "plt.plot(epochs, acc, 'b', label = 'Training accuracy')\n",
        "plt.plot(epochs, val_acc, 'r', label = 'Validation accuracy')\n",
        "plt.legend(loc=0)\n",
        "plt.figure()\n",
        "\n",
        "plt.show()\n",
        "\n",
        "plt.plot(epochs, loss, 'b', label = 'Training loss')\n",
        "plt.plot(epochs, val_loss, 'r', label = 'Validation loss')\n",
        "plt.legend(loc=0)\n",
        "plt.figure()\n",
        "\n",
        "plt.show()"
      ],
      "execution_count": null,
      "outputs": [
        {
          "output_type": "display_data",
          "data": {
            "image/png": "[encoded data removed]",
            "text/plain": [
              "<Figure size 432x288 with 1 Axes>"
            ]
          },
          "metadata": {
            "tags": [],
            "needs_background": "light"
          }
        },
        {
          "output_type": "display_data",
          "data": {
            "text/plain": [
              "<Figure size 432x288 with 0 Axes>"
            ]
          },
          "metadata": {
            "tags": []
          }
        },
        {
          "output_type": "display_data",
          "data": {
            "image/png": "[encoded data removed]",
            "text/plain": [
              "<Figure size 432x288 with 1 Axes>"
            ]
          },
          "metadata": {
            "tags": [],
            "needs_background": "light"
          }
        },
        {
          "output_type": "display_data",
          "data": {
            "text/plain": [
              "<Figure size 432x288 with 0 Axes>"
            ]
          },
          "metadata": {
            "tags": []
          }
        }
      ]
    },
    {
      "cell_type": "markdown",
      "metadata": {
        "id": "leOPEss63OoX"
      },
      "source": [
        "# Confusion Matrix"
      ]
    },
    {
      "cell_type": "code",
      "metadata": {
        "id": "tvvS3R0O3VGX",
        "colab": {
          "base_uri": "https://localhost:8080/"
        },
        "outputId": "cca20dbd-eb03-462e-8ce8-8c563aa1c019"
      },
      "source": [
        "print(validation_generator.classes)"
      ],
      "execution_count": null,
      "outputs": [
        {
          "output_type": "stream",
          "text": [
            "[0 0 0 ... 4 4 4]\n"
          ],
          "name": "stdout"
        }
      ]
    },
    {
      "cell_type": "code",
      "metadata": {
        "colab": {
          "base_uri": "https://localhost:8080/"
        },
        "id": "uTaevIaO3Vr9",
        "outputId": "37d4959d-4020-4385-859f-7ac890dc2409"
      },
      "source": [
        "from sklearn.metrics import classification_report, confusion_matrix\n",
        "import numpy as np\n",
        "\n",
        "num_test_images = 1457 \n",
        "# Y_pred = finetune_model.predict_generator(validation_generator, num_test_images // BATCH_SIZE+1)\n",
        "Y_pred = model.predict_generator(validation_generator, num_test_images)\n",
        "y_pred = np.argmax(Y_pred, axis=1)\n",
        "print('Confusion Matrix')\n",
        "print(confusion_matrix(validation_generator.classes, y_pred))\n",
        "print('\\nClassification Report')\n",
        "# 7 target_names = ['Acne and Rosacea Photos', 'Actinic Keratosis Basal Cell Carcinoma and other Malignant Lesions', 'Eczema Photos', 'Light Diseases and Disorders of Pigmentation', 'Nail Fungus and other Nail Disease', 'Vascular Tumors', 'Warts Molluscum and other Viral Infections']\n",
        "# 5 target_names = ['Acne and Rosacea Photos', 'Actinic Keratosis Basal Cell Carcinoma and other Malignant Lesions', 'Light Diseases and Disorders of Pigmentation', 'Vascular Tumors', 'Warts Molluscum and other Viral Infections']\n",
        "target_names = ['Acne and Rosacea Photos', 'Actinic Keratosis Basal Cell Carcinoma and other Malignant Lesions', 'Eczema Photos', 'Light Diseases and Disorders of Pigmentation', 'Nail Fungus and other Nail Disease', 'Vascular Tumors', 'Warts Molluscum and other Viral Infections']\n",
        "\n",
        "print(classification_report(validation_generator.classes, y_pred, target_names=used_data))"
      ],
      "execution_count": null,
      "outputs": [
        {
          "output_type": "stream",
          "text": [
            "/usr/local/lib/python3.7/dist-packages/tensorflow/python/keras/engine/training.py:2001: UserWarning: `Model.predict_generator` is deprecated and will be removed in a future version. Please use `Model.predict`, which supports generators.\n",
            "  warnings.warn('`Model.predict_generator` is deprecated and '\n"
          ],
          "name": "stderr"
        },
        {
          "output_type": "stream",
          "text": [
            "WARNING:tensorflow:Your input ran out of data; interrupting training. Make sure that your dataset or generator can generate at least `steps_per_epoch * epochs` batches (in this case, 1457 batches). You may need to use the repeat() function when building your dataset.\n",
            "Confusion Matrix\n",
            "[[60 92 80 32 47]\n",
            " [48 83 86 30 41]\n",
            " [56 97 77 33 46]\n",
            " [24 51 31 12 25]\n",
            " [46 80 59 33 43]]\n",
            "\n",
            "Classification Report\n",
            "                                                                    precision    recall  f1-score   support\n",
            "\n",
            "                                           Acne and Rosacea Photos       0.26      0.19      0.22       311\n",
            "Actinic Keratosis Basal Cell Carcinoma and other Malignant Lesions       0.21      0.29      0.24       288\n",
            "                                                     Eczema Photos       0.23      0.25      0.24       309\n",
            "                      Light Diseases and Disorders of Pigmentation       0.09      0.08      0.08       143\n",
            "                                Nail Fungus and other Nail Disease       0.21      0.16      0.19       261\n",
            "\n",
            "                                                          accuracy                           0.21      1312\n",
            "                                                         macro avg       0.20      0.20      0.19      1312\n",
            "                                                      weighted avg       0.21      0.21      0.21      1312\n",
            "\n"
          ],
          "name": "stdout"
        }
      ]
    },
    {
      "cell_type": "markdown",
      "metadata": {
        "id": "hqCmCNRD3h0I"
      },
      "source": [
        "# Test Predict"
      ]
    },
    {
      "cell_type": "code",
      "metadata": {
        "colab": {
          "resources": {
            "http://localhost:8080/nbextensions/google.colab/files.js": {
              "data": "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",
              "ok": true,
              "headers": [
                [
                  "content-type",
                  "application/javascript"
                ]
              ],
              "status": 200,
              "status_text": ""
            }
          },
          "base_uri": "https://localhost:8080/",
          "height": 177
        },
        "id": "PsfqlSVp3jGN",
        "outputId": "a887e496-a8d6-4f25-a030-3fcb4aacbe50"
      },
      "source": [
        "import numpy as np\n",
        "from google.colab import files\n",
        "from keras.preprocessing import image\n",
        "\n",
        "uploaded = files.upload()\n",
        "\n",
        "for fn in uploaded.keys():\n",
        " \n",
        "  # predicting images\n",
        "  path = '/content/' + fn\n",
        "  img = image.load_img(path, target_size=(224, 224))\n",
        "  x = image.img_to_array(img)\n",
        "  x = np.expand_dims(x, axis=0)\n",
        "\n",
        "  images = np.vstack([x])\n",
        "  classes = finetune_model.predict(images)\n",
        "  classes_predict = finetune_model.predict_classes(images)\n",
        "  print(classes)\n",
        "  print(classes_predict)"
      ],
      "execution_count": null,
      "outputs": [
        {
          "output_type": "display_data",
          "data": {
            "text/html": [
              "\n",
              "     <input type=\"file\" id=\"files-8afeac39-5844-4b75-8339-22b184be3313\" name=\"files[]\" multiple disabled\n",
              "        style=\"border:none\" />\n",
              "     <output id=\"result-8afeac39-5844-4b75-8339-22b184be3313\">\n",
              "      Upload widget is only available when the cell has been executed in the\n",
              "      current browser session. Please rerun this cell to enable.\n",
              "      </output>\n",
              "      <script src=\"/nbextensions/google.colab/files.js\"></script> "
            ],
            "text/plain": [
              "<IPython.core.display.HTML object>"
            ]
          },
          "metadata": {
            "tags": []
          }
        },
        {
          "output_type": "stream",
          "text": [
            "Saving t-warts-common-10.jpg to t-warts-common-10.jpg\n",
            "[[0.21589687 0.02971862 0.0526148  0.10036353 0.07585002 0.06511889\n",
            "  0.4604372 ]]\n",
            "[6]\n"
          ],
          "name": "stdout"
        },
        {
          "output_type": "stream",
          "text": [
            "/usr/local/lib/python3.7/dist-packages/tensorflow/python/keras/engine/sequential.py:455: UserWarning: `model.predict_classes()` is deprecated and will be removed after 2021-01-01. Please use instead:* `np.argmax(model.predict(x), axis=-1)`,   if your model does multi-class classification   (e.g. if it uses a `softmax` last-layer activation).* `(model.predict(x) > 0.5).astype(\"int32\")`,   if your model does binary classification   (e.g. if it uses a `sigmoid` last-layer activation).\n",
            "  warnings.warn('`model.predict_classes()` is deprecated and '\n"
          ],
          "name": "stderr"
        }
      ]
    },
    {
      "cell_type": "markdown",
      "metadata": {
        "id": "uiKxeKrG2z9R"
      },
      "source": [
        "# Save Model"
      ]
    },
    {
      "cell_type": "code",
      "metadata": {
        "colab": {
          "base_uri": "https://localhost:8080/"
        },
        "id": "dKGW5xV17uDw",
        "outputId": "65b22981-efc3-4126-f500-1603c7ccafb3"
      },
      "source": [
        "model.save(\"dermnet.h5\")"
      ],
      "execution_count": null,
      "outputs": [
        {
          "output_type": "stream",
          "text": [
            "/usr/local/lib/python3.7/dist-packages/tensorflow/python/keras/utils/generic_utils.py:497: CustomMaskWarning: Custom mask layers require a config and must override get_config. When loading, the custom mask layer must be passed to the custom_objects argument.\n",
            "  category=CustomMaskWarning)\n"
          ],
          "name": "stderr"
        }
      ]
    },
    {
      "cell_type": "markdown",
      "metadata": {
        "id": "W2V85xeG25Nl"
      },
      "source": [
        "# Upload to GCS"
      ]
    },
    {
      "cell_type": "code",
      "metadata": {
        "colab": {
          "base_uri": "https://localhost:8080/"
        },
        "id": "_PltecFa9U8X",
        "outputId": "fe85e06b-ed2a-4431-dca0-120e9b4458b6"
      },
      "source": [
        "!ls -al"
      ],
      "execution_count": null,
      "outputs": [
        {
          "output_type": "stream",
          "text": [
            "total 28\n",
            "drwxr-xr-x 1 root root 4096 Jun  1 17:35 .\n",
            "drwxr-xr-x 1 root root 4096 Jun  1 17:32 ..\n",
            "-rw-r--r-- 1 root root  720 Jun  1 17:34 adc.json\n",
            "-rw-r--r-- 1 root root    0 Jun  1 17:35 a.txt\n",
            "drwxr-xr-x 1 root root 4096 Jun  1 17:34 .config\n",
            "drwxr-xr-x 1 root root 4096 May  6 13:44 sample_data\n"
          ],
          "name": "stdout"
        }
      ]
    },
    {
      "cell_type": "code",
      "metadata": {
        "id": "SKlO8PZT9ftb"
      },
      "source": [
        "from google.colab import auth\n",
        "auth.authenticate_user()"
      ],
      "execution_count": null,
      "outputs": []
    },
    {
      "cell_type": "code",
      "metadata": {
        "id": "V9fVJ8aXANPx"
      },
      "source": [
        "project_id ='plexiform-being-312905'\n",
        "bucket_name = 'dermnet'"
      ],
      "execution_count": null,
      "outputs": []
    },
    {
      "cell_type": "code",
      "metadata": {
        "id": "fL0tbtnZpFzm",
        "colab": {
          "base_uri": "https://localhost:8080/",
          "height": 35
        },
        "outputId": "e3821eaf-745f-4539-c106-88e9ec7c3bf8"
      },
      "source": [
        "from datetime import datetime\n",
        "\n",
        "now = datetime.now()\n",
        "current_time = now.strftime(\"%d%m%y-%H%M%S\")\n",
        "current_time"
      ],
      "execution_count": null,
      "outputs": [
        {
          "output_type": "execute_result",
          "data": {
            "application/vnd.google.colaboratory.intrinsic+json": {
              "type": "string"
            },
            "text/plain": [
              "'020621-185129'"
            ]
          },
          "metadata": {
            "tags": []
          },
          "execution_count": 55
        }
      ]
    },
    {
      "cell_type": "code",
      "metadata": {
        "colab": {
          "base_uri": "https://localhost:8080/"
        },
        "id": "SK2k8uC7AfoE",
        "outputId": "691ec723-78e2-42d4-a804-02e11c4e0a78"
      },
      "source": [
        "!gsutil cp dermnet.h5 gs://{bucket_name}/{current_time}/"
      ],
      "execution_count": null,
      "outputs": [
        {
          "output_type": "stream",
          "text": [
            "Copying file://dermnet.h5 [Content-Type=application/octet-stream]...\n",
            "/ [0 files][    0.0 B/  1.2 GiB]                                                \r==> NOTE: You are uploading one or more large file(s), which would run\n",
            "significantly faster if you enable parallel composite uploads. This\n",
            "feature can be enabled by editing the\n",
            "\"parallel_composite_upload_threshold\" value in your .boto\n",
            "configuration file. However, note that if you do this large files will\n",
            "be uploaded as `composite objects\n",
            "<https://cloud.google.com/storage/docs/composite-objects>`_,which\n",
            "means that any user who downloads such objects will need to have a\n",
            "compiled crcmod installed (see \"gsutil help crcmod\"). This is because\n",
            "without a compiled crcmod, computing checksums on composite objects is\n",
            "so slow that gsutil disables downloads of composite objects.\n",
            "\n",
            "-\n",
            "Operation completed over 1 objects/1.2 GiB.                                      \n"
          ],
          "name": "stdout"
        }
      ]
    }
  ]
}