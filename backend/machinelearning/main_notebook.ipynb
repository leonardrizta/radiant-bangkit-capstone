{
  "nbformat": 4,
  "nbformat_minor": 0,
  "metadata": {
    "colab": {
      "name": "main_notebook_all_in_one.ipynb",
      "provenance": [],
      "toc_visible": true
    },
    "kernelspec": {
      "name": "python3",
      "display_name": "Python 3"
    },
    "language_info": {
      "name": "python"
    },
    "accelerator": "GPU"
  },
  "cells": [
    {
      "cell_type": "code",
      "metadata": {
        "colab": {
          "base_uri": "https://localhost:8080/"
        },
        "id": "UGaIOy2wcEqo",
        "outputId": "7c62ff50-a411-48b7-8aa1-8903bb85ae1b"
      },
      "source": [
        "import tensorflow as tf\n",
        "print(tf.__version__)"
      ],
      "execution_count": null,
      "outputs": [
        {
          "output_type": "stream",
          "text": [
            "2.5.0\n"
          ],
          "name": "stdout"
        }
      ]
    },
    {
      "cell_type": "markdown",
      "metadata": {
        "id": "MV-KNwm38TDQ"
      },
      "source": [
        "# Kaggle Preparation"
      ]
    },
    {
      "cell_type": "code",
      "metadata": {
        "id": "fy-ntV4ZP0uW"
      },
      "source": [
        "import re\n",
        "import os\n",
        "import zipfile\n",
        "import random\n",
        "import shutil\n",
        "import tensorflow as tf\n",
        "from tensorflow.keras.optimizers import RMSprop, SGD\n",
        "from tensorflow.keras.preprocessing.image import ImageDataGenerator\n",
        "from shutil import copyfile\n",
        "from os import getcwd"
      ],
      "execution_count": null,
      "outputs": []
    },
    {
      "cell_type": "code",
      "metadata": {
        "colab": {
          "resources": {
            "http://localhost:8080/nbextensions/google.colab/files.js": {
              "data": "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",
              "ok": true,
              "headers": [
                [
                  "content-type",
                  "application/javascript"
                ]
              ],
              "status": 200,
              "status_text": ""
            }
          },
          "base_uri": "https://localhost:8080/",
          "height": 89
        },
        "id": "aJ-_fjf-QHZy",
        "outputId": "e1dfabf6-5c41-4675-c03b-d72ebd5a5588"
      },
      "source": [
        "!pip install -q kaggle\n",
        "from google.colab import files\n",
        "files.upload()"
      ],
      "execution_count": null,
      "outputs": [
        {
          "output_type": "display_data",
          "data": {
            "text/html": [
              "\n",
              "     <input type=\"file\" id=\"files-b0fc3060-7ee4-4e0b-8015-8d1cf1c7327f\" name=\"files[]\" multiple disabled\n",
              "        style=\"border:none\" />\n",
              "     <output id=\"result-b0fc3060-7ee4-4e0b-8015-8d1cf1c7327f\">\n",
              "      Upload widget is only available when the cell has been executed in the\n",
              "      current browser session. Please rerun this cell to enable.\n",
              "      </output>\n",
              "      <script src=\"/nbextensions/google.colab/files.js\"></script> "
            ],
            "text/plain": [
              "<IPython.core.display.HTML object>"
            ]
          },
          "metadata": {
            "tags": []
          }
        },
        {
          "output_type": "stream",
          "text": [
            "Saving kaggle.json to kaggle (1).json\n"
          ],
          "name": "stdout"
        },
        {
          "output_type": "execute_result",
          "data": {
            "text/plain": [
              "{'kaggle.json': b'{\"username\":\"leonardrizta\",\"key\":\"9e49c9b604d0e7ce6ee28ad39bffc2b1\"}'}"
            ]
          },
          "metadata": {
            "tags": []
          },
          "execution_count": 76
        }
      ]
    },
    {
      "cell_type": "code",
      "metadata": {
        "colab": {
          "base_uri": "https://localhost:8080/"
        },
        "id": "TKNTF_8qQKtH",
        "outputId": "045675e9-965b-4b1c-945c-147ed05a45b7"
      },
      "source": [
        "! mkdir ~/.kaggle\n",
        "! cp kaggle.json ~/.kaggle/\n",
        "! chmod 600 ~/.kaggle/kaggle.json\n",
        "! kaggle datasets list"
      ],
      "execution_count": null,
      "outputs": [
        {
          "output_type": "stream",
          "text": [
            "mkdir: cannot create directory ‘/root/.kaggle’: File exists\n",
            "Warning: Looks like you're using an outdated API Version, please consider updating (server 1.5.12 / client 1.5.4)\n",
            "ref                                                         title                                              size  lastUpdated          downloadCount  \n",
            "----------------------------------------------------------  ------------------------------------------------  -----  -------------------  -------------  \n",
            "gpreda/reddit-vaccine-myths                                 Reddit Vaccine Myths                              229KB  2021-06-01 11:18:46           6536  \n",
            "crowww/a-large-scale-fish-dataset                           A Large Scale Fish Dataset                          3GB  2021-04-28 17:03:01           3835  \n",
            "imsparsh/musicnet-dataset                                   MusicNet Dataset                                   22GB  2021-02-18 14:12:19           1312  \n",
            "dhruvildave/wikibooks-dataset                               Wikibooks Dataset                                   1GB  2021-02-18 10:08:27           2059  \n",
            "promptcloud/careerbuilder-job-listing-2020                  Careerbuilder Job Listing 2020                     42MB  2021-03-05 06:59:52            934  \n",
            "mathurinache/twitter-edge-nodes                             Twitter Edge Nodes                                342MB  2021-03-08 06:43:04            443  \n",
            "fatiimaezzahra/famous-iconic-women                          Famous Iconic Women                               838MB  2021-02-28 14:56:00            667  \n",
            "alsgroup/end-als                                            End ALS Kaggle Challenge                           12GB  2021-04-08 12:16:37            670  \n",
            "simiotic/github-code-snippets                               GitHub Code Snippets                                7GB  2021-03-03 11:34:39            137  \n",
            "coloradokb/dandelionimages                                  DandelionImages                                     4GB  2021-02-19 20:03:47            382  \n",
            "nickuzmenkov/nih-chest-xrays-tfrecords                      NIH Chest X-rays TFRecords                         11GB  2021-03-09 04:49:23            537  \n",
            "mathurinache/the-lj-speech-dataset                          The LJ Speech Dataset                               3GB  2021-02-15 09:19:54            168  \n",
            "stuartjames/lights                                          LightS: Light Specularity Dataset                  18GB  2021-02-18 14:32:26             62  \n",
            "imsparsh/accentdb-core-extended                             AccentDB - Core & Extended                          6GB  2021-02-17 14:22:54             76  \n",
            "nickuzmenkov/ranzcr-clip-kfold-tfrecords                    RANZCR CLiP KFold TFRecords                         2GB  2021-02-21 13:29:51             81  \n",
            "landrykezebou/lvzhdr-tone-mapping-benchmark-dataset-tmonet  LVZ-HDR Tone Mapping Benchmark Dataset (TMO-Net)   24GB  2021-03-01 05:03:40             82  \n",
            "datasnaek/youtube-new                                       Trending YouTube Video Statistics                 201MB  2019-06-03 00:56:47         141361  \n",
            "zynicide/wine-reviews                                       Wine Reviews                                       51MB  2017-11-27 17:08:04         137525  \n",
            "residentmario/ramen-ratings                                 Ramen Ratings                                      40KB  2018-01-11 16:04:39          23522  \n",
            "datasnaek/chess                                             Chess Game Dataset (Lichess)                        3MB  2017-09-04 03:09:09          18791  \n"
          ],
          "name": "stdout"
        }
      ]
    },
    {
      "cell_type": "markdown",
      "metadata": {
        "id": "kQypvO6Awcwi"
      },
      "source": [
        "# Dataset Download"
      ]
    },
    {
      "cell_type": "code",
      "metadata": {
        "colab": {
          "base_uri": "https://localhost:8080/"
        },
        "id": "XdjKttFYxDJZ",
        "outputId": "5866a06d-2321-41c0-b53c-22df7f90d58f"
      },
      "source": [
        "!kaggle datasets download -d shubhamgoel27/dermnet"
      ],
      "execution_count": null,
      "outputs": [
        {
          "output_type": "stream",
          "text": [
            "dermnet.zip: Skipping, found more recently modified local copy (use --force to force download)\n"
          ],
          "name": "stdout"
        }
      ]
    },
    {
      "cell_type": "code",
      "metadata": {
        "id": "8hzmqDtxxHpK"
      },
      "source": [
        "dataset_path = \"/content/dermnet.zip\"\n",
        "zip_ref = zipfile.ZipFile(dataset_path, 'r')\n",
        "zip_ref.extractall('/tmp/')\n",
        "zip_ref.close()"
      ],
      "execution_count": null,
      "outputs": []
    },
    {
      "cell_type": "code",
      "metadata": {
        "id": "o0XCy2YBwfig"
      },
      "source": [
        "train_data_dir = '/tmp/train/'\n",
        "validation_data_dir = '/tmp/test/'"
      ],
      "execution_count": null,
      "outputs": []
    },
    {
      "cell_type": "markdown",
      "metadata": {
        "id": "kc0ZJFqeVy8Y"
      },
      "source": [
        "# Dataset Preparation"
      ]
    },
    {
      "cell_type": "code",
      "metadata": {
        "colab": {
          "base_uri": "https://localhost:8080/"
        },
        "id": "BTGviqzewhj9",
        "outputId": "b514806c-fcfc-4eef-93fd-40f06630e2a3"
      },
      "source": [
        "train_data_list = os.listdir(train_data_dir)\n",
        "validation_data_list = os.listdir(validation_data_dir)\n",
        "print(os.listdir(train_data_dir))\n",
        "print(os.listdir(validation_data_dir))\n",
        "print(len(os.listdir(train_data_dir)))\n",
        "print(len(os.listdir(validation_data_dir)))"
      ],
      "execution_count": null,
      "outputs": [
        {
          "output_type": "stream",
          "text": [
            "['Herpes HPV and other STDs Photos', 'Warts Molluscum and other Viral Infections', 'Melanoma Skin Cancer Nevi and Moles', 'Systemic Disease', 'Actinic Keratosis Basal Cell Carcinoma and other Malignant Lesions', 'Vascular Tumors', 'Exanthems and Drug Eruptions', 'Acne and Rosacea Photos', 'Hair Loss Photos Alopecia and other Hair Diseases', 'Bullous Disease Photos', 'Atopic Dermatitis Photos', 'Tinea Ringworm Candidiasis and other Fungal Infections', 'Lupus and other Connective Tissue diseases', 'Psoriasis pictures Lichen Planus and related diseases', 'Poison Ivy Photos and other Contact Dermatitis', 'Scabies Lyme Disease and other Infestations and Bites', 'Urticaria Hives', 'Eczema Photos', 'Vasculitis Photos', 'Seborrheic Keratoses and other Benign Tumors', 'Cellulitis Impetigo and other Bacterial Infections', 'Nail Fungus and other Nail Disease', 'Light Diseases and Disorders of Pigmentation']\n",
            "['Herpes HPV and other STDs Photos', 'Warts Molluscum and other Viral Infections', 'Melanoma Skin Cancer Nevi and Moles', 'Systemic Disease', 'Actinic Keratosis Basal Cell Carcinoma and other Malignant Lesions', 'Vascular Tumors', 'Exanthems and Drug Eruptions', 'Acne and Rosacea Photos', 'Hair Loss Photos Alopecia and other Hair Diseases', 'Bullous Disease Photos', 'Atopic Dermatitis Photos', 'Tinea Ringworm Candidiasis and other Fungal Infections', 'Lupus and other Connective Tissue diseases', 'Psoriasis pictures Lichen Planus and related diseases', 'Poison Ivy Photos and other Contact Dermatitis', 'Scabies Lyme Disease and other Infestations and Bites', 'Urticaria Hives', 'Eczema Photos', 'Vasculitis Photos', 'Seborrheic Keratoses and other Benign Tumors', 'Cellulitis Impetigo and other Bacterial Infections', 'Nail Fungus and other Nail Disease', 'Light Diseases and Disorders of Pigmentation']\n",
            "23\n",
            "23\n"
          ],
          "name": "stdout"
        }
      ]
    },
    {
      "cell_type": "code",
      "metadata": {
        "id": "2monMgZzySIT"
      },
      "source": [
        "used_data = ['Acne and Rosacea Photos', 'Actinic Keratosis Basal Cell Carcinoma and other Malignant Lesions', 'Eczema Photos', 'Light Diseases and Disorders of Pigmentation', 'Nail Fungus and other Nail Disease']"
      ],
      "execution_count": null,
      "outputs": []
    },
    {
      "cell_type": "code",
      "metadata": {
        "colab": {
          "base_uri": "https://localhost:8080/"
        },
        "id": "2DTl0ibo49L0",
        "outputId": "546ac74b-098e-467e-a884-93de2d9d5c6a"
      },
      "source": [
        "unused_data = train_data_list\n",
        "print(unused_data)"
      ],
      "execution_count": null,
      "outputs": [
        {
          "output_type": "stream",
          "text": [
            "['Herpes HPV and other STDs Photos', 'Warts Molluscum and other Viral Infections', 'Melanoma Skin Cancer Nevi and Moles', 'Systemic Disease', 'Actinic Keratosis Basal Cell Carcinoma and other Malignant Lesions', 'Vascular Tumors', 'Exanthems and Drug Eruptions', 'Acne and Rosacea Photos', 'Hair Loss Photos Alopecia and other Hair Diseases', 'Bullous Disease Photos', 'Atopic Dermatitis Photos', 'Tinea Ringworm Candidiasis and other Fungal Infections', 'Lupus and other Connective Tissue diseases', 'Psoriasis pictures Lichen Planus and related diseases', 'Poison Ivy Photos and other Contact Dermatitis', 'Scabies Lyme Disease and other Infestations and Bites', 'Urticaria Hives', 'Eczema Photos', 'Vasculitis Photos', 'Seborrheic Keratoses and other Benign Tumors', 'Cellulitis Impetigo and other Bacterial Infections', 'Nail Fungus and other Nail Disease', 'Light Diseases and Disorders of Pigmentation']\n"
          ],
          "name": "stdout"
        }
      ]
    },
    {
      "cell_type": "code",
      "metadata": {
        "colab": {
          "base_uri": "https://localhost:8080/"
        },
        "id": "1QgHmWVy5DNp",
        "outputId": "23fe6dee-b3eb-433e-cb7c-fa0f1266d5e0"
      },
      "source": [
        "for data in used_data:\n",
        "  unused_data.remove(data)\n",
        "print(unused_data)\n",
        "print(len(unused_data))"
      ],
      "execution_count": null,
      "outputs": [
        {
          "output_type": "stream",
          "text": [
            "['Herpes HPV and other STDs Photos', 'Warts Molluscum and other Viral Infections', 'Melanoma Skin Cancer Nevi and Moles', 'Systemic Disease', 'Vascular Tumors', 'Exanthems and Drug Eruptions', 'Hair Loss Photos Alopecia and other Hair Diseases', 'Bullous Disease Photos', 'Atopic Dermatitis Photos', 'Tinea Ringworm Candidiasis and other Fungal Infections', 'Lupus and other Connective Tissue diseases', 'Psoriasis pictures Lichen Planus and related diseases', 'Poison Ivy Photos and other Contact Dermatitis', 'Scabies Lyme Disease and other Infestations and Bites', 'Urticaria Hives', 'Vasculitis Photos', 'Seborrheic Keratoses and other Benign Tumors', 'Cellulitis Impetigo and other Bacterial Infections']\n",
            "18\n"
          ],
          "name": "stdout"
        }
      ]
    },
    {
      "cell_type": "code",
      "metadata": {
        "colab": {
          "base_uri": "https://localhost:8080/"
        },
        "id": "0R63MAb43ZH6",
        "outputId": "f6598883-9a8d-4500-9b68-1dd3348908d2"
      },
      "source": [
        "for data in unused_data:\n",
        "  try:\n",
        "    shutil.rmtree(train_data_dir+ data)\n",
        "  except OSError as e:\n",
        "    print(\"Folder already deleted\")\n",
        "  try:\n",
        "    shutil.rmtree(validation_data_dir+ data)\n",
        "  except OSError as e:\n",
        "    print(\"Folder already deleted\")\n",
        "print(\"Done!\")"
      ],
      "execution_count": null,
      "outputs": [
        {
          "output_type": "stream",
          "text": [
            "Done!\n"
          ],
          "name": "stdout"
        }
      ]
    },
    {
      "cell_type": "code",
      "metadata": {
        "colab": {
          "base_uri": "https://localhost:8080/"
        },
        "id": "1zTX_FekAGOO",
        "outputId": "b1387891-a266-4a2e-b66a-2f6d0c6c7368"
      },
      "source": [
        "for directory in sorted(os.listdir(train_data_dir)):\n",
        "  print(directory)"
      ],
      "execution_count": null,
      "outputs": [
        {
          "output_type": "stream",
          "text": [
            "Acne and Rosacea Photos\n",
            "Actinic Keratosis Basal Cell Carcinoma and other Malignant Lesions\n",
            "Eczema Photos\n",
            "Light Diseases and Disorders of Pigmentation\n",
            "Nail Fungus and other Nail Disease\n"
          ],
          "name": "stdout"
        }
      ]
    },
    {
      "cell_type": "markdown",
      "metadata": {
        "id": "fMsEgPbMXPV5"
      },
      "source": [
        "## Download list file"
      ]
    },
    {
      "cell_type": "code",
      "metadata": {
        "id": "2CNv4O-OXSBU"
      },
      "source": [
        "disease_directory = \"Acne and Rosacea Photos/\" #Change directory name with spesific disease\n",
        "with open('file.txt', 'a') as f:\n",
        "  for data in sorted(os.listdir(train_data_dir+disease_directory)):\n",
        "    print(data, file=f)"
      ],
      "execution_count": null,
      "outputs": []
    },
    {
      "cell_type": "markdown",
      "metadata": {
        "id": "hVtEE31bFhR3"
      },
      "source": [
        "## Acne"
      ]
    },
    {
      "cell_type": "code",
      "metadata": {
        "id": "KHHOjS2QBu0g"
      },
      "source": [
        "disease_directory = \"Acne and Rosacea Photos/\""
      ],
      "execution_count": null,
      "outputs": []
    },
    {
      "cell_type": "code",
      "metadata": {
        "id": "B8YMTIGB0De6"
      },
      "source": [
        "pattern_list = [\"^07[\\w-]*.jpg\", \n",
        "                \"^acne-[\\w-]*.jpg\", \n",
        "                \"^gram-[\\w-]*.jpg\",\n",
        "                \"^perioral-dermatitis[\\w-]*.jpg\",\n",
        "                \"^rosacea-[\\w-]*.jpg\",\n",
        "                ]"
      ],
      "execution_count": null,
      "outputs": []
    },
    {
      "cell_type": "code",
      "metadata": {
        "colab": {
          "base_uri": "https://localhost:8080/"
        },
        "id": "sHOI-VpUC8Y3",
        "outputId": "882e44ae-a284-4f35-80af-0cfa5f3dbd22"
      },
      "source": [
        "for data in sorted(os.listdir(train_data_dir+disease_directory)):\n",
        "  x = None\n",
        "  for pattern in pattern_list:\n",
        "    x = re.search(pattern, data)\n",
        "    if x is not None:\n",
        "      break\n",
        "  if x is None:\n",
        "    os.remove(train_data_dir+disease_directory+data)\n",
        "print(\"train data: \"+str(len(os.listdir(train_data_dir+disease_directory))))"
      ],
      "execution_count": null,
      "outputs": [
        {
          "output_type": "stream",
          "text": [
            "train data: 682\n"
          ],
          "name": "stdout"
        }
      ]
    },
    {
      "cell_type": "code",
      "metadata": {
        "id": "F0eQJrpr5of6"
      },
      "source": [
        "pattern_list = [\"Forest-2\",\n",
        "                ]"
      ],
      "execution_count": null,
      "outputs": []
    },
    {
      "cell_type": "code",
      "metadata": {
        "colab": {
          "base_uri": "https://localhost:8080/"
        },
        "id": "6N8b-QjZW57w",
        "outputId": "41f9c614-f492-4f64-93c2-0fbe42b6f3a6"
      },
      "source": [
        "print(\"validation data: \"+str(len(os.listdir(validation_data_dir+disease_directory))))"
      ],
      "execution_count": null,
      "outputs": [
        {
          "output_type": "stream",
          "text": [
            "validation data: 312\n"
          ],
          "name": "stdout"
        }
      ]
    },
    {
      "cell_type": "code",
      "metadata": {
        "colab": {
          "base_uri": "https://localhost:8080/"
        },
        "id": "VLMERY6ZApZ0",
        "outputId": "769e48d4-991c-426c-e521-54cdf211d517"
      },
      "source": [
        "for data in sorted(os.listdir(validation_data_dir+disease_directory)):\n",
        "  x = None\n",
        "  for pattern in pattern_list:\n",
        "    x = re.search(pattern, data)\n",
        "    if x is None:\n",
        "      break\n",
        "  if x is not None:\n",
        "    os.remove(validation_data_dir+disease_directory+data)\n",
        "print(\"validation data: \"+str(len(os.listdir(validation_data_dir+disease_directory))))"
      ],
      "execution_count": null,
      "outputs": [
        {
          "output_type": "stream",
          "text": [
            "validation data: 311\n"
          ],
          "name": "stdout"
        }
      ]
    },
    {
      "cell_type": "markdown",
      "metadata": {
        "id": "N5jNW3GjFkQJ"
      },
      "source": [
        "## Actinic"
      ]
    },
    {
      "cell_type": "code",
      "metadata": {
        "id": "7E40iAq1C2Sc"
      },
      "source": [
        "disease_directory = \"Actinic Keratosis Basal Cell Carcinoma and other Malignant Lesions/\""
      ],
      "execution_count": null,
      "outputs": []
    },
    {
      "cell_type": "code",
      "metadata": {
        "id": "Ui4gkbyM0m6K"
      },
      "source": [
        "pattern_list = [\"^actinic-[\\w-]*.jpg\",\n",
        "                \"^basal-[\\w-]*.jpg\",\n",
        "                \"^squamous-[\\w-]*.jpg\",\n",
        "                ]"
      ],
      "execution_count": null,
      "outputs": []
    },
    {
      "cell_type": "code",
      "metadata": {
        "colab": {
          "base_uri": "https://localhost:8080/"
        },
        "id": "hkbL-rgBFmgv",
        "outputId": "fdea6057-c257-44a2-f10a-57f9162f7fb7"
      },
      "source": [
        "for data in sorted(os.listdir(train_data_dir+disease_directory)):\n",
        "  x = None\n",
        "  for pattern in pattern_list:\n",
        "    x = re.search(pattern, data)\n",
        "    if x is not None:\n",
        "      break\n",
        "  if x is None:\n",
        "    os.remove(train_data_dir+disease_directory+data)\n",
        "print(\"train data: \"+str(len(os.listdir(train_data_dir+disease_directory))))"
      ],
      "execution_count": null,
      "outputs": [
        {
          "output_type": "stream",
          "text": [
            "train data: 822\n"
          ],
          "name": "stdout"
        }
      ]
    },
    {
      "cell_type": "code",
      "metadata": {
        "id": "pIvH9JlyEY0P"
      },
      "source": [
        "pattern_list = [\"^Forest-2[\\w-]*.jpg\", \n",
        "                ]"
      ],
      "execution_count": null,
      "outputs": []
    },
    {
      "cell_type": "code",
      "metadata": {
        "colab": {
          "base_uri": "https://localhost:8080/"
        },
        "id": "441fRJ7VXlSN",
        "outputId": "6d2bcd7b-df16-455d-9597-4b1d1fdf2dfe"
      },
      "source": [
        "print(\"validation data: \"+str(len(os.listdir(validation_data_dir+disease_directory))))"
      ],
      "execution_count": null,
      "outputs": [
        {
          "output_type": "stream",
          "text": [
            "validation data: 288\n"
          ],
          "name": "stdout"
        }
      ]
    },
    {
      "cell_type": "code",
      "metadata": {
        "colab": {
          "base_uri": "https://localhost:8080/"
        },
        "id": "_ClEUYWv8W_x",
        "outputId": "ebb89a95-4225-48b1-e08f-8ed45ff286ea"
      },
      "source": [
        "for data in sorted(os.listdir(validation_data_dir+disease_directory)):\n",
        "  x = None\n",
        "  for pattern in pattern_list:\n",
        "    x = re.search(pattern, data)\n",
        "    if x is None:\n",
        "      break\n",
        "  if x is not None:\n",
        "    os.remove(validation_data_dir+disease_directory+data)\n",
        "print(\"validation data: \"+str(len(os.listdir(validation_data_dir+disease_directory))))"
      ],
      "execution_count": null,
      "outputs": [
        {
          "output_type": "stream",
          "text": [
            "validation data: 288\n"
          ],
          "name": "stdout"
        }
      ]
    },
    {
      "cell_type": "markdown",
      "metadata": {
        "id": "K-Bxbqu8GXQd"
      },
      "source": [
        "## Eczema Photos"
      ]
    },
    {
      "cell_type": "code",
      "metadata": {
        "id": "btadpAjpD9_x"
      },
      "source": [
        "disease_directory = \"Eczema Photos/\""
      ],
      "execution_count": null,
      "outputs": []
    },
    {
      "cell_type": "code",
      "metadata": {
        "id": "ulmCR6_31e_y"
      },
      "source": [
        "pattern_list = [\"03Desquamation-[\\w-]*.jpg\",\n",
        "                \"03Eczema[\\w-]*.jpg\",\n",
        "                \"Dyshidrosis-[\\w-]*.jpg\",\n",
        "                \"chapped-[\\w-]*.jpg\",\n",
        "                \"eczema-[\\w-]*.jpg\",\n",
        "                ]"
      ],
      "execution_count": null,
      "outputs": []
    },
    {
      "cell_type": "code",
      "metadata": {
        "colab": {
          "base_uri": "https://localhost:8080/"
        },
        "id": "VpPUx5hIGblr",
        "outputId": "3097334b-c8c1-4155-c3d5-129ac8530d58"
      },
      "source": [
        "for data in sorted(os.listdir(train_data_dir+disease_directory)):\n",
        "  x = None\n",
        "  for pattern in pattern_list:\n",
        "    x = re.search(pattern, data)\n",
        "    if x is not None:\n",
        "      break\n",
        "  if x is None:\n",
        "    os.remove(train_data_dir+disease_directory+data)\n",
        "print(\"train data: \"+str(len(os.listdir(train_data_dir+disease_directory))))"
      ],
      "execution_count": null,
      "outputs": [
        {
          "output_type": "stream",
          "text": [
            "train data: 793\n"
          ],
          "name": "stdout"
        }
      ]
    },
    {
      "cell_type": "code",
      "metadata": {
        "id": "WzO_82MAEphX"
      },
      "source": [
        "pattern_list = [\"^eczema-histology[\\w-]*.jpg\",\n",
        "                \"^eczema-impetiginized[\\w-]*.jpg\",\n",
        "                \"^eczema-lids[\\w-]*.jpg\",\n",
        "                \"^eczema-penis[\\w-]*.jpg\",\n",
        "                \"^eczema-scrotum[\\w-]*.jpg\",\n",
        "                \"^eczema-subacute[\\w-]*.jpg\",\n",
        "                \"^Forest-2[\\w-]*.jpg\",\n",
        "                ]"
      ],
      "execution_count": null,
      "outputs": []
    },
    {
      "cell_type": "code",
      "metadata": {
        "colab": {
          "base_uri": "https://localhost:8080/"
        },
        "id": "q1JU5H7e85Ya",
        "outputId": "9e4fcfc8-459b-483a-e9ee-0b7af17145ac"
      },
      "source": [
        "for data in sorted(os.listdir(validation_data_dir+disease_directory)):\n",
        "  x = None\n",
        "  for pattern in pattern_list:\n",
        "    x = re.search(pattern, data)\n",
        "    if x is None:\n",
        "      break\n",
        "  if x is not None:\n",
        "    os.remove(validation_data_dir+disease_directory+data)\n",
        "print(\"validation data: \"+str(len(os.listdir(validation_data_dir+disease_directory))))"
      ],
      "execution_count": null,
      "outputs": [
        {
          "output_type": "stream",
          "text": [
            "validation data: 309\n"
          ],
          "name": "stdout"
        }
      ]
    },
    {
      "cell_type": "markdown",
      "metadata": {
        "id": "UfwOhUczG7et"
      },
      "source": [
        "## Light Diseases"
      ]
    },
    {
      "cell_type": "code",
      "metadata": {
        "id": "BfnelEOl2Gig"
      },
      "source": [
        "disease_directory = \"Light Diseases and Disorders of Pigmentation/\""
      ],
      "execution_count": null,
      "outputs": []
    },
    {
      "cell_type": "code",
      "metadata": {
        "id": "3WWC1t-g2Qe6"
      },
      "source": [
        "pattern_list = [\"^albinism-[\\w-]*.jpg\",\n",
        "                \"^colloid-[\\w-]*.jpg\",\n",
        "                \"^erythema-[\\w-]*.jpg\",\n",
        "                \"^erythromelanosis-[\\w-]*.jpg\",\n",
        "                \"^idiopathic-[\\w-]*.jpg\",\n",
        "                \"^lentigo-[\\w-]*.jpg\",\n",
        "                \"^melasma-[\\w-]*.jpg\",\n",
        "                \"^mongolian-[\\w-]*.jpg\",\n",
        "                \"^nevus-[\\w-]*.jpg\",\n",
        "                \"^phototoxic-[\\w-]*.jpg\",\n",
        "                \"^poikiloderma-[\\w-]*.jpg\",\n",
        "                \"^polymorphous-[\\w-]*.jpg\",\n",
        "                \"^radiation-[\\w-]*.jpg\",\n",
        "                \"^sun-[\\w-]*.jpg\",\n",
        "                \"^sunburn-[\\w-]*.jpg\",\n",
        "                ]"
      ],
      "execution_count": null,
      "outputs": []
    },
    {
      "cell_type": "code",
      "metadata": {
        "colab": {
          "base_uri": "https://localhost:8080/"
        },
        "id": "e0RQlgto2eSe",
        "outputId": "503d8998-7acd-4e51-ac0e-bc0ab1c9b28f"
      },
      "source": [
        "for data in sorted(os.listdir(train_data_dir+disease_directory)):\n",
        "  x = None\n",
        "  for pattern in pattern_list:\n",
        "    x = re.search(pattern, data)\n",
        "    if x is not None:\n",
        "      break\n",
        "  if x is None:\n",
        "    os.remove(train_data_dir+disease_directory+data)\n",
        "print(\"train data: \"+str(len(os.listdir(train_data_dir+disease_directory))))"
      ],
      "execution_count": null,
      "outputs": [
        {
          "output_type": "stream",
          "text": [
            "train data: 408\n"
          ],
          "name": "stdout"
        }
      ]
    },
    {
      "cell_type": "code",
      "metadata": {
        "id": "WlVLN8Zq9NjZ"
      },
      "source": [
        "pattern_list = [\"Forest-2[\\w-]*.jpg\",\n",
        "                ]"
      ],
      "execution_count": null,
      "outputs": []
    },
    {
      "cell_type": "code",
      "metadata": {
        "colab": {
          "base_uri": "https://localhost:8080/"
        },
        "id": "RTtopl8t2fOx",
        "outputId": "da54c701-5986-4036-f219-9c40f2d44255"
      },
      "source": [
        "for data in sorted(os.listdir(validation_data_dir+disease_directory)):\n",
        "  x = None\n",
        "  for pattern in pattern_list:\n",
        "    x = re.search(pattern, data)\n",
        "    if x is None:\n",
        "      break\n",
        "  if x is not None:\n",
        "    os.remove(validation_data_dir+disease_directory+data)\n",
        "print(\"validation data: \"+str(len(os.listdir(validation_data_dir+disease_directory))))"
      ],
      "execution_count": null,
      "outputs": [
        {
          "output_type": "stream",
          "text": [
            "validation data: 143\n"
          ],
          "name": "stdout"
        }
      ]
    },
    {
      "cell_type": "markdown",
      "metadata": {
        "id": "UpAnNx-q3ctk"
      },
      "source": [
        "## Nail Fungus"
      ]
    },
    {
      "cell_type": "code",
      "metadata": {
        "id": "3CavQhGG3iYV"
      },
      "source": [
        "disease_directory = \"Nail Fungus and other Nail Disease/\""
      ],
      "execution_count": null,
      "outputs": []
    },
    {
      "cell_type": "code",
      "metadata": {
        "id": "82rBR4NI24rm"
      },
      "source": [
        "pattern_list = [\"acute[\\w-]*.jpg\",\n",
        "                \"beaus[\\w-]*.jpg\",\n",
        "                \"biting[\\w-]*.jpg\",\n",
        "                \"blue[\\w-]*.jpg\",\n",
        "                \"chronic[\\w-]*.jpg\",\n",
        "                \"clubbing[\\w-]*.jpg\",\n",
        "                \"color[\\w-]*.jpg\",\n",
        "                \"congenital[\\w-]*.jpg\",\n",
        "                \"darier[\\w-]*.jpg\",\n",
        "                \"distal[\\w-]*.jpg\",\n",
        "                \"dry[\\w-]*.jpg\",\n",
        "                \"eczema[\\w-]*.jpg\",\n",
        "                \"habit[\\w-]*.jpg\",\n",
        "                \"ingrown[\\w-]*.jpg\",\n",
        "                \"koilonychia[\\w-]*.jpg\",\n",
        "                ]\n",
        "                "
      ],
      "execution_count": null,
      "outputs": []
    },
    {
      "cell_type": "code",
      "metadata": {
        "colab": {
          "base_uri": "https://localhost:8080/"
        },
        "id": "gfAp6WyP3SF2",
        "outputId": "881d1f45-71e7-4530-ca84-b2ab329cc1ae"
      },
      "source": [
        "for data in sorted(os.listdir(train_data_dir+disease_directory)):\n",
        "  x = None\n",
        "  for pattern in pattern_list:\n",
        "    x = re.search(pattern, data)\n",
        "    if x is not None:\n",
        "      break\n",
        "  if x is None:\n",
        "    os.remove(train_data_dir+disease_directory+data)\n",
        "print(\"train data: \"+str(len(os.listdir(train_data_dir+disease_directory))))"
      ],
      "execution_count": null,
      "outputs": [
        {
          "output_type": "stream",
          "text": [
            "train data: 349\n"
          ],
          "name": "stdout"
        }
      ]
    },
    {
      "cell_type": "code",
      "metadata": {
        "id": "NwmZ1kWU-D08"
      },
      "source": [
        "pattern_list = [\"^Forest-2[\\w-]*.jpg\",\n",
        "                ]"
      ],
      "execution_count": null,
      "outputs": []
    },
    {
      "cell_type": "code",
      "metadata": {
        "colab": {
          "base_uri": "https://localhost:8080/"
        },
        "id": "l7ObgUwe3U9c",
        "outputId": "2d28c900-75c5-4cdd-d16d-aa597a901c58"
      },
      "source": [
        "for data in sorted(os.listdir(validation_data_dir+disease_directory)):\n",
        "  x = None\n",
        "  for pattern in pattern_list:\n",
        "    x = re.search(pattern, data)\n",
        "    if x is None:\n",
        "      break\n",
        "  if x is not None:\n",
        "    os.remove(validation_data_dir+disease_directory+data)\n",
        "print(\"validation data: \"+str(len(os.listdir(validation_data_dir+disease_directory))))"
      ],
      "execution_count": null,
      "outputs": [
        {
          "output_type": "stream",
          "text": [
            "validation data: 261\n"
          ],
          "name": "stdout"
        }
      ]
    },
    {
      "cell_type": "markdown",
      "metadata": {
        "id": "1tV79nAQa3gF"
      },
      "source": [
        "# Image Generator"
      ]
    },
    {
      "cell_type": "code",
      "metadata": {
        "id": "p9iuLTLua5Ul"
      },
      "source": [
        "img_width, img_height = 224, 224"
      ],
      "execution_count": null,
      "outputs": []
    },
    {
      "cell_type": "code",
      "metadata": {
        "id": "4HUCm2aK00k6"
      },
      "source": [
        "def preprocess_image(path):\n",
        "    img = load_img(path, target_size = (img_height, img_width))\n",
        "    a = img_to_array(img)\n",
        "    a = np.expand_dims(a, axis = 0)\n",
        "    a = preprocess_input(a)\n",
        "    return a"
      ],
      "execution_count": null,
      "outputs": []
    },
    {
      "cell_type": "code",
      "metadata": {
        "id": "oyeTnJR305e4",
        "colab": {
          "base_uri": "https://localhost:8080/"
        },
        "outputId": "d99a35f5-1854-4d81-e29f-b66393ee7a9f"
      },
      "source": [
        "from keras.preprocessing.image import ImageDataGenerator\n",
        "from keras.applications.resnet50 import preprocess_input\n",
        "\n",
        "HEIGHT = 224\n",
        "WIDTH = 224\n",
        "BATCH_SIZE = 16\n",
        "\n",
        "train_datagen =  ImageDataGenerator(\n",
        "      preprocessing_function=preprocess_input,\n",
        "      rotation_range=90,\n",
        "      horizontal_flip=True,\n",
        "      vertical_flip=True,\n",
        "      fill_mode = 'nearest'\n",
        "    )\n",
        "\n",
        "train_generator = train_datagen.flow_from_directory(train_data_dir, \n",
        "                                                    target_size=(HEIGHT, WIDTH), \n",
        "                                                    batch_size=BATCH_SIZE)\n",
        "\n",
        "\n",
        "test_datagen =  ImageDataGenerator(\n",
        "      preprocessing_function=preprocess_input,\n",
        "      rotation_range=90,\n",
        "      horizontal_flip=True,\n",
        "      vertical_flip=True,\n",
        "      fill_mode = 'nearest'\n",
        "    )\n",
        "validation_generator = test_datagen.flow_from_directory(\n",
        "        validation_data_dir,\n",
        "        target_size=(HEIGHT, WIDTH),\n",
        "        batch_size=BATCH_SIZE)"
      ],
      "execution_count": null,
      "outputs": [
        {
          "output_type": "stream",
          "text": [
            "Found 3054 images belonging to 5 classes.\n",
            "Found 1312 images belonging to 5 classes.\n"
          ],
          "name": "stdout"
        }
      ]
    },
    {
      "cell_type": "markdown",
      "metadata": {
        "id": "d0AEVVlfEtYr"
      },
      "source": [
        "# Model Experiment"
      ]
    },
    {
      "cell_type": "markdown",
      "metadata": {
        "id": "_Zkbv9eb5ML5"
      },
      "source": [
        "## Resnet50 #2"
      ]
    },
    {
      "cell_type": "code",
      "metadata": {
        "id": "hEGlUen_5P9L"
      },
      "source": [
        "input_t = tf.keras.Input(shape=(224,224,3))\n",
        "res_model = tf.keras.applications.resnet50.ResNet50(include_top=False,\n",
        "                                    weights=\"imagenet\",\n",
        "                                    input_tensor=input_t)"
      ],
      "execution_count": null,
      "outputs": []
    },
    {
      "cell_type": "code",
      "metadata": {
        "id": "kTpQQwuY5qzS"
      },
      "source": [
        "for layer in res_model.layers:\n",
        "  layer.trainable = False"
      ],
      "execution_count": null,
      "outputs": []
    },
    {
      "cell_type": "code",
      "metadata": {
        "id": "LxT4dDMM6DLy"
      },
      "source": [
        "model = tf.keras.models.Sequential()\n",
        "model.add(tf.keras.layers.Lambda(lambda image: tf.image.resize(image, (224,224))))\n",
        "model.add(res_model)\n",
        "model.add(tf.keras.layers.Flatten())\n",
        "model.add(tf.keras.layers.BatchNormalization())\n",
        "model.add(tf.keras.layers.Dense(256, activation='relu'))\n",
        "model.add(tf.keras.layers.Dropout(0.5))\n",
        "model.add(tf.keras.layers.BatchNormalization())\n",
        "model.add(tf.keras.layers.Dense(128, activation='relu'))\n",
        "model.add(tf.keras.layers.Dropout(0.5))\n",
        "model.add(tf.keras.layers.BatchNormalization())\n",
        "model.add(tf.keras.layers.Dense(64, activation='relu'))\n",
        "model.add(tf.keras.layers.Dropout(0.5))\n",
        "model.add(tf.keras.layers.BatchNormalization())\n",
        "model.add(tf.keras.layers.Dense(5, activation='softmax'))"
      ],
      "execution_count": null,
      "outputs": []
    },
    {
      "cell_type": "code",
      "metadata": {
        "id": "sOP5tR066RTw"
      },
      "source": [
        "check_point = tf.keras.callbacks.ModelCheckpoint(filepath='dermnet.h5',\n",
        "                                          monitor=\"val_accuracy\",\n",
        "                                          mode='max',\n",
        "                                          save_best_only=True,\n",
        "                                          )"
      ],
      "execution_count": null,
      "outputs": []
    },
    {
      "cell_type": "code",
      "metadata": {
        "id": "T24sajE27DFP"
      },
      "source": [
        "model.compile(loss='categorical_crossentropy', \n",
        "              optimizer=tf.keras.optimizers.RMSprop(learning_rate=2e-5),\n",
        "              metrics=['accuracy'])"
      ],
      "execution_count": null,
      "outputs": []
    },
    {
      "cell_type": "code",
      "metadata": {
        "colab": {
          "base_uri": "https://localhost:8080/"
        },
        "id": "li3QHC097UN0",
        "outputId": "eb8f7763-ed48-430f-c569-23f4ed6e5f17"
      },
      "source": [
        "NUM_EPOCHS = 45\n",
        "history = model.fit(train_generator, \n",
        "                    epochs=NUM_EPOCHS, \n",
        "                    workers=16,\n",
        "                    verbose=1,\n",
        "                    validation_data = validation_generator,\n",
        "                    callbacks=[check_point]\n",
        "                    )"
      ],
      "execution_count": null,
      "outputs": [
        {
          "output_type": "stream",
          "text": [
            "Epoch 1/45\n",
            " 33/191 [====>.........................] - ETA: 30s - loss: 2.1029 - accuracy: 0.2235"
          ],
          "name": "stdout"
        }
      ]
    },
    {
      "cell_type": "markdown",
      "metadata": {
        "id": "bheMjfD3BMiq"
      },
      "source": [
        "## Resnet50 #3"
      ]
    },
    {
      "cell_type": "code",
      "metadata": {
        "id": "-OLeQu5rBQud"
      },
      "source": [
        "input_t = tf.keras.Input(shape=(224,224,3))\n",
        "res_model = tf.keras.applications.resnet50.ResNet50(include_top=False,\n",
        "                                    weights=\"imagenet\",\n",
        "                                    input_tensor=input_t)"
      ],
      "execution_count": null,
      "outputs": []
    },
    {
      "cell_type": "code",
      "metadata": {
        "id": "6ku4irwqBrsn"
      },
      "source": [
        "def build_model(base_model, num_classes):\n",
        "  for layer in base_model.layers:\n",
        "    layer.trainable = False\n",
        "\n",
        "  model = tf.keras.models.Sequential()\n",
        "\n",
        "  model.add(tf.keras.layers.Lambda(lambda image: tf.image.resize(image, (224,224))))\n",
        "  model.add(base_model)\n",
        "  model.add(tf.keras.layers.Flatten())\n",
        "\n",
        "  model.add(tf.keras.layers.Dense(1024, activation='relu'))\n",
        "  model.add(tf.keras.layers.Dense(1024, activation='relu'))\n",
        "  model.add(tf.keras.layers.Dense(num_classes, activation='softmax'))\n",
        "\n",
        "  return model\n",
        "\n",
        "class_list = os.listdir(train_data_dir)\n",
        "model = build_model(res_model, num_classes = len(class_list))"
      ],
      "execution_count": null,
      "outputs": []
    },
    {
      "cell_type": "code",
      "metadata": {
        "id": "I2Yop6xoCNOR"
      },
      "source": [
        "check_point = tf.keras.callbacks.ModelCheckpoint(filepath='dermnet.h5',\n",
        "                                          monitor=\"val_accuracy\",\n",
        "                                          mode='max',\n",
        "                                          save_best_only=True,\n",
        "                                          )"
      ],
      "execution_count": null,
      "outputs": []
    },
    {
      "cell_type": "code",
      "metadata": {
        "id": "YG0QOF_0CP5a"
      },
      "source": [
        "model.compile(loss='categorical_crossentropy', \n",
        "              optimizer=tf.keras.optimizers.SGD(learning_rate=0.0001, momentum=0.6),\n",
        "              metrics=['accuracy'])"
      ],
      "execution_count": null,
      "outputs": []
    },
    {
      "cell_type": "code",
      "metadata": {
        "colab": {
          "base_uri": "https://localhost:8080/"
        },
        "id": "nhDtEBmqCAPU",
        "outputId": "15a60859-2ff9-499c-99c2-1a0c3d23c3e7"
      },
      "source": [
        "NUM_EPOCHS = 45\n",
        "history = model.fit(train_generator, \n",
        "                    epochs=NUM_EPOCHS, \n",
        "                    workers=16,\n",
        "                    verbose=1,\n",
        "                    validation_data = validation_generator,\n",
        "                    callbacks=[check_point]\n",
        "                    )"
      ],
      "execution_count": null,
      "outputs": [
        {
          "output_type": "stream",
          "text": [
            "Epoch 1/45\n",
            " 28/191 [===>..........................] - ETA: 45s - loss: 1.7410 - accuracy: 0.3139"
          ],
          "name": "stdout"
        }
      ]
    },
    {
      "cell_type": "markdown",
      "metadata": {
        "id": "11IDXs5cdff_"
      },
      "source": [
        "## Resnet50 #4"
      ]
    },
    {
      "cell_type": "code",
      "metadata": {
        "id": "nEQUGH8ndfJK"
      },
      "source": [
        "input_t = tf.keras.Input(shape=(224,224,3))\n",
        "resnet_model = tf.keras.applications.resnet50.ResNet50(include_top=False,\n",
        "                                    weights=\"imagenet\",\n",
        "                                    input_tensor=input_t)"
      ],
      "execution_count": null,
      "outputs": []
    },
    {
      "cell_type": "code",
      "metadata": {
        "id": "ukRGYlzHdoVI"
      },
      "source": [
        "def build_model(base_model, num_classes):\n",
        "  for layer in base_model.layers:\n",
        "    layer.trainable = False\n",
        "\n",
        "  model = tf.keras.models.Sequential()\n",
        "  model.add(tf.keras.layers.Lambda(lambda image: tf.image.resize(image, (224,224))))\n",
        "  model.add(base_model)\n",
        "  model.add(tf.keras.layers.Flatten())\n",
        "\n",
        "  model.add(tf.keras.layers.Dense(1024, activation=tf.keras.layers.LeakyReLU(alpha=0.3)))\n",
        "  model.add(tf.keras.layers.Dense(1024, activation=tf.keras.layers.LeakyReLU(alpha=0.3)))\n",
        "\n",
        "  model.add(tf.keras.layers.Dense(num_classes, activation='softmax'))\n",
        "\n",
        "  return model\n",
        "\n",
        "class_list = os.listdir(train_data_dir)\n",
        "\n",
        "model = build_model(resnet_model, num_classes = len(class_list))"
      ],
      "execution_count": null,
      "outputs": []
    },
    {
      "cell_type": "code",
      "metadata": {
        "id": "Borh0PwNdpq7"
      },
      "source": [
        "check_point = tf.keras.callbacks.ModelCheckpoint(filepath='dermnet.h5',\n",
        "                                          monitor=\"val_accuracy\",\n",
        "                                          mode='max',\n",
        "                                          save_best_only=True,\n",
        "                                          )"
      ],
      "execution_count": null,
      "outputs": []
    },
    {
      "cell_type": "code",
      "metadata": {
        "id": "clkhUmIFdqaG"
      },
      "source": [
        "model.compile(loss='categorical_crossentropy', \n",
        "              optimizer=tf.keras.optimizers.SGD(learning_rate=0.001, momentum=0.6),\n",
        "              metrics=['accuracy'])"
      ],
      "execution_count": null,
      "outputs": []
    },
    {
      "cell_type": "code",
      "metadata": {
        "id": "R10pSogTdr9C",
        "colab": {
          "base_uri": "https://localhost:8080/"
        },
        "outputId": "e0a38f25-c659-4d0c-e5d0-8de71776f024"
      },
      "source": [
        "NUM_EPOCHS = 45\n",
        "history = model.fit(train_generator, \n",
        "                    epochs=NUM_EPOCHS, \n",
        "                    workers=16,\n",
        "                    verbose=1,\n",
        "                    validation_data = validation_generator,\n",
        "                    callbacks=[check_point]\n",
        "                    )"
      ],
      "execution_count": null,
      "outputs": [
        {
          "output_type": "stream",
          "text": [
            "Epoch 1/45\n",
            "191/191 [==============================] - 73s 348ms/step - loss: 1.4227 - accuracy: 0.6415 - val_loss: 1.2886 - val_accuracy: 0.6570\n"
          ],
          "name": "stdout"
        },
        {
          "output_type": "stream",
          "text": [
            "/usr/local/lib/python3.7/dist-packages/tensorflow/python/keras/utils/generic_utils.py:497: CustomMaskWarning: Custom mask layers require a config and must override get_config. When loading, the custom mask layer must be passed to the custom_objects argument.\n",
            "  category=CustomMaskWarning)\n"
          ],
          "name": "stderr"
        },
        {
          "output_type": "stream",
          "text": [
            "Epoch 2/45\n",
            "191/191 [==============================] - ETA: 0s - loss: 0.7304 - accuracy: 0.7449"
          ],
          "name": "stdout"
        }
      ]
    },
    {
      "cell_type": "code",
      "metadata": {
        "id": "gsbZm3zbdtYB"
      },
      "source": [
        "model.summary()"
      ],
      "execution_count": null,
      "outputs": []
    },
    {
      "cell_type": "markdown",
      "metadata": {
        "id": "rw2l_lxKjQl0"
      },
      "source": [
        "## Resnet50 #5"
      ]
    },
    {
      "cell_type": "code",
      "metadata": {
        "id": "ajvuBqpPjSWI"
      },
      "source": [
        "input_t = tf.keras.Input(shape=(224,224,3))\n",
        "resnet_model = tf.keras.applications.resnet50.ResNet50(include_top=False,\n",
        "                                    weights=\"imagenet\",\n",
        "                                    input_tensor=input_t)"
      ],
      "execution_count": null,
      "outputs": []
    },
    {
      "cell_type": "code",
      "metadata": {
        "id": "q3AJWyN1jU69"
      },
      "source": [
        "def build_model(base_model, num_classes):\n",
        "  for layer in base_model.layers:\n",
        "    layer.trainable = False\n",
        "\n",
        "  model = tf.keras.models.Sequential()\n",
        "  model.add(tf.keras.layers.Lambda(lambda image: tf.image.resize(image, (224,224))))\n",
        "  model.add(base_model)\n",
        "  model.add(tf.keras.layers.Flatten())\n",
        "\n",
        "  model.add(tf.keras.layers.Dense(1024))\n",
        "  model.add(tf.keras.layers.LeakyReLU(alpha=.02))\n",
        "  model.add(tf.keras.layers.Dropout(.2))\n",
        "  model.add(tf.keras.layers.Dense(1024))\n",
        "  model.add(tf.keras.layers.LeakyReLU(alpha=.02))\n",
        "  model.add(tf.keras.layers.Dropout(.3))\n",
        "\n",
        "  model.add(tf.keras.layers.Dense(num_classes, activation='softmax'))\n",
        "\n",
        "  return model\n",
        "\n",
        "class_list = os.listdir(train_data_dir)\n",
        "FC_LAYERS = [1024, 1024]\n",
        "\n",
        "model = build_model(resnet_model, num_classes = len(class_list))"
      ],
      "execution_count": null,
      "outputs": []
    },
    {
      "cell_type": "code",
      "metadata": {
        "id": "CslwuJCTjW0j"
      },
      "source": [
        "check_point = tf.keras.callbacks.ModelCheckpoint(\"dermnet.h5\", \n",
        "                                                 monitor='val_accuracy', \n",
        "                                                 verbose=1, \n",
        "                                                 save_best_only=True, \n",
        "                                                 save_weights_only=False, \n",
        "                                                 mode='max')"
      ],
      "execution_count": null,
      "outputs": []
    },
    {
      "cell_type": "code",
      "metadata": {
        "id": "jI4-eUJjjY4F"
      },
      "source": [
        "model.compile(loss='categorical_crossentropy', \n",
        "              optimizer=tf.keras.optimizers.Adam(learning_rate=0.0001),\n",
        "              metrics=['accuracy'])"
      ],
      "execution_count": null,
      "outputs": []
    },
    {
      "cell_type": "code",
      "metadata": {
        "colab": {
          "base_uri": "https://localhost:8080/"
        },
        "id": "x5sgolqtjbB1",
        "outputId": "c9139a32-9792-4cb6-d554-6772e7d0c396"
      },
      "source": [
        "NUM_EPOCHS = 45\n",
        "history = model.fit(train_generator, \n",
        "                    epochs=NUM_EPOCHS, \n",
        "                    workers=16,\n",
        "                    verbose=1,\n",
        "                    validation_data = validation_generator,\n",
        "                    callbacks=[check_point]\n",
        "                    )"
      ],
      "execution_count": null,
      "outputs": [
        {
          "output_type": "stream",
          "text": [
            "Epoch 1/45\n",
            "191/191 [==============================] - 73s 352ms/step - loss: 2.3630 - accuracy: 0.5639 - val_loss: 1.1343 - val_accuracy: 0.6402\n",
            "\n",
            "Epoch 00001: val_accuracy improved from -inf to 0.64024, saving model to dermnet.h5\n"
          ],
          "name": "stdout"
        },
        {
          "output_type": "stream",
          "text": [
            "/usr/local/lib/python3.7/dist-packages/tensorflow/python/keras/utils/generic_utils.py:497: CustomMaskWarning: Custom mask layers require a config and must override get_config. When loading, the custom mask layer must be passed to the custom_objects argument.\n",
            "  category=CustomMaskWarning)\n"
          ],
          "name": "stderr"
        },
        {
          "output_type": "stream",
          "text": [
            "Epoch 2/45\n",
            "191/191 [==============================] - 70s 347ms/step - loss: 1.0344 - accuracy: 0.6552 - val_loss: 1.0135 - val_accuracy: 0.6555\n",
            "\n",
            "Epoch 00002: val_accuracy improved from 0.64024 to 0.65549, saving model to dermnet.h5\n",
            "Epoch 3/45\n",
            "191/191 [==============================] - 69s 351ms/step - loss: 0.8474 - accuracy: 0.7020 - val_loss: 1.1779 - val_accuracy: 0.6341\n",
            "\n",
            "Epoch 00003: val_accuracy did not improve from 0.65549\n",
            "Epoch 4/45\n",
            "191/191 [==============================] - 70s 353ms/step - loss: 0.7678 - accuracy: 0.7413 - val_loss: 1.0057 - val_accuracy: 0.6829\n",
            "\n",
            "Epoch 00004: val_accuracy improved from 0.65549 to 0.68293, saving model to dermnet.h5\n",
            "Epoch 5/45\n",
            "191/191 [==============================] - 69s 347ms/step - loss: 0.6800 - accuracy: 0.7557 - val_loss: 1.0305 - val_accuracy: 0.6623\n",
            "\n",
            "Epoch 00005: val_accuracy did not improve from 0.68293\n",
            "Epoch 6/45\n",
            "191/191 [==============================] - 72s 351ms/step - loss: 0.6388 - accuracy: 0.7688 - val_loss: 1.1012 - val_accuracy: 0.6806\n",
            "\n",
            "Epoch 00006: val_accuracy did not improve from 0.68293\n",
            "Epoch 7/45\n",
            "191/191 [==============================] - 69s 349ms/step - loss: 0.6466 - accuracy: 0.7783 - val_loss: 1.1181 - val_accuracy: 0.6852\n",
            "\n",
            "Epoch 00007: val_accuracy improved from 0.68293 to 0.68521, saving model to dermnet.h5\n",
            "Epoch 8/45\n",
            "191/191 [==============================] - 88s 450ms/step - loss: 0.5891 - accuracy: 0.7891 - val_loss: 1.0795 - val_accuracy: 0.7027\n",
            "\n",
            "Epoch 00008: val_accuracy improved from 0.68521 to 0.70274, saving model to dermnet.h5\n",
            "Epoch 9/45\n",
            "191/191 [==============================] - 69s 347ms/step - loss: 0.5985 - accuracy: 0.7927 - val_loss: 1.1742 - val_accuracy: 0.6791\n",
            "\n",
            "Epoch 00009: val_accuracy did not improve from 0.70274\n",
            "Epoch 10/45\n",
            "191/191 [==============================] - 68s 346ms/step - loss: 0.5615 - accuracy: 0.7999 - val_loss: 1.0706 - val_accuracy: 0.6974\n",
            "\n",
            "Epoch 00010: val_accuracy did not improve from 0.70274\n",
            "Epoch 11/45\n",
            "191/191 [==============================] - 70s 346ms/step - loss: 0.4879 - accuracy: 0.8271 - val_loss: 1.0409 - val_accuracy: 0.7020\n",
            "\n",
            "Epoch 00011: val_accuracy did not improve from 0.70274\n",
            "Epoch 12/45\n",
            "191/191 [==============================] - 70s 344ms/step - loss: 0.5043 - accuracy: 0.8193 - val_loss: 1.0833 - val_accuracy: 0.6921\n",
            "\n",
            "Epoch 00012: val_accuracy did not improve from 0.70274\n",
            "Epoch 13/45\n",
            "191/191 [==============================] - 69s 348ms/step - loss: 0.4890 - accuracy: 0.8301 - val_loss: 1.0904 - val_accuracy: 0.7066\n",
            "\n",
            "Epoch 00013: val_accuracy improved from 0.70274 to 0.70655, saving model to dermnet.h5\n",
            "Epoch 14/45\n",
            "191/191 [==============================] - 69s 348ms/step - loss: 0.4684 - accuracy: 0.8379 - val_loss: 1.1216 - val_accuracy: 0.7081\n",
            "\n",
            "Epoch 00014: val_accuracy improved from 0.70655 to 0.70808, saving model to dermnet.h5\n",
            "Epoch 15/45\n",
            "191/191 [==============================] - 69s 351ms/step - loss: 0.4498 - accuracy: 0.8333 - val_loss: 1.1496 - val_accuracy: 0.6974\n",
            "\n",
            "Epoch 00015: val_accuracy did not improve from 0.70808\n",
            "Epoch 16/45\n",
            "191/191 [==============================] - 70s 346ms/step - loss: 0.4190 - accuracy: 0.8536 - val_loss: 1.2038 - val_accuracy: 0.6944\n",
            "\n",
            "Epoch 00016: val_accuracy did not improve from 0.70808\n",
            "Epoch 17/45\n",
            "191/191 [==============================] - 68s 345ms/step - loss: 0.4360 - accuracy: 0.8461 - val_loss: 1.0490 - val_accuracy: 0.7180\n",
            "\n",
            "Epoch 00017: val_accuracy improved from 0.70808 to 0.71799, saving model to dermnet.h5\n",
            "Epoch 18/45\n",
            "191/191 [==============================] - 69s 347ms/step - loss: 0.4279 - accuracy: 0.8546 - val_loss: 1.0340 - val_accuracy: 0.7287\n",
            "\n",
            "Epoch 00018: val_accuracy improved from 0.71799 to 0.72866, saving model to dermnet.h5\n",
            "Epoch 19/45\n",
            "191/191 [==============================] - 68s 344ms/step - loss: 0.4043 - accuracy: 0.8553 - val_loss: 1.1466 - val_accuracy: 0.7027\n",
            "\n",
            "Epoch 00019: val_accuracy did not improve from 0.72866\n",
            "Epoch 20/45\n",
            "191/191 [==============================] - 70s 343ms/step - loss: 0.3730 - accuracy: 0.8667 - val_loss: 1.2077 - val_accuracy: 0.6989\n",
            "\n",
            "Epoch 00020: val_accuracy did not improve from 0.72866\n",
            "Epoch 21/45\n",
            "191/191 [==============================] - 70s 344ms/step - loss: 0.4042 - accuracy: 0.8635 - val_loss: 1.1577 - val_accuracy: 0.7027\n",
            "\n",
            "Epoch 00021: val_accuracy did not improve from 0.72866\n",
            "Epoch 22/45\n",
            "191/191 [==============================] - 69s 348ms/step - loss: 0.3891 - accuracy: 0.8661 - val_loss: 1.2248 - val_accuracy: 0.7302\n",
            "\n",
            "Epoch 00022: val_accuracy improved from 0.72866 to 0.73018, saving model to dermnet.h5\n",
            "Epoch 23/45\n",
            "191/191 [==============================] - 68s 346ms/step - loss: 0.3742 - accuracy: 0.8674 - val_loss: 1.0630 - val_accuracy: 0.7332\n",
            "\n",
            "Epoch 00023: val_accuracy improved from 0.73018 to 0.73323, saving model to dermnet.h5\n",
            "Epoch 24/45\n",
            "191/191 [==============================] - 68s 343ms/step - loss: 0.3546 - accuracy: 0.8746 - val_loss: 1.1668 - val_accuracy: 0.7210\n",
            "\n",
            "Epoch 00024: val_accuracy did not improve from 0.73323\n",
            "Epoch 25/45\n",
            "191/191 [==============================] - 68s 342ms/step - loss: 0.3475 - accuracy: 0.8805 - val_loss: 1.1433 - val_accuracy: 0.7294\n",
            "\n",
            "Epoch 00025: val_accuracy did not improve from 0.73323\n",
            "Epoch 26/45\n",
            "191/191 [==============================] - 69s 348ms/step - loss: 0.3310 - accuracy: 0.8897 - val_loss: 1.1496 - val_accuracy: 0.7294\n",
            "\n",
            "Epoch 00026: val_accuracy did not improve from 0.73323\n",
            "Epoch 27/45\n",
            "191/191 [==============================] - 69s 351ms/step - loss: 0.3341 - accuracy: 0.8831 - val_loss: 1.3200 - val_accuracy: 0.7142\n",
            "\n",
            "Epoch 00027: val_accuracy did not improve from 0.73323\n",
            "Epoch 28/45\n",
            "191/191 [==============================] - 68s 345ms/step - loss: 0.3165 - accuracy: 0.8861 - val_loss: 1.3079 - val_accuracy: 0.7325\n",
            "\n",
            "Epoch 00028: val_accuracy did not improve from 0.73323\n",
            "Epoch 29/45\n",
            "191/191 [==============================] - 68s 343ms/step - loss: 0.3318 - accuracy: 0.8883 - val_loss: 1.2978 - val_accuracy: 0.7203\n",
            "\n",
            "Epoch 00029: val_accuracy did not improve from 0.73323\n",
            "Epoch 30/45\n",
            "191/191 [==============================] - 71s 350ms/step - loss: 0.3018 - accuracy: 0.8926 - val_loss: 1.2208 - val_accuracy: 0.7241\n",
            "\n",
            "Epoch 00030: val_accuracy did not improve from 0.73323\n",
            "Epoch 31/45\n",
            "191/191 [==============================] - 68s 346ms/step - loss: 0.3042 - accuracy: 0.8926 - val_loss: 1.2446 - val_accuracy: 0.7401\n",
            "\n",
            "Epoch 00031: val_accuracy improved from 0.73323 to 0.74009, saving model to dermnet.h5\n",
            "Epoch 32/45\n",
            "191/191 [==============================] - 69s 352ms/step - loss: 0.3317 - accuracy: 0.8903 - val_loss: 1.2834 - val_accuracy: 0.7348\n",
            "\n",
            "Epoch 00032: val_accuracy did not improve from 0.74009\n",
            "Epoch 33/45\n",
            "191/191 [==============================] - 71s 347ms/step - loss: 0.3063 - accuracy: 0.8942 - val_loss: 1.2458 - val_accuracy: 0.7431\n",
            "\n",
            "Epoch 00033: val_accuracy improved from 0.74009 to 0.74314, saving model to dermnet.h5\n",
            "Epoch 34/45\n",
            "191/191 [==============================] - 69s 347ms/step - loss: 0.2960 - accuracy: 0.8991 - val_loss: 1.2218 - val_accuracy: 0.7294\n",
            "\n",
            "Epoch 00034: val_accuracy did not improve from 0.74314\n",
            "Epoch 35/45\n",
            "191/191 [==============================] - 69s 345ms/step - loss: 0.2897 - accuracy: 0.9024 - val_loss: 1.3469 - val_accuracy: 0.7271\n",
            "\n",
            "Epoch 00035: val_accuracy did not improve from 0.74314\n",
            "Epoch 36/45\n",
            "191/191 [==============================] - 68s 345ms/step - loss: 0.2941 - accuracy: 0.9024 - val_loss: 1.3087 - val_accuracy: 0.7302\n",
            "\n",
            "Epoch 00036: val_accuracy did not improve from 0.74314\n",
            "Epoch 37/45\n",
            "191/191 [==============================] - 69s 349ms/step - loss: 0.2897 - accuracy: 0.9021 - val_loss: 1.5810 - val_accuracy: 0.7081\n",
            "\n",
            "Epoch 00037: val_accuracy did not improve from 0.74314\n",
            "Epoch 38/45\n",
            "191/191 [==============================] - 68s 346ms/step - loss: 0.2811 - accuracy: 0.9031 - val_loss: 1.3663 - val_accuracy: 0.7157\n",
            "\n",
            "Epoch 00038: val_accuracy did not improve from 0.74314\n",
            "Epoch 39/45\n",
            "191/191 [==============================] - 70s 345ms/step - loss: 0.2623 - accuracy: 0.9119 - val_loss: 1.5320 - val_accuracy: 0.7195\n",
            "\n",
            "Epoch 00039: val_accuracy did not improve from 0.74314\n",
            "Epoch 40/45\n",
            "191/191 [==============================] - 70s 346ms/step - loss: 0.2406 - accuracy: 0.9132 - val_loss: 1.3444 - val_accuracy: 0.7378\n",
            "\n",
            "Epoch 00040: val_accuracy did not improve from 0.74314\n",
            "Epoch 41/45\n",
            "191/191 [==============================] - 70s 344ms/step - loss: 0.2428 - accuracy: 0.9194 - val_loss: 1.1535 - val_accuracy: 0.7409\n",
            "\n",
            "Epoch 00041: val_accuracy did not improve from 0.74314\n",
            "Epoch 42/45\n",
            "191/191 [==============================] - 71s 347ms/step - loss: 0.2094 - accuracy: 0.9234 - val_loss: 1.4073 - val_accuracy: 0.7378\n",
            "\n",
            "Epoch 00042: val_accuracy did not improve from 0.74314\n",
            "Epoch 43/45\n",
            "191/191 [==============================] - 71s 347ms/step - loss: 0.2596 - accuracy: 0.9132 - val_loss: 1.3687 - val_accuracy: 0.7348\n",
            "\n",
            "Epoch 00043: val_accuracy did not improve from 0.74314\n",
            "Epoch 44/45\n",
            "191/191 [==============================] - 71s 344ms/step - loss: 0.2390 - accuracy: 0.9194 - val_loss: 1.2676 - val_accuracy: 0.7401\n",
            "\n",
            "Epoch 00044: val_accuracy did not improve from 0.74314\n",
            "Epoch 45/45\n",
            "191/191 [==============================] - 71s 352ms/step - loss: 0.2314 - accuracy: 0.9194 - val_loss: 1.3930 - val_accuracy: 0.7370\n",
            "\n",
            "Epoch 00045: val_accuracy did not improve from 0.74314\n"
          ],
          "name": "stdout"
        }
      ]
    },
    {
      "cell_type": "code",
      "metadata": {
        "id": "2-liB1g8jdie"
      },
      "source": [
        "model.summary()"
      ],
      "execution_count": null,
      "outputs": []
    },
    {
      "cell_type": "markdown",
      "metadata": {
        "id": "vZn-eIzZ3LHR"
      },
      "source": [
        "# Show Accuracy"
      ]
    },
    {
      "cell_type": "code",
      "metadata": {
        "id": "s6he6Xmp3NNL",
        "colab": {
          "base_uri": "https://localhost:8080/"
        },
        "outputId": "94ece34e-9d76-4712-a00c-fca2bebdef66"
      },
      "source": [
        "import matplotlib.pyplot as plt\n",
        "acc = history.history['accuracy']\n",
        "loss = history.history['loss']\n",
        "val_acc = history.history['val_accuracy']\n",
        "val_loss = history.history['val_loss']\n",
        "epochs = range(len(acc))\n",
        "plt.plot(epochs, acc, 'b', label = 'Training accuracy')\n",
        "plt.plot(epochs, val_acc, 'r', label = 'Validation accuracy')\n",
        "plt.legend(loc=0)\n",
        "plt.figure()\n",
        "\n",
        "plt.show()\n",
        "\n",
        "plt.plot(epochs, loss, 'b', label = 'Training loss')\n",
        "plt.plot(epochs, val_loss, 'r', label = 'Validation loss')\n",
        "plt.legend(loc=0)\n",
        "plt.figure()\n",
        "\n",
        "plt.show()"
      ],
      "execution_count": null,
      "outputs": [
        {
          "output_type": "display_data",
          "data": {
            "image/png": "[encoded data removed]",
            "text/plain": [
              "<Figure size 432x288 with 1 Axes>"
            ]
          },
          "metadata": {
            "tags": [],
            "needs_background": "light"
          }
        },
        {
          "output_type": "display_data",
          "data": {
            "text/plain": [
              "<Figure size 432x288 with 0 Axes>"
            ]
          },
          "metadata": {
            "tags": []
          }
        },
        {
          "output_type": "display_data",
          "data": {
            "image/png": "[encoded data removed]",
            "text/plain": [
              "<Figure size 432x288 with 1 Axes>"
            ]
          },
          "metadata": {
            "tags": [],
            "needs_background": "light"
          }
        },
        {
          "output_type": "display_data",
          "data": {
            "text/plain": [
              "<Figure size 432x288 with 0 Axes>"
            ]
          },
          "metadata": {
            "tags": []
          }
        }
      ]
    },
    {
      "cell_type": "markdown",
      "metadata": {
        "id": "leOPEss63OoX"
      },
      "source": [
        "# Confusion Matrix"
      ]
    },
    {
      "cell_type": "code",
      "metadata": {
        "id": "tvvS3R0O3VGX",
        "colab": {
          "base_uri": "https://localhost:8080/"
        },
        "outputId": "c4559b16-b684-4983-cf42-af0871a2ec68"
      },
      "source": [
        "print(validation_generator.classes)"
      ],
      "execution_count": null,
      "outputs": [
        {
          "output_type": "stream",
          "text": [
            "[0 0 0 ... 4 4 4]\n"
          ],
          "name": "stdout"
        }
      ]
    },
    {
      "cell_type": "code",
      "metadata": {
        "colab": {
          "base_uri": "https://localhost:8080/"
        },
        "id": "uTaevIaO3Vr9",
        "outputId": "b5a2c3d4-dcb9-448c-ee0b-aeda6f7e8941"
      },
      "source": [
        "from sklearn.metrics import classification_report, confusion_matrix\n",
        "import numpy as np\n",
        "\n",
        "num_test_images = 1457 \n",
        "# Y_pred = finetune_model.predict_generator(validation_generator, num_test_images // BATCH_SIZE+1)\n",
        "Y_pred = model.predict_generator(validation_generator, num_test_images)\n",
        "y_pred = np.argmax(Y_pred, axis=1)\n",
        "print('Confusion Matrix')\n",
        "print(confusion_matrix(validation_generator.classes, y_pred))\n",
        "print('\\nClassification Report')\n",
        "# 7 target_names = ['Acne and Rosacea Photos', 'Actinic Keratosis Basal Cell Carcinoma and other Malignant Lesions', 'Eczema Photos', 'Light Diseases and Disorders of Pigmentation', 'Nail Fungus and other Nail Disease', 'Vascular Tumors', 'Warts Molluscum and other Viral Infections']\n",
        "# 5 target_names = ['Acne and Rosacea Photos', 'Actinic Keratosis Basal Cell Carcinoma and other Malignant Lesions', 'Light Diseases and Disorders of Pigmentation', 'Vascular Tumors', 'Warts Molluscum and other Viral Infections']\n",
        "target_names = ['Acne and Rosacea Photos', 'Actinic Keratosis Basal Cell Carcinoma and other Malignant Lesions', 'Eczema Photos', 'Light Diseases and Disorders of Pigmentation', 'Nail Fungus and other Nail Disease', 'Vascular Tumors', 'Warts Molluscum and other Viral Infections']\n",
        "\n",
        "print(classification_report(validation_generator.classes, y_pred, target_names=used_data))"
      ],
      "execution_count": null,
      "outputs": [
        {
          "output_type": "stream",
          "text": [
            "/usr/local/lib/python3.7/dist-packages/tensorflow/python/keras/engine/training.py:2001: UserWarning: `Model.predict_generator` is deprecated and will be removed in a future version. Please use `Model.predict`, which supports generators.\n",
            "  warnings.warn('`Model.predict_generator` is deprecated and '\n"
          ],
          "name": "stderr"
        },
        {
          "output_type": "stream",
          "text": [
            "WARNING:tensorflow:Your input ran out of data; interrupting training. Make sure that your dataset or generator can generate at least `steps_per_epoch * epochs` batches (in this case, 1457 batches). You may need to use the repeat() function when building your dataset.\n",
            "Confusion Matrix\n",
            "[[63 74 79 43 52]\n",
            " [74 53 67 42 52]\n",
            " [73 61 75 46 54]\n",
            " [35 30 39 21 18]\n",
            " [62 56 61 43 39]]\n",
            "\n",
            "Classification Report\n",
            "                                                                    precision    recall  f1-score   support\n",
            "\n",
            "                                           Acne and Rosacea Photos       0.21      0.20      0.20       311\n",
            "Actinic Keratosis Basal Cell Carcinoma and other Malignant Lesions       0.19      0.18      0.19       288\n",
            "                                                     Eczema Photos       0.23      0.24      0.24       309\n",
            "                      Light Diseases and Disorders of Pigmentation       0.11      0.15      0.12       143\n",
            "                                Nail Fungus and other Nail Disease       0.18      0.15      0.16       261\n",
            "\n",
            "                                                          accuracy                           0.19      1312\n",
            "                                                         macro avg       0.18      0.19      0.18      1312\n",
            "                                                      weighted avg       0.19      0.19      0.19      1312\n",
            "\n"
          ],
          "name": "stdout"
        }
      ]
    },
    {
      "cell_type": "markdown",
      "metadata": {
        "id": "hqCmCNRD3h0I"
      },
      "source": [
        "# Test Predict"
      ]
    },
    {
      "cell_type": "code",
      "metadata": {
        "colab": {
          "resources": {
            "http://localhost:8080/nbextensions/google.colab/files.js": {
              "data": "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",
              "ok": true,
              "headers": [
                [
                  "content-type",
                  "application/javascript"
                ]
              ],
              "status": 200,
              "status_text": ""
            }
          },
          "base_uri": "https://localhost:8080/",
          "height": 177
        },
        "id": "PsfqlSVp3jGN",
        "outputId": "a887e496-a8d6-4f25-a030-3fcb4aacbe50"
      },
      "source": [
        "import numpy as np\n",
        "from google.colab import files\n",
        "from keras.preprocessing import image\n",
        "\n",
        "uploaded = files.upload()\n",
        "\n",
        "for fn in uploaded.keys():\n",
        " \n",
        "  # predicting images\n",
        "  path = '/content/' + fn\n",
        "  img = image.load_img(path, target_size=(224, 224))\n",
        "  x = image.img_to_array(img)\n",
        "  x = np.expand_dims(x, axis=0)\n",
        "\n",
        "  images = np.vstack([x])\n",
        "  classes = finetune_model.predict(images)\n",
        "  classes_predict = finetune_model.predict_classes(images)\n",
        "  print(classes)\n",
        "  print(classes_predict)"
      ],
      "execution_count": null,
      "outputs": [
        {
          "output_type": "display_data",
          "data": {
            "text/html": [
              "\n",
              "     <input type=\"file\" id=\"files-8afeac39-5844-4b75-8339-22b184be3313\" name=\"files[]\" multiple disabled\n",
              "        style=\"border:none\" />\n",
              "     <output id=\"result-8afeac39-5844-4b75-8339-22b184be3313\">\n",
              "      Upload widget is only available when the cell has been executed in the\n",
              "      current browser session. Please rerun this cell to enable.\n",
              "      </output>\n",
              "      <script src=\"/nbextensions/google.colab/files.js\"></script> "
            ],
            "text/plain": [
              "<IPython.core.display.HTML object>"
            ]
          },
          "metadata": {
            "tags": []
          }
        },
        {
          "output_type": "stream",
          "text": [
            "Saving t-warts-common-10.jpg to t-warts-common-10.jpg\n",
            "[[0.21589687 0.02971862 0.0526148  0.10036353 0.07585002 0.06511889\n",
            "  0.4604372 ]]\n",
            "[6]\n"
          ],
          "name": "stdout"
        },
        {
          "output_type": "stream",
          "text": [
            "/usr/local/lib/python3.7/dist-packages/tensorflow/python/keras/engine/sequential.py:455: UserWarning: `model.predict_classes()` is deprecated and will be removed after 2021-01-01. Please use instead:* `np.argmax(model.predict(x), axis=-1)`,   if your model does multi-class classification   (e.g. if it uses a `softmax` last-layer activation).* `(model.predict(x) > 0.5).astype(\"int32\")`,   if your model does binary classification   (e.g. if it uses a `sigmoid` last-layer activation).\n",
            "  warnings.warn('`model.predict_classes()` is deprecated and '\n"
          ],
          "name": "stderr"
        }
      ]
    },
    {
      "cell_type": "markdown",
      "metadata": {
        "id": "uiKxeKrG2z9R"
      },
      "source": [
        "# Save Model"
      ]
    },
    {
      "cell_type": "code",
      "metadata": {
        "colab": {
          "base_uri": "https://localhost:8080/"
        },
        "id": "dKGW5xV17uDw",
        "outputId": "65b22981-efc3-4126-f500-1603c7ccafb3"
      },
      "source": [
        "model.save(\"dermnet.h5\")"
      ],
      "execution_count": null,
      "outputs": [
        {
          "output_type": "stream",
          "text": [
            "/usr/local/lib/python3.7/dist-packages/tensorflow/python/keras/utils/generic_utils.py:497: CustomMaskWarning: Custom mask layers require a config and must override get_config. When loading, the custom mask layer must be passed to the custom_objects argument.\n",
            "  category=CustomMaskWarning)\n"
          ],
          "name": "stderr"
        }
      ]
    },
    {
      "cell_type": "markdown",
      "metadata": {
        "id": "W2V85xeG25Nl"
      },
      "source": [
        "# Upload to GCS"
      ]
    },
    {
      "cell_type": "code",
      "metadata": {
        "colab": {
          "base_uri": "https://localhost:8080/"
        },
        "id": "_PltecFa9U8X",
        "outputId": "fe85e06b-ed2a-4431-dca0-120e9b4458b6"
      },
      "source": [
        "!ls -al"
      ],
      "execution_count": null,
      "outputs": [
        {
          "output_type": "stream",
          "text": [
            "total 28\n",
            "drwxr-xr-x 1 root root 4096 Jun  1 17:35 .\n",
            "drwxr-xr-x 1 root root 4096 Jun  1 17:32 ..\n",
            "-rw-r--r-- 1 root root  720 Jun  1 17:34 adc.json\n",
            "-rw-r--r-- 1 root root    0 Jun  1 17:35 a.txt\n",
            "drwxr-xr-x 1 root root 4096 Jun  1 17:34 .config\n",
            "drwxr-xr-x 1 root root 4096 May  6 13:44 sample_data\n"
          ],
          "name": "stdout"
        }
      ]
    },
    {
      "cell_type": "code",
      "metadata": {
        "id": "SKlO8PZT9ftb"
      },
      "source": [
        "from google.colab import auth\n",
        "auth.authenticate_user()"
      ],
      "execution_count": null,
      "outputs": []
    },
    {
      "cell_type": "code",
      "metadata": {
        "id": "V9fVJ8aXANPx"
      },
      "source": [
        "project_id ='plexiform-being-312905'\n",
        "bucket_name = 'dermnet'"
      ],
      "execution_count": null,
      "outputs": []
    },
    {
      "cell_type": "code",
      "metadata": {
        "id": "fL0tbtnZpFzm",
        "colab": {
          "base_uri": "https://localhost:8080/",
          "height": 35
        },
        "outputId": "e3821eaf-745f-4539-c106-88e9ec7c3bf8"
      },
      "source": [
        "from datetime import datetime\n",
        "\n",
        "now = datetime.now()\n",
        "current_time = now.strftime(\"%d%m%y-%H%M%S\")\n",
        "current_time"
      ],
      "execution_count": null,
      "outputs": [
        {
          "output_type": "execute_result",
          "data": {
            "application/vnd.google.colaboratory.intrinsic+json": {
              "type": "string"
            },
            "text/plain": [
              "'020621-185129'"
            ]
          },
          "metadata": {
            "tags": []
          },
          "execution_count": 55
        }
      ]
    },
    {
      "cell_type": "code",
      "metadata": {
        "colab": {
          "base_uri": "https://localhost:8080/"
        },
        "id": "SK2k8uC7AfoE",
        "outputId": "691ec723-78e2-42d4-a804-02e11c4e0a78"
      },
      "source": [
        "!gsutil cp dermnet.h5 gs://{bucket_name}/{current_time}/"
      ],
      "execution_count": null,
      "outputs": [
        {
          "output_type": "stream",
          "text": [
            "Copying file://dermnet.h5 [Content-Type=application/octet-stream]...\n",
            "/ [0 files][    0.0 B/  1.2 GiB]                                                \r==> NOTE: You are uploading one or more large file(s), which would run\n",
            "significantly faster if you enable parallel composite uploads. This\n",
            "feature can be enabled by editing the\n",
            "\"parallel_composite_upload_threshold\" value in your .boto\n",
            "configuration file. However, note that if you do this large files will\n",
            "be uploaded as `composite objects\n",
            "<https://cloud.google.com/storage/docs/composite-objects>`_,which\n",
            "means that any user who downloads such objects will need to have a\n",
            "compiled crcmod installed (see \"gsutil help crcmod\"). This is because\n",
            "without a compiled crcmod, computing checksums on composite objects is\n",
            "so slow that gsutil disables downloads of composite objects.\n",
            "\n",
            "-\n",
            "Operation completed over 1 objects/1.2 GiB.                                      \n"
          ],
          "name": "stdout"
        }
      ]
    }
  ]
}