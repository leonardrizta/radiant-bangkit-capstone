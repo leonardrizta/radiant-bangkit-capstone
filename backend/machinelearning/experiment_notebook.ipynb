{
  "nbformat": 4,
  "nbformat_minor": 0,
  "metadata": {
    "colab": {
      "name": "experiment notebook",
      "provenance": [],
      "toc_visible": true
    },
    "kernelspec": {
      "name": "python3",
      "display_name": "Python 3"
    },
    "language_info": {
      "name": "python"
    },
    "accelerator": "GPU"
  },
  "cells": [
    {
      "cell_type": "code",
      "metadata": {
        "colab": {
          "base_uri": "https://localhost:8080/"
        },
        "id": "UGaIOy2wcEqo",
        "outputId": "0d7b0703-45ca-4ee6-f54d-b0579d92153c"
      },
      "source": [
        "import tensorflow as tf\n",
        "print(tf.__version__)"
      ],
      "execution_count": null,
      "outputs": [
        {
          "output_type": "stream",
          "text": [
            "2.5.0\n"
          ],
          "name": "stdout"
        }
      ]
    },
    {
      "cell_type": "markdown",
      "metadata": {
        "id": "MV-KNwm38TDQ"
      },
      "source": [
        "# Kaggle Preparation"
      ]
    },
    {
      "cell_type": "code",
      "metadata": {
        "id": "fy-ntV4ZP0uW"
      },
      "source": [
        "import re\n",
        "import os\n",
        "import zipfile\n",
        "import random\n",
        "import shutil\n",
        "import tensorflow as tf\n",
        "from tensorflow.keras.optimizers import RMSprop, SGD\n",
        "from tensorflow.keras.preprocessing.image import ImageDataGenerator\n",
        "from shutil import copyfile\n",
        "from os import getcwd"
      ],
      "execution_count": null,
      "outputs": []
    },
    {
      "cell_type": "code",
      "metadata": {
        "colab": {
          "resources": {
            "http://localhost:8080/nbextensions/google.colab/files.js": {
              "data": "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",
              "ok": true,
              "headers": [
                [
                  "content-type",
                  "application/javascript"
                ]
              ],
              "status": 200,
              "status_text": ""
            }
          },
          "base_uri": "https://localhost:8080/",
          "height": 89
        },
        "id": "aJ-_fjf-QHZy",
        "outputId": "e20c28d3-f984-4302-e3e6-23db18dd7bf0"
      },
      "source": [
        "!pip install -q kaggle\n",
        "from google.colab import files\n",
        "files.upload()"
      ],
      "execution_count": null,
      "outputs": [
        {
          "output_type": "display_data",
          "data": {
            "text/html": [
              "\n",
              "     <input type=\"file\" id=\"files-1ffb994f-88b6-4864-a31c-29ce7e16a408\" name=\"files[]\" multiple disabled\n",
              "        style=\"border:none\" />\n",
              "     <output id=\"result-1ffb994f-88b6-4864-a31c-29ce7e16a408\">\n",
              "      Upload widget is only available when the cell has been executed in the\n",
              "      current browser session. Please rerun this cell to enable.\n",
              "      </output>\n",
              "      <script src=\"/nbextensions/google.colab/files.js\"></script> "
            ],
            "text/plain": [
              "<IPython.core.display.HTML object>"
            ]
          },
          "metadata": {
            "tags": []
          }
        },
        {
          "output_type": "stream",
          "text": [
            "Saving kaggle.json to kaggle.json\n"
          ],
          "name": "stdout"
        },
        {
          "output_type": "execute_result",
          "data": {
            "text/plain": [
              "{'kaggle.json': b'{\"username\":\"leonardrizta\",\"key\":\"9e49c9b604d0e7ce6ee28ad39bffc2b1\"}'}"
            ]
          },
          "metadata": {
            "tags": []
          },
          "execution_count": 3
        }
      ]
    },
    {
      "cell_type": "code",
      "metadata": {
        "colab": {
          "base_uri": "https://localhost:8080/"
        },
        "id": "TKNTF_8qQKtH",
        "outputId": "71ff5c2c-4f88-4cdb-b50f-327869bf794c"
      },
      "source": [
        "! mkdir ~/.kaggle\n",
        "! cp kaggle.json ~/.kaggle/\n",
        "! chmod 600 ~/.kaggle/kaggle.json\n",
        "! kaggle datasets list"
      ],
      "execution_count": null,
      "outputs": [
        {
          "output_type": "stream",
          "text": [
            "Warning: Looks like you're using an outdated API Version, please consider updating (server 1.5.12 / client 1.5.4)\n",
            "ref                                                         title                                              size  lastUpdated          downloadCount  \n",
            "----------------------------------------------------------  ------------------------------------------------  -----  -------------------  -------------  \n",
            "gpreda/reddit-vaccine-myths                                 Reddit Vaccine Myths                              229KB  2021-06-01 11:18:46           6536  \n",
            "crowww/a-large-scale-fish-dataset                           A Large Scale Fish Dataset                          3GB  2021-04-28 17:03:01           3835  \n",
            "imsparsh/musicnet-dataset                                   MusicNet Dataset                                   22GB  2021-02-18 14:12:19           1312  \n",
            "dhruvildave/wikibooks-dataset                               Wikibooks Dataset                                   1GB  2021-02-18 10:08:27           2059  \n",
            "promptcloud/careerbuilder-job-listing-2020                  Careerbuilder Job Listing 2020                     42MB  2021-03-05 06:59:52            934  \n",
            "mathurinache/twitter-edge-nodes                             Twitter Edge Nodes                                342MB  2021-03-08 06:43:04            443  \n",
            "fatiimaezzahra/famous-iconic-women                          Famous Iconic Women                               838MB  2021-02-28 14:56:00            667  \n",
            "alsgroup/end-als                                            End ALS Kaggle Challenge                           12GB  2021-04-08 12:16:37            670  \n",
            "simiotic/github-code-snippets                               GitHub Code Snippets                                7GB  2021-03-03 11:34:39            137  \n",
            "coloradokb/dandelionimages                                  DandelionImages                                     4GB  2021-02-19 20:03:47            382  \n",
            "nickuzmenkov/nih-chest-xrays-tfrecords                      NIH Chest X-rays TFRecords                         11GB  2021-03-09 04:49:23            537  \n",
            "mathurinache/the-lj-speech-dataset                          The LJ Speech Dataset                               3GB  2021-02-15 09:19:54            168  \n",
            "stuartjames/lights                                          LightS: Light Specularity Dataset                  18GB  2021-02-18 14:32:26             62  \n",
            "imsparsh/accentdb-core-extended                             AccentDB - Core & Extended                          6GB  2021-02-17 14:22:54             76  \n",
            "nickuzmenkov/ranzcr-clip-kfold-tfrecords                    RANZCR CLiP KFold TFRecords                         2GB  2021-02-21 13:29:51             81  \n",
            "landrykezebou/lvzhdr-tone-mapping-benchmark-dataset-tmonet  LVZ-HDR Tone Mapping Benchmark Dataset (TMO-Net)   24GB  2021-03-01 05:03:40             82  \n",
            "datasnaek/youtube-new                                       Trending YouTube Video Statistics                 201MB  2019-06-03 00:56:47         141361  \n",
            "zynicide/wine-reviews                                       Wine Reviews                                       51MB  2017-11-27 17:08:04         137525  \n",
            "residentmario/ramen-ratings                                 Ramen Ratings                                      40KB  2018-01-11 16:04:39          23522  \n",
            "datasnaek/chess                                             Chess Game Dataset (Lichess)                        3MB  2017-09-04 03:09:09          18792  \n"
          ],
          "name": "stdout"
        }
      ]
    },
    {
      "cell_type": "markdown",
      "metadata": {
        "id": "kQypvO6Awcwi"
      },
      "source": [
        "# Dataset Download"
      ]
    },
    {
      "cell_type": "code",
      "metadata": {
        "colab": {
          "base_uri": "https://localhost:8080/"
        },
        "id": "XdjKttFYxDJZ",
        "outputId": "c1f11166-fc4d-4558-88a8-86328b35a046"
      },
      "source": [
        "!kaggle datasets download -d shubhamgoel27/dermnet"
      ],
      "execution_count": null,
      "outputs": [
        {
          "output_type": "stream",
          "text": [
            "Downloading dermnet.zip to /content\n",
            "100% 1.72G/1.72G [00:13<00:00, 32.9MB/s]\n",
            "100% 1.72G/1.72G [00:13<00:00, 141MB/s] \n"
          ],
          "name": "stdout"
        }
      ]
    },
    {
      "cell_type": "code",
      "metadata": {
        "id": "8hzmqDtxxHpK"
      },
      "source": [
        "dataset_path = \"/content/dermnet.zip\"\n",
        "zip_ref = zipfile.ZipFile(dataset_path, 'r')\n",
        "zip_ref.extractall('/tmp/')\n",
        "zip_ref.close()"
      ],
      "execution_count": null,
      "outputs": []
    },
    {
      "cell_type": "code",
      "metadata": {
        "id": "o0XCy2YBwfig"
      },
      "source": [
        "train_data_dir = '/tmp/train/'\n",
        "validation_data_dir = '/tmp/test/'"
      ],
      "execution_count": null,
      "outputs": []
    },
    {
      "cell_type": "markdown",
      "metadata": {
        "id": "kc0ZJFqeVy8Y"
      },
      "source": [
        "# Dataset Preparation"
      ]
    },
    {
      "cell_type": "code",
      "metadata": {
        "colab": {
          "base_uri": "https://localhost:8080/"
        },
        "id": "BTGviqzewhj9",
        "outputId": "ddd685e1-8dcc-4bc9-8fa7-d67bb9bc765d"
      },
      "source": [
        "train_data_list = os.listdir(train_data_dir)\n",
        "validation_data_list = os.listdir(validation_data_dir)\n",
        "print(os.listdir(train_data_dir))\n",
        "print(os.listdir(validation_data_dir))\n",
        "print(len(os.listdir(train_data_dir)))\n",
        "print(len(os.listdir(validation_data_dir)))"
      ],
      "execution_count": null,
      "outputs": [
        {
          "output_type": "stream",
          "text": [
            "['Herpes HPV and other STDs Photos', 'Warts Molluscum and other Viral Infections', 'Melanoma Skin Cancer Nevi and Moles', 'Systemic Disease', 'Actinic Keratosis Basal Cell Carcinoma and other Malignant Lesions', 'Vascular Tumors', 'Exanthems and Drug Eruptions', 'Acne and Rosacea Photos', 'Hair Loss Photos Alopecia and other Hair Diseases', 'Bullous Disease Photos', 'Atopic Dermatitis Photos', 'Tinea Ringworm Candidiasis and other Fungal Infections', 'Lupus and other Connective Tissue diseases', 'Psoriasis pictures Lichen Planus and related diseases', 'Poison Ivy Photos and other Contact Dermatitis', 'Scabies Lyme Disease and other Infestations and Bites', 'Urticaria Hives', 'Eczema Photos', 'Vasculitis Photos', 'Seborrheic Keratoses and other Benign Tumors', 'Cellulitis Impetigo and other Bacterial Infections', 'Nail Fungus and other Nail Disease', 'Light Diseases and Disorders of Pigmentation']\n",
            "['Herpes HPV and other STDs Photos', 'Warts Molluscum and other Viral Infections', 'Melanoma Skin Cancer Nevi and Moles', 'Systemic Disease', 'Actinic Keratosis Basal Cell Carcinoma and other Malignant Lesions', 'Vascular Tumors', 'Exanthems and Drug Eruptions', 'Acne and Rosacea Photos', 'Hair Loss Photos Alopecia and other Hair Diseases', 'Bullous Disease Photos', 'Atopic Dermatitis Photos', 'Tinea Ringworm Candidiasis and other Fungal Infections', 'Lupus and other Connective Tissue diseases', 'Psoriasis pictures Lichen Planus and related diseases', 'Poison Ivy Photos and other Contact Dermatitis', 'Scabies Lyme Disease and other Infestations and Bites', 'Urticaria Hives', 'Eczema Photos', 'Vasculitis Photos', 'Seborrheic Keratoses and other Benign Tumors', 'Cellulitis Impetigo and other Bacterial Infections', 'Nail Fungus and other Nail Disease', 'Light Diseases and Disorders of Pigmentation']\n",
            "23\n",
            "23\n"
          ],
          "name": "stdout"
        }
      ]
    },
    {
      "cell_type": "code",
      "metadata": {
        "id": "2monMgZzySIT"
      },
      "source": [
        "used_data = ['Acne and Rosacea Photos', 'Actinic Keratosis Basal Cell Carcinoma and other Malignant Lesions', 'Eczema Photos', 'Light Diseases and Disorders of Pigmentation', 'Nail Fungus and other Nail Disease']"
      ],
      "execution_count": null,
      "outputs": []
    },
    {
      "cell_type": "code",
      "metadata": {
        "colab": {
          "base_uri": "https://localhost:8080/"
        },
        "id": "2DTl0ibo49L0",
        "outputId": "d281c49f-1e98-4d0a-e84b-bf9aec673d39"
      },
      "source": [
        "unused_data = train_data_list\n",
        "print(unused_data)"
      ],
      "execution_count": null,
      "outputs": [
        {
          "output_type": "stream",
          "text": [
            "['Herpes HPV and other STDs Photos', 'Warts Molluscum and other Viral Infections', 'Melanoma Skin Cancer Nevi and Moles', 'Systemic Disease', 'Actinic Keratosis Basal Cell Carcinoma and other Malignant Lesions', 'Vascular Tumors', 'Exanthems and Drug Eruptions', 'Acne and Rosacea Photos', 'Hair Loss Photos Alopecia and other Hair Diseases', 'Bullous Disease Photos', 'Atopic Dermatitis Photos', 'Tinea Ringworm Candidiasis and other Fungal Infections', 'Lupus and other Connective Tissue diseases', 'Psoriasis pictures Lichen Planus and related diseases', 'Poison Ivy Photos and other Contact Dermatitis', 'Scabies Lyme Disease and other Infestations and Bites', 'Urticaria Hives', 'Eczema Photos', 'Vasculitis Photos', 'Seborrheic Keratoses and other Benign Tumors', 'Cellulitis Impetigo and other Bacterial Infections', 'Nail Fungus and other Nail Disease', 'Light Diseases and Disorders of Pigmentation']\n"
          ],
          "name": "stdout"
        }
      ]
    },
    {
      "cell_type": "code",
      "metadata": {
        "colab": {
          "base_uri": "https://localhost:8080/"
        },
        "id": "1QgHmWVy5DNp",
        "outputId": "9730567f-eebe-4948-e006-b8602bf7ed5b"
      },
      "source": [
        "for data in used_data:\n",
        "  unused_data.remove(data)\n",
        "print(unused_data)\n",
        "print(len(unused_data))"
      ],
      "execution_count": null,
      "outputs": [
        {
          "output_type": "stream",
          "text": [
            "['Herpes HPV and other STDs Photos', 'Warts Molluscum and other Viral Infections', 'Melanoma Skin Cancer Nevi and Moles', 'Systemic Disease', 'Vascular Tumors', 'Exanthems and Drug Eruptions', 'Hair Loss Photos Alopecia and other Hair Diseases', 'Bullous Disease Photos', 'Atopic Dermatitis Photos', 'Tinea Ringworm Candidiasis and other Fungal Infections', 'Lupus and other Connective Tissue diseases', 'Psoriasis pictures Lichen Planus and related diseases', 'Poison Ivy Photos and other Contact Dermatitis', 'Scabies Lyme Disease and other Infestations and Bites', 'Urticaria Hives', 'Vasculitis Photos', 'Seborrheic Keratoses and other Benign Tumors', 'Cellulitis Impetigo and other Bacterial Infections']\n",
            "18\n"
          ],
          "name": "stdout"
        }
      ]
    },
    {
      "cell_type": "code",
      "metadata": {
        "colab": {
          "base_uri": "https://localhost:8080/"
        },
        "id": "0R63MAb43ZH6",
        "outputId": "aa77c142-62f9-4039-9cf5-6e44a9f573f6"
      },
      "source": [
        "for data in unused_data:\n",
        "  try:\n",
        "    shutil.rmtree(train_data_dir+ data)\n",
        "  except OSError as e:\n",
        "    print(\"Folder already deleted\")\n",
        "  try:\n",
        "    shutil.rmtree(validation_data_dir+ data)\n",
        "  except OSError as e:\n",
        "    print(\"Folder already deleted\")\n",
        "print(\"Done!\")"
      ],
      "execution_count": null,
      "outputs": [
        {
          "output_type": "stream",
          "text": [
            "Done!\n"
          ],
          "name": "stdout"
        }
      ]
    },
    {
      "cell_type": "code",
      "metadata": {
        "colab": {
          "base_uri": "https://localhost:8080/"
        },
        "id": "1zTX_FekAGOO",
        "outputId": "13065691-f017-478a-ba99-9ed48cb4b577"
      },
      "source": [
        "for directory in sorted(os.listdir(train_data_dir)):\n",
        "  print(directory)"
      ],
      "execution_count": null,
      "outputs": [
        {
          "output_type": "stream",
          "text": [
            "Acne and Rosacea Photos\n",
            "Actinic Keratosis Basal Cell Carcinoma and other Malignant Lesions\n",
            "Eczema Photos\n",
            "Light Diseases and Disorders of Pigmentation\n",
            "Nail Fungus and other Nail Disease\n"
          ],
          "name": "stdout"
        }
      ]
    },
    {
      "cell_type": "markdown",
      "metadata": {
        "id": "fMsEgPbMXPV5"
      },
      "source": [
        "## Download list file"
      ]
    },
    {
      "cell_type": "code",
      "metadata": {
        "id": "2CNv4O-OXSBU"
      },
      "source": [
        "disease_directory = \"Acne and Rosacea Photos/\" #Change directory name with spesific disease\n",
        "with open('file.txt', 'a') as f:\n",
        "  for data in sorted(os.listdir(train_data_dir+disease_directory)):\n",
        "    print(data, file=f)"
      ],
      "execution_count": null,
      "outputs": []
    },
    {
      "cell_type": "markdown",
      "metadata": {
        "id": "hVtEE31bFhR3"
      },
      "source": [
        "## Acne"
      ]
    },
    {
      "cell_type": "code",
      "metadata": {
        "id": "KHHOjS2QBu0g"
      },
      "source": [
        "disease_directory = \"Acne and Rosacea Photos/\""
      ],
      "execution_count": null,
      "outputs": []
    },
    {
      "cell_type": "code",
      "metadata": {
        "id": "B8YMTIGB0De6"
      },
      "source": [
        "pattern_list = [\"^07[\\w-]*.jpg\", \n",
        "                \"^acne-[\\w-]*.jpg\", \n",
        "                \"^gram-[\\w-]*.jpg\",\n",
        "                \"^perioral-dermatitis[\\w-]*.jpg\",\n",
        "                \"^rosacea-[\\w-]*.jpg\",\n",
        "                ]"
      ],
      "execution_count": null,
      "outputs": []
    },
    {
      "cell_type": "code",
      "metadata": {
        "colab": {
          "base_uri": "https://localhost:8080/"
        },
        "id": "sHOI-VpUC8Y3",
        "outputId": "d47ff2f5-b706-4afb-9b0e-0e5cf9f3bb68"
      },
      "source": [
        "for data in sorted(os.listdir(train_data_dir+disease_directory)):\n",
        "  x = None\n",
        "  for pattern in pattern_list:\n",
        "    x = re.search(pattern, data)\n",
        "    if x is not None:\n",
        "      break\n",
        "  if x is None:\n",
        "    os.remove(train_data_dir+disease_directory+data)\n",
        "print(\"train data: \"+str(len(os.listdir(train_data_dir+disease_directory))))"
      ],
      "execution_count": null,
      "outputs": [
        {
          "output_type": "stream",
          "text": [
            "train data: 682\n"
          ],
          "name": "stdout"
        }
      ]
    },
    {
      "cell_type": "code",
      "metadata": {
        "id": "F0eQJrpr5of6"
      },
      "source": [
        "pattern_list = [\"Forest-2\",\n",
        "                ]"
      ],
      "execution_count": null,
      "outputs": []
    },
    {
      "cell_type": "code",
      "metadata": {
        "colab": {
          "base_uri": "https://localhost:8080/"
        },
        "id": "6N8b-QjZW57w",
        "outputId": "0c61ac3f-1818-49d7-b151-0caae5ba7476"
      },
      "source": [
        "print(\"validation data: \"+str(len(os.listdir(validation_data_dir+disease_directory))))"
      ],
      "execution_count": null,
      "outputs": [
        {
          "output_type": "stream",
          "text": [
            "validation data: 312\n"
          ],
          "name": "stdout"
        }
      ]
    },
    {
      "cell_type": "code",
      "metadata": {
        "colab": {
          "base_uri": "https://localhost:8080/"
        },
        "id": "VLMERY6ZApZ0",
        "outputId": "d76904a3-78fa-46e1-be82-301b00dc2efa"
      },
      "source": [
        "for data in sorted(os.listdir(validation_data_dir+disease_directory)):\n",
        "  x = None\n",
        "  for pattern in pattern_list:\n",
        "    x = re.search(pattern, data)\n",
        "    if x is None:\n",
        "      break\n",
        "  if x is not None:\n",
        "    os.remove(validation_data_dir+disease_directory+data)\n",
        "print(\"validation data: \"+str(len(os.listdir(validation_data_dir+disease_directory))))"
      ],
      "execution_count": null,
      "outputs": [
        {
          "output_type": "stream",
          "text": [
            "validation data: 311\n"
          ],
          "name": "stdout"
        }
      ]
    },
    {
      "cell_type": "markdown",
      "metadata": {
        "id": "N5jNW3GjFkQJ"
      },
      "source": [
        "## Actinic"
      ]
    },
    {
      "cell_type": "code",
      "metadata": {
        "id": "7E40iAq1C2Sc"
      },
      "source": [
        "disease_directory = \"Actinic Keratosis Basal Cell Carcinoma and other Malignant Lesions/\""
      ],
      "execution_count": null,
      "outputs": []
    },
    {
      "cell_type": "code",
      "metadata": {
        "id": "Ui4gkbyM0m6K"
      },
      "source": [
        "pattern_list = [\"^actinic-[\\w-]*.jpg\",\n",
        "                \"^basal-[\\w-]*.jpg\",\n",
        "                \"^squamous-[\\w-]*.jpg\",\n",
        "                ]"
      ],
      "execution_count": null,
      "outputs": []
    },
    {
      "cell_type": "code",
      "metadata": {
        "colab": {
          "base_uri": "https://localhost:8080/"
        },
        "id": "hkbL-rgBFmgv",
        "outputId": "8107c993-9abc-49bd-c778-f2626a75a855"
      },
      "source": [
        "for data in sorted(os.listdir(train_data_dir+disease_directory)):\n",
        "  x = None\n",
        "  for pattern in pattern_list:\n",
        "    x = re.search(pattern, data)\n",
        "    if x is not None:\n",
        "      break\n",
        "  if x is None:\n",
        "    os.remove(train_data_dir+disease_directory+data)\n",
        "print(\"train data: \"+str(len(os.listdir(train_data_dir+disease_directory))))"
      ],
      "execution_count": null,
      "outputs": [
        {
          "output_type": "stream",
          "text": [
            "train data: 822\n"
          ],
          "name": "stdout"
        }
      ]
    },
    {
      "cell_type": "code",
      "metadata": {
        "id": "pIvH9JlyEY0P"
      },
      "source": [
        "pattern_list = [\"^Forest-2[\\w-]*.jpg\", \n",
        "                ]"
      ],
      "execution_count": null,
      "outputs": []
    },
    {
      "cell_type": "code",
      "metadata": {
        "colab": {
          "base_uri": "https://localhost:8080/"
        },
        "id": "441fRJ7VXlSN",
        "outputId": "2f7628a5-b1de-431e-a056-a015de1988d4"
      },
      "source": [
        "print(\"validation data: \"+str(len(os.listdir(validation_data_dir+disease_directory))))"
      ],
      "execution_count": null,
      "outputs": [
        {
          "output_type": "stream",
          "text": [
            "validation data: 288\n"
          ],
          "name": "stdout"
        }
      ]
    },
    {
      "cell_type": "code",
      "metadata": {
        "colab": {
          "base_uri": "https://localhost:8080/"
        },
        "id": "_ClEUYWv8W_x",
        "outputId": "d7c8dcfc-7219-4cf2-b97b-19b5d4266997"
      },
      "source": [
        "for data in sorted(os.listdir(validation_data_dir+disease_directory)):\n",
        "  x = None\n",
        "  for pattern in pattern_list:\n",
        "    x = re.search(pattern, data)\n",
        "    if x is None:\n",
        "      break\n",
        "  if x is not None:\n",
        "    os.remove(validation_data_dir+disease_directory+data)\n",
        "print(\"validation data: \"+str(len(os.listdir(validation_data_dir+disease_directory))))"
      ],
      "execution_count": null,
      "outputs": [
        {
          "output_type": "stream",
          "text": [
            "validation data: 288\n"
          ],
          "name": "stdout"
        }
      ]
    },
    {
      "cell_type": "markdown",
      "metadata": {
        "id": "K-Bxbqu8GXQd"
      },
      "source": [
        "## Eczema Photos"
      ]
    },
    {
      "cell_type": "code",
      "metadata": {
        "id": "btadpAjpD9_x"
      },
      "source": [
        "disease_directory = \"Eczema Photos/\""
      ],
      "execution_count": null,
      "outputs": []
    },
    {
      "cell_type": "code",
      "metadata": {
        "id": "ulmCR6_31e_y"
      },
      "source": [
        "pattern_list = [\"03Desquamation-[\\w-]*.jpg\",\n",
        "                \"03Eczema[\\w-]*.jpg\",\n",
        "                \"Dyshidrosis-[\\w-]*.jpg\",\n",
        "                \"chapped-[\\w-]*.jpg\",\n",
        "                \"eczema-[\\w-]*.jpg\",\n",
        "                ]"
      ],
      "execution_count": null,
      "outputs": []
    },
    {
      "cell_type": "code",
      "metadata": {
        "colab": {
          "base_uri": "https://localhost:8080/"
        },
        "id": "VpPUx5hIGblr",
        "outputId": "b7800473-a4f3-4b20-b897-a561c95c4240"
      },
      "source": [
        "for data in sorted(os.listdir(train_data_dir+disease_directory)):\n",
        "  x = None\n",
        "  for pattern in pattern_list:\n",
        "    x = re.search(pattern, data)\n",
        "    if x is not None:\n",
        "      break\n",
        "  if x is None:\n",
        "    os.remove(train_data_dir+disease_directory+data)\n",
        "print(\"train data: \"+str(len(os.listdir(train_data_dir+disease_directory))))"
      ],
      "execution_count": null,
      "outputs": [
        {
          "output_type": "stream",
          "text": [
            "train data: 793\n"
          ],
          "name": "stdout"
        }
      ]
    },
    {
      "cell_type": "code",
      "metadata": {
        "id": "WzO_82MAEphX"
      },
      "source": [
        "pattern_list = [\"^eczema-histology[\\w-]*.jpg\",\n",
        "                \"^eczema-impetiginized[\\w-]*.jpg\",\n",
        "                \"^eczema-lids[\\w-]*.jpg\",\n",
        "                \"^eczema-penis[\\w-]*.jpg\",\n",
        "                \"^eczema-scrotum[\\w-]*.jpg\",\n",
        "                \"^eczema-subacute[\\w-]*.jpg\",\n",
        "                \"^Forest-2[\\w-]*.jpg\",\n",
        "                ]"
      ],
      "execution_count": null,
      "outputs": []
    },
    {
      "cell_type": "code",
      "metadata": {
        "colab": {
          "base_uri": "https://localhost:8080/"
        },
        "id": "q1JU5H7e85Ya",
        "outputId": "fa303f37-79cf-4e6c-f6d3-7209ddef9f85"
      },
      "source": [
        "for data in sorted(os.listdir(validation_data_dir+disease_directory)):\n",
        "  x = None\n",
        "  for pattern in pattern_list:\n",
        "    x = re.search(pattern, data)\n",
        "    if x is None:\n",
        "      break\n",
        "  if x is not None:\n",
        "    os.remove(validation_data_dir+disease_directory+data)\n",
        "print(\"validation data: \"+str(len(os.listdir(validation_data_dir+disease_directory))))"
      ],
      "execution_count": null,
      "outputs": [
        {
          "output_type": "stream",
          "text": [
            "validation data: 309\n"
          ],
          "name": "stdout"
        }
      ]
    },
    {
      "cell_type": "markdown",
      "metadata": {
        "id": "UfwOhUczG7et"
      },
      "source": [
        "## Light Diseases"
      ]
    },
    {
      "cell_type": "code",
      "metadata": {
        "id": "BfnelEOl2Gig"
      },
      "source": [
        "disease_directory = \"Light Diseases and Disorders of Pigmentation/\""
      ],
      "execution_count": null,
      "outputs": []
    },
    {
      "cell_type": "code",
      "metadata": {
        "id": "3WWC1t-g2Qe6"
      },
      "source": [
        "pattern_list = [\"^albinism-[\\w-]*.jpg\",\n",
        "                \"^colloid-[\\w-]*.jpg\",\n",
        "                \"^erythema-[\\w-]*.jpg\",\n",
        "                \"^erythromelanosis-[\\w-]*.jpg\",\n",
        "                \"^idiopathic-[\\w-]*.jpg\",\n",
        "                \"^lentigo-[\\w-]*.jpg\",\n",
        "                \"^melasma-[\\w-]*.jpg\",\n",
        "                \"^mongolian-[\\w-]*.jpg\",\n",
        "                \"^nevus-[\\w-]*.jpg\",\n",
        "                \"^phototoxic-[\\w-]*.jpg\",\n",
        "                \"^poikiloderma-[\\w-]*.jpg\",\n",
        "                \"^polymorphous-[\\w-]*.jpg\",\n",
        "                \"^radiation-[\\w-]*.jpg\",\n",
        "                \"^sun-[\\w-]*.jpg\",\n",
        "                \"^sunburn-[\\w-]*.jpg\",\n",
        "                ]"
      ],
      "execution_count": null,
      "outputs": []
    },
    {
      "cell_type": "code",
      "metadata": {
        "colab": {
          "base_uri": "https://localhost:8080/"
        },
        "id": "e0RQlgto2eSe",
        "outputId": "3c41d98a-7389-4ffb-fc49-db20536ef757"
      },
      "source": [
        "for data in sorted(os.listdir(train_data_dir+disease_directory)):\n",
        "  x = None\n",
        "  for pattern in pattern_list:\n",
        "    x = re.search(pattern, data)\n",
        "    if x is not None:\n",
        "      break\n",
        "  if x is None:\n",
        "    os.remove(train_data_dir+disease_directory+data)\n",
        "print(\"train data: \"+str(len(os.listdir(train_data_dir+disease_directory))))"
      ],
      "execution_count": null,
      "outputs": [
        {
          "output_type": "stream",
          "text": [
            "train data: 408\n"
          ],
          "name": "stdout"
        }
      ]
    },
    {
      "cell_type": "code",
      "metadata": {
        "id": "WlVLN8Zq9NjZ"
      },
      "source": [
        "pattern_list = [\"Forest-2[\\w-]*.jpg\",\n",
        "                ]"
      ],
      "execution_count": null,
      "outputs": []
    },
    {
      "cell_type": "code",
      "metadata": {
        "colab": {
          "base_uri": "https://localhost:8080/"
        },
        "id": "RTtopl8t2fOx",
        "outputId": "747cb6b6-ca30-4ea0-d7be-f9bd2b15e269"
      },
      "source": [
        "for data in sorted(os.listdir(validation_data_dir+disease_directory)):\n",
        "  x = None\n",
        "  for pattern in pattern_list:\n",
        "    x = re.search(pattern, data)\n",
        "    if x is None:\n",
        "      break\n",
        "  if x is not None:\n",
        "    os.remove(validation_data_dir+disease_directory+data)\n",
        "print(\"validation data: \"+str(len(os.listdir(validation_data_dir+disease_directory))))"
      ],
      "execution_count": null,
      "outputs": [
        {
          "output_type": "stream",
          "text": [
            "validation data: 143\n"
          ],
          "name": "stdout"
        }
      ]
    },
    {
      "cell_type": "markdown",
      "metadata": {
        "id": "UpAnNx-q3ctk"
      },
      "source": [
        "## Nail Fungus"
      ]
    },
    {
      "cell_type": "code",
      "metadata": {
        "id": "3CavQhGG3iYV"
      },
      "source": [
        "disease_directory = \"Nail Fungus and other Nail Disease/\""
      ],
      "execution_count": null,
      "outputs": []
    },
    {
      "cell_type": "code",
      "metadata": {
        "id": "82rBR4NI24rm"
      },
      "source": [
        "pattern_list = [\"acute[\\w-]*.jpg\",\n",
        "                \"beaus[\\w-]*.jpg\",\n",
        "                \"biting[\\w-]*.jpg\",\n",
        "                \"blue[\\w-]*.jpg\",\n",
        "                \"chronic[\\w-]*.jpg\",\n",
        "                \"clubbing[\\w-]*.jpg\",\n",
        "                \"color[\\w-]*.jpg\",\n",
        "                \"congenital[\\w-]*.jpg\",\n",
        "                \"darier[\\w-]*.jpg\",\n",
        "                \"distal[\\w-]*.jpg\",\n",
        "                \"dry[\\w-]*.jpg\",\n",
        "                \"eczema[\\w-]*.jpg\",\n",
        "                \"habit[\\w-]*.jpg\",\n",
        "                \"ingrown[\\w-]*.jpg\",\n",
        "                \"koilonychia[\\w-]*.jpg\",\n",
        "                ]\n",
        "                "
      ],
      "execution_count": null,
      "outputs": []
    },
    {
      "cell_type": "code",
      "metadata": {
        "colab": {
          "base_uri": "https://localhost:8080/"
        },
        "id": "gfAp6WyP3SF2",
        "outputId": "73271538-5971-4384-ff82-8772eb4c4b3c"
      },
      "source": [
        "for data in sorted(os.listdir(train_data_dir+disease_directory)):\n",
        "  x = None\n",
        "  for pattern in pattern_list:\n",
        "    x = re.search(pattern, data)\n",
        "    if x is not None:\n",
        "      break\n",
        "  if x is None:\n",
        "    os.remove(train_data_dir+disease_directory+data)\n",
        "print(\"train data: \"+str(len(os.listdir(train_data_dir+disease_directory))))"
      ],
      "execution_count": null,
      "outputs": [
        {
          "output_type": "stream",
          "text": [
            "train data: 349\n"
          ],
          "name": "stdout"
        }
      ]
    },
    {
      "cell_type": "code",
      "metadata": {
        "id": "NwmZ1kWU-D08"
      },
      "source": [
        "pattern_list = [\"^Forest-2[\\w-]*.jpg\",\n",
        "                ]"
      ],
      "execution_count": null,
      "outputs": []
    },
    {
      "cell_type": "code",
      "metadata": {
        "colab": {
          "base_uri": "https://localhost:8080/"
        },
        "id": "l7ObgUwe3U9c",
        "outputId": "0463de06-8b90-44ed-faaf-e48d4fb0b429"
      },
      "source": [
        "for data in sorted(os.listdir(validation_data_dir+disease_directory)):\n",
        "  x = None\n",
        "  for pattern in pattern_list:\n",
        "    x = re.search(pattern, data)\n",
        "    if x is None:\n",
        "      break\n",
        "  if x is not None:\n",
        "    os.remove(validation_data_dir+disease_directory+data)\n",
        "print(\"validation data: \"+str(len(os.listdir(validation_data_dir+disease_directory))))"
      ],
      "execution_count": null,
      "outputs": [
        {
          "output_type": "stream",
          "text": [
            "validation data: 261\n"
          ],
          "name": "stdout"
        }
      ]
    },
    {
      "cell_type": "markdown",
      "metadata": {
        "id": "1tV79nAQa3gF"
      },
      "source": [
        "# Image Generator"
      ]
    },
    {
      "cell_type": "code",
      "metadata": {
        "id": "p9iuLTLua5Ul"
      },
      "source": [
        "img_width, img_height = 224, 224"
      ],
      "execution_count": null,
      "outputs": []
    },
    {
      "cell_type": "code",
      "metadata": {
        "id": "4HUCm2aK00k6"
      },
      "source": [
        "def preprocess_image(path):\n",
        "    img = load_img(path, target_size = (img_height, img_width))\n",
        "    a = img_to_array(img)\n",
        "    a = np.expand_dims(a, axis = 0)\n",
        "    a = preprocess_input(a)\n",
        "    return a"
      ],
      "execution_count": null,
      "outputs": []
    },
    {
      "cell_type": "code",
      "metadata": {
        "id": "oyeTnJR305e4",
        "colab": {
          "base_uri": "https://localhost:8080/"
        },
        "outputId": "00444325-f59d-4d75-99fd-79f5221eaed8"
      },
      "source": [
        "from keras.preprocessing.image import ImageDataGenerator\n",
        "from keras.applications.resnet50 import preprocess_input\n",
        "\n",
        "HEIGHT = 224\n",
        "WIDTH = 224\n",
        "BATCH_SIZE = 16\n",
        "\n",
        "train_datagen =  ImageDataGenerator(\n",
        "      preprocessing_function=preprocess_input,\n",
        "      rotation_range=90,\n",
        "      horizontal_flip=True,\n",
        "      vertical_flip=True,\n",
        "      fill_mode = 'nearest'\n",
        "    )\n",
        "\n",
        "train_generator = train_datagen.flow_from_directory(train_data_dir, \n",
        "                                                    target_size=(HEIGHT, WIDTH), \n",
        "                                                    batch_size=BATCH_SIZE)\n",
        "\n",
        "\n",
        "test_datagen =  ImageDataGenerator(\n",
        "      preprocessing_function=preprocess_input,\n",
        "      rotation_range=90,\n",
        "      horizontal_flip=True,\n",
        "      vertical_flip=True,\n",
        "      fill_mode = 'nearest'\n",
        "    )\n",
        "validation_generator = test_datagen.flow_from_directory(\n",
        "        validation_data_dir,\n",
        "        target_size=(HEIGHT, WIDTH),\n",
        "        batch_size=BATCH_SIZE)"
      ],
      "execution_count": null,
      "outputs": [
        {
          "output_type": "stream",
          "text": [
            "Found 3054 images belonging to 5 classes.\n",
            "Found 1312 images belonging to 5 classes.\n"
          ],
          "name": "stdout"
        }
      ]
    },
    {
      "cell_type": "markdown",
      "metadata": {
        "id": "d0AEVVlfEtYr"
      },
      "source": [
        "# Model Experiment"
      ]
    },
    {
      "cell_type": "markdown",
      "metadata": {
        "id": "tkx_p5pM1enR"
      },
      "source": [
        "## CNN"
      ]
    },
    {
      "cell_type": "code",
      "metadata": {
        "id": "d4S0cQgZ1VDD"
      },
      "source": [
        "model = tf.keras.models.Sequential([\n",
        "    tf.keras.layers.Conv2D(64, (3, 3), activation='relu', input_shape=(250, 250, 3)),\n",
        "    tf.keras.layers.MaxPooling2D(2, 2),\n",
        "    tf.keras.layers.Conv2D(64, (3, 3), activation='relu'),\n",
        "    tf.keras.layers.MaxPooling2D(2, 2),\n",
        "    tf.keras.layers.Conv2D(128, (3, 3), activation='relu'),\n",
        "    tf.keras.layers.MaxPooling2D(2, 2),\n",
        "    tf.keras.layers.Conv2D(128, (3, 3), activation='relu'),\n",
        "    tf.keras.layers.MaxPooling2D(2, 2),\n",
        "    tf.keras.layers.Flatten(),\n",
        "    tf.keras.layers.Dropout(0.5),\n",
        "    tf.keras.layers.Dense(512, activation='relu'),\n",
        "    tf.keras.layers.Dense(7, activation='softmax')\n",
        "])\n",
        "\n",
        "model.summary()"
      ],
      "execution_count": null,
      "outputs": []
    },
    {
      "cell_type": "code",
      "metadata": {
        "id": "Ec98bCwh1YEL"
      },
      "source": [
        "model.compile(loss = 'categorical_crossentropy', optimizer = 'rmsprop', metrics = ['accuracy'])\n",
        "history = model.fit(train_generator, epochs = 35, steps_per_epoch = 25, validation_data = validation_generator, verbose = 1, validation_steps = 7)"
      ],
      "execution_count": null,
      "outputs": []
    },
    {
      "cell_type": "markdown",
      "metadata": {
        "id": "_Zkbv9eb5ML5"
      },
      "source": [
        "## Resnet50 #2"
      ]
    },
    {
      "cell_type": "code",
      "metadata": {
        "id": "hEGlUen_5P9L"
      },
      "source": [
        "input_t = tf.keras.Input(shape=(224,224,3))\n",
        "res_model = tf.keras.applications.resnet50.ResNet50(include_top=False,\n",
        "                                    weights=\"imagenet\",\n",
        "                                    input_tensor=input_t)"
      ],
      "execution_count": null,
      "outputs": []
    },
    {
      "cell_type": "code",
      "metadata": {
        "id": "kTpQQwuY5qzS"
      },
      "source": [
        "for layer in res_model.layers:\n",
        "  layer.trainable = False"
      ],
      "execution_count": null,
      "outputs": []
    },
    {
      "cell_type": "code",
      "metadata": {
        "id": "LxT4dDMM6DLy"
      },
      "source": [
        "model = tf.keras.models.Sequential()\n",
        "model.add(tf.keras.layers.Lambda(lambda image: tf.image.resize(image, (224,224))))\n",
        "model.add(res_model)\n",
        "model.add(tf.keras.layers.Flatten())\n",
        "model.add(tf.keras.layers.BatchNormalization())\n",
        "model.add(tf.keras.layers.Dense(256, activation='relu'))\n",
        "model.add(tf.keras.layers.Dropout(0.5))\n",
        "model.add(tf.keras.layers.BatchNormalization())\n",
        "model.add(tf.keras.layers.Dense(128, activation='relu'))\n",
        "model.add(tf.keras.layers.Dropout(0.5))\n",
        "model.add(tf.keras.layers.BatchNormalization())\n",
        "model.add(tf.keras.layers.Dense(64, activation='relu'))\n",
        "model.add(tf.keras.layers.Dropout(0.5))\n",
        "model.add(tf.keras.layers.BatchNormalization())\n",
        "model.add(tf.keras.layers.Dense(5, activation='softmax'))"
      ],
      "execution_count": null,
      "outputs": []
    },
    {
      "cell_type": "code",
      "metadata": {
        "id": "sOP5tR066RTw"
      },
      "source": [
        "check_point = tf.keras.callbacks.ModelCheckpoint(filepath='dermnet.h5',\n",
        "                                          monitor=\"val_accuracy\",\n",
        "                                          mode='max',\n",
        "                                          save_best_only=True,\n",
        "                                          )"
      ],
      "execution_count": null,
      "outputs": []
    },
    {
      "cell_type": "code",
      "metadata": {
        "id": "T24sajE27DFP"
      },
      "source": [
        "model.compile(loss='categorical_crossentropy', \n",
        "              optimizer=tf.keras.optimizers.RMSprop(learning_rate=2e-5),\n",
        "              metrics=['accuracy'])"
      ],
      "execution_count": null,
      "outputs": []
    },
    {
      "cell_type": "code",
      "metadata": {
        "colab": {
          "base_uri": "https://localhost:8080/"
        },
        "id": "li3QHC097UN0",
        "outputId": "eb8f7763-ed48-430f-c569-23f4ed6e5f17"
      },
      "source": [
        "NUM_EPOCHS = 45\n",
        "history = model.fit(train_generator, \n",
        "                    epochs=NUM_EPOCHS, \n",
        "                    workers=16,\n",
        "                    verbose=1,\n",
        "                    validation_data = validation_generator,\n",
        "                    callbacks=[check_point]\n",
        "                    )"
      ],
      "execution_count": null,
      "outputs": [
        {
          "output_type": "stream",
          "text": [
            "Epoch 1/45\n",
            " 33/191 [====>.........................] - ETA: 30s - loss: 2.1029 - accuracy: 0.2235"
          ],
          "name": "stdout"
        }
      ]
    },
    {
      "cell_type": "markdown",
      "metadata": {
        "id": "bheMjfD3BMiq"
      },
      "source": [
        "## Resnet50 #3"
      ]
    },
    {
      "cell_type": "code",
      "metadata": {
        "id": "-OLeQu5rBQud"
      },
      "source": [
        "input_t = tf.keras.Input(shape=(224,224,3))\n",
        "res_model = tf.keras.applications.resnet50.ResNet50(include_top=False,\n",
        "                                    weights=\"imagenet\",\n",
        "                                    input_tensor=input_t)"
      ],
      "execution_count": null,
      "outputs": []
    },
    {
      "cell_type": "code",
      "metadata": {
        "id": "6ku4irwqBrsn"
      },
      "source": [
        "def build_model(base_model, num_classes):\n",
        "  for layer in base_model.layers:\n",
        "    layer.trainable = False\n",
        "\n",
        "  model = tf.keras.models.Sequential()\n",
        "\n",
        "  model.add(tf.keras.layers.Lambda(lambda image: tf.image.resize(image, (224,224))))\n",
        "  model.add(base_model)\n",
        "  model.add(tf.keras.layers.Flatten())\n",
        "\n",
        "  model.add(tf.keras.layers.Dense(1024, activation='relu'))\n",
        "  model.add(tf.keras.layers.Dense(1024, activation='relu'))\n",
        "  model.add(tf.keras.layers.Dense(num_classes, activation='softmax'))\n",
        "\n",
        "  return model\n",
        "\n",
        "class_list = os.listdir(train_data_dir)\n",
        "model = build_model(res_model, num_classes = len(class_list))"
      ],
      "execution_count": null,
      "outputs": []
    },
    {
      "cell_type": "code",
      "metadata": {
        "id": "I2Yop6xoCNOR"
      },
      "source": [
        "check_point = tf.keras.callbacks.ModelCheckpoint(filepath='dermnet.h5',\n",
        "                                          monitor=\"val_accuracy\",\n",
        "                                          mode='max',\n",
        "                                          save_best_only=True,\n",
        "                                          )"
      ],
      "execution_count": null,
      "outputs": []
    },
    {
      "cell_type": "code",
      "metadata": {
        "id": "YG0QOF_0CP5a"
      },
      "source": [
        "model.compile(loss='categorical_crossentropy', \n",
        "              optimizer=tf.keras.optimizers.SGD(learning_rate=0.0001, momentum=0.6),\n",
        "              metrics=['accuracy'])"
      ],
      "execution_count": null,
      "outputs": []
    },
    {
      "cell_type": "code",
      "metadata": {
        "colab": {
          "base_uri": "https://localhost:8080/"
        },
        "id": "nhDtEBmqCAPU",
        "outputId": "15a60859-2ff9-499c-99c2-1a0c3d23c3e7"
      },
      "source": [
        "NUM_EPOCHS = 45\n",
        "history = model.fit(train_generator, \n",
        "                    epochs=NUM_EPOCHS, \n",
        "                    workers=16,\n",
        "                    verbose=1,\n",
        "                    validation_data = validation_generator,\n",
        "                    callbacks=[check_point]\n",
        "                    )"
      ],
      "execution_count": null,
      "outputs": [
        {
          "output_type": "stream",
          "text": [
            "Epoch 1/45\n",
            " 28/191 [===>..........................] - ETA: 45s - loss: 1.7410 - accuracy: 0.3139"
          ],
          "name": "stdout"
        }
      ]
    },
    {
      "cell_type": "markdown",
      "metadata": {
        "id": "11IDXs5cdff_"
      },
      "source": [
        "## Resnet50 #4"
      ]
    },
    {
      "cell_type": "code",
      "metadata": {
        "id": "nEQUGH8ndfJK"
      },
      "source": [
        "input_t = tf.keras.Input(shape=(224,224,3))\n",
        "resnet_model = tf.keras.applications.resnet50.ResNet50(include_top=False,\n",
        "                                    weights=\"imagenet\",\n",
        "                                    input_tensor=input_t)"
      ],
      "execution_count": null,
      "outputs": []
    },
    {
      "cell_type": "code",
      "metadata": {
        "id": "ukRGYlzHdoVI"
      },
      "source": [
        "def build_model(base_model, num_classes):\n",
        "  for layer in base_model.layers:\n",
        "    layer.trainable = False\n",
        "\n",
        "  model = tf.keras.models.Sequential()\n",
        "  model.add(tf.keras.layers.Lambda(lambda image: tf.image.resize(image, (224,224))))\n",
        "  model.add(base_model)\n",
        "  model.add(tf.keras.layers.Flatten())\n",
        "\n",
        "  model.add(tf.keras.layers.Dense(1024, activation=tf.keras.layers.LeakyReLU(alpha=0.3)))\n",
        "  model.add(tf.keras.layers.Dense(1024, activation=tf.keras.layers.LeakyReLU(alpha=0.3)))\n",
        "\n",
        "  model.add(tf.keras.layers.Dense(num_classes, activation='softmax'))\n",
        "\n",
        "  return model\n",
        "\n",
        "class_list = os.listdir(train_data_dir)\n",
        "\n",
        "model = build_model(resnet_model, num_classes = len(class_list))"
      ],
      "execution_count": null,
      "outputs": []
    },
    {
      "cell_type": "code",
      "metadata": {
        "id": "Borh0PwNdpq7"
      },
      "source": [
        "check_point = tf.keras.callbacks.ModelCheckpoint(filepath='dermnet.h5',\n",
        "                                          monitor=\"val_accuracy\",\n",
        "                                          mode='max',\n",
        "                                          save_best_only=True,\n",
        "                                          )"
      ],
      "execution_count": null,
      "outputs": []
    },
    {
      "cell_type": "code",
      "metadata": {
        "id": "clkhUmIFdqaG"
      },
      "source": [
        "model.compile(loss='categorical_crossentropy', \n",
        "              optimizer=tf.keras.optimizers.SGD(learning_rate=0.001, momentum=0.6),\n",
        "              metrics=['accuracy'])"
      ],
      "execution_count": null,
      "outputs": []
    },
    {
      "cell_type": "code",
      "metadata": {
        "id": "R10pSogTdr9C",
        "colab": {
          "base_uri": "https://localhost:8080/"
        },
        "outputId": "e0a38f25-c659-4d0c-e5d0-8de71776f024"
      },
      "source": [
        "NUM_EPOCHS = 45\n",
        "history = model.fit(train_generator, \n",
        "                    epochs=NUM_EPOCHS, \n",
        "                    workers=16,\n",
        "                    verbose=1,\n",
        "                    validation_data = validation_generator,\n",
        "                    callbacks=[check_point]\n",
        "                    )"
      ],
      "execution_count": null,
      "outputs": [
        {
          "output_type": "stream",
          "text": [
            "Epoch 1/45\n",
            "191/191 [==============================] - 73s 348ms/step - loss: 1.4227 - accuracy: 0.6415 - val_loss: 1.2886 - val_accuracy: 0.6570\n"
          ],
          "name": "stdout"
        },
        {
          "output_type": "stream",
          "text": [
            "/usr/local/lib/python3.7/dist-packages/tensorflow/python/keras/utils/generic_utils.py:497: CustomMaskWarning: Custom mask layers require a config and must override get_config. When loading, the custom mask layer must be passed to the custom_objects argument.\n",
            "  category=CustomMaskWarning)\n"
          ],
          "name": "stderr"
        },
        {
          "output_type": "stream",
          "text": [
            "Epoch 2/45\n",
            "191/191 [==============================] - ETA: 0s - loss: 0.7304 - accuracy: 0.7449"
          ],
          "name": "stdout"
        }
      ]
    },
    {
      "cell_type": "code",
      "metadata": {
        "id": "gsbZm3zbdtYB"
      },
      "source": [
        "model.summary()"
      ],
      "execution_count": null,
      "outputs": []
    },
    {
      "cell_type": "markdown",
      "metadata": {
        "id": "rw2l_lxKjQl0"
      },
      "source": [
        "## Resnet50 #5"
      ]
    },
    {
      "cell_type": "code",
      "metadata": {
        "id": "ajvuBqpPjSWI"
      },
      "source": [
        "input_t = tf.keras.Input(shape=(224,224,3))\n",
        "resnet_model = tf.keras.applications.resnet50.ResNet50(include_top=False,\n",
        "                                    weights=\"imagenet\",\n",
        "                                    input_tensor=input_t)"
      ],
      "execution_count": null,
      "outputs": []
    },
    {
      "cell_type": "code",
      "metadata": {
        "id": "q3AJWyN1jU69"
      },
      "source": [
        "def build_model(base_model, num_classes):\n",
        "  for layer in base_model.layers:\n",
        "    layer.trainable = False\n",
        "\n",
        "  model = tf.keras.models.Sequential()\n",
        "  model.add(tf.keras.layers.Lambda(lambda image: tf.image.resize(image, (224,224))))\n",
        "  model.add(base_model)\n",
        "  model.add(tf.keras.layers.Flatten())\n",
        "\n",
        "  model.add(tf.keras.layers.Dense(1024))\n",
        "  model.add(tf.keras.layers.LeakyReLU(alpha=.02))\n",
        "  model.add(tf.keras.layers.Dropout(.2))\n",
        "  model.add(tf.keras.layers.Dense(1024))\n",
        "  model.add(tf.keras.layers.LeakyReLU(alpha=.02))\n",
        "  model.add(tf.keras.layers.Dropout(.3))\n",
        "\n",
        "  model.add(tf.keras.layers.Dense(num_classes, activation='softmax'))\n",
        "\n",
        "  return model\n",
        "\n",
        "class_list = os.listdir(train_data_dir)\n",
        "FC_LAYERS = [1024, 1024]\n",
        "\n",
        "model = build_model(resnet_model, num_classes = len(class_list))"
      ],
      "execution_count": null,
      "outputs": []
    },
    {
      "cell_type": "code",
      "metadata": {
        "id": "CslwuJCTjW0j"
      },
      "source": [
        "check_point = tf.keras.callbacks.ModelCheckpoint(\"dermnet.h5\", \n",
        "                                                 monitor='val_accuracy', \n",
        "                                                 verbose=1, \n",
        "                                                 save_best_only=True, \n",
        "                                                 save_weights_only=False, \n",
        "                                                 mode='max')"
      ],
      "execution_count": null,
      "outputs": []
    },
    {
      "cell_type": "code",
      "metadata": {
        "id": "jI4-eUJjjY4F"
      },
      "source": [
        "model.compile(loss='categorical_crossentropy', \n",
        "              optimizer=tf.keras.optimizers.Adam(learning_rate=0.0001),\n",
        "              metrics=['accuracy'])"
      ],
      "execution_count": null,
      "outputs": []
    },
    {
      "cell_type": "code",
      "metadata": {
        "colab": {
          "base_uri": "https://localhost:8080/"
        },
        "id": "x5sgolqtjbB1",
        "outputId": "f4ee772b-918f-4cc6-bfb0-c17f7c543a74"
      },
      "source": [
        "NUM_EPOCHS = 45\n",
        "history = model.fit(train_generator, \n",
        "                    epochs=NUM_EPOCHS, \n",
        "                    workers=16,\n",
        "                    verbose=1,\n",
        "                    validation_data = validation_generator,\n",
        "                    callbacks=[check_point]\n",
        "                    )"
      ],
      "execution_count": null,
      "outputs": [
        {
          "output_type": "stream",
          "text": [
            "Epoch 1/45\n",
            "191/191 [==============================] - 64s 304ms/step - loss: 2.5255 - accuracy: 0.5491 - val_loss: 1.3019 - val_accuracy: 0.6303\n",
            "\n",
            "Epoch 00001: val_accuracy improved from -inf to 0.63034, saving model to dermnet.h5\n"
          ],
          "name": "stdout"
        },
        {
          "output_type": "stream",
          "text": [
            "/usr/local/lib/python3.7/dist-packages/tensorflow/python/keras/utils/generic_utils.py:497: CustomMaskWarning: Custom mask layers require a config and must override get_config. When loading, the custom mask layer must be passed to the custom_objects argument.\n",
            "  category=CustomMaskWarning)\n"
          ],
          "name": "stderr"
        },
        {
          "output_type": "stream",
          "text": [
            "Epoch 2/45\n",
            "191/191 [==============================] - 62s 314ms/step - loss: 1.0323 - accuracy: 0.6568 - val_loss: 1.1825 - val_accuracy: 0.6273\n",
            "\n",
            "Epoch 00002: val_accuracy did not improve from 0.63034\n",
            "Epoch 3/45\n",
            "191/191 [==============================] - 61s 311ms/step - loss: 0.9289 - accuracy: 0.6847 - val_loss: 1.0411 - val_accuracy: 0.6669\n",
            "\n",
            "Epoch 00003: val_accuracy improved from 0.63034 to 0.66692, saving model to dermnet.h5\n",
            "Epoch 4/45\n",
            "191/191 [==============================] - 61s 306ms/step - loss: 0.8033 - accuracy: 0.7138 - val_loss: 1.0837 - val_accuracy: 0.6806\n",
            "\n",
            "Epoch 00004: val_accuracy improved from 0.66692 to 0.68064, saving model to dermnet.h5\n",
            "Epoch 5/45\n",
            "191/191 [==============================] - 61s 308ms/step - loss: 0.7746 - accuracy: 0.7253 - val_loss: 0.9984 - val_accuracy: 0.6867\n",
            "\n",
            "Epoch 00005: val_accuracy improved from 0.68064 to 0.68674, saving model to dermnet.h5\n",
            "Epoch 6/45\n",
            "191/191 [==============================] - 60s 305ms/step - loss: 0.7493 - accuracy: 0.7315 - val_loss: 1.0894 - val_accuracy: 0.6707\n",
            "\n",
            "Epoch 00006: val_accuracy did not improve from 0.68674\n",
            "Epoch 7/45\n",
            "159/191 [=======================>......] - ETA: 6s - loss: 0.7149 - accuracy: 0.7427"
          ],
          "name": "stdout"
        }
      ]
    },
    {
      "cell_type": "code",
      "metadata": {
        "id": "2-liB1g8jdie"
      },
      "source": [
        "model.summary()"
      ],
      "execution_count": null,
      "outputs": []
    },
    {
      "cell_type": "markdown",
      "metadata": {
        "id": "T88inPukrPNl"
      },
      "source": [
        "## Resnet50 #6"
      ]
    },
    {
      "cell_type": "code",
      "metadata": {
        "colab": {
          "base_uri": "https://localhost:8080/"
        },
        "id": "a799kkEZrRly",
        "outputId": "b3abc33e-c72e-4fef-ac36-6d99bab51178"
      },
      "source": [
        "input_t = tf.keras.Input(shape=(224,224,3))\n",
        "resnet_model = tf.keras.applications.resnet50.ResNet50(include_top=False,\n",
        "                                    weights=\"imagenet\",\n",
        "                                    input_tensor=input_t)"
      ],
      "execution_count": null,
      "outputs": [
        {
          "output_type": "stream",
          "text": [
            "Downloading data from https://storage.googleapis.com/tensorflow/keras-applications/resnet/resnet50_weights_tf_dim_ordering_tf_kernels_notop.h5\n",
            "94773248/94765736 [==============================] - 1s 0us/step\n"
          ],
          "name": "stdout"
        }
      ]
    },
    {
      "cell_type": "code",
      "metadata": {
        "id": "fMoBk43-rZSg"
      },
      "source": [
        "def build_model(base_model, num_classes):\n",
        "  for layer in base_model.layers:\n",
        "    layer.trainable = False\n",
        "\n",
        "  model = tf.keras.models.Sequential()\n",
        "  model.add(tf.keras.layers.Lambda(lambda image: tf.image.resize(image, (224,224))))\n",
        "  model.add(base_model)\n",
        "  model.add(tf.keras.layers.Flatten())\n",
        "\n",
        "  model.add(tf.keras.layers.Dense(1024,activation=('relu')))\n",
        "  model.add(tf.keras.layers.Dense(512,activation=('relu')))\n",
        "  model.add(tf.keras.layers.Dropout(0.4))\n",
        "  model.add(tf.keras.layers.Dense(256,activation=('relu'))) \n",
        "  model.add(tf.keras.layers.Dropout(0.3))\n",
        "  model.add(tf.keras.layers.Dense(128,activation=('relu')))\n",
        "  model.add(tf.keras.layers.Dropout(0.2))\n",
        "\n",
        "  model.add(tf.keras.layers.Dense(num_classes, activation='softmax'))\n",
        "\n",
        "  return model\n",
        "\n",
        "class_list = os.listdir(train_data_dir)\n",
        "model = build_model(resnet_model, num_classes = len(class_list))"
      ],
      "execution_count": null,
      "outputs": []
    },
    {
      "cell_type": "code",
      "metadata": {
        "id": "N-RnvkRxra4t"
      },
      "source": [
        "check_point = tf.keras.callbacks.ModelCheckpoint(\"dermnet.h5\", \n",
        "                                                 monitor='val_accuracy', \n",
        "                                                 verbose=1, \n",
        "                                                 save_best_only=True, \n",
        "                                                 save_weights_only=False, \n",
        "                                                 mode='max')"
      ],
      "execution_count": null,
      "outputs": []
    },
    {
      "cell_type": "code",
      "metadata": {
        "id": "2wY99__brcci"
      },
      "source": [
        "model.compile(loss='categorical_crossentropy', \n",
        "              optimizer=tf.keras.optimizers.Adam(learning_rate=0.0001),\n",
        "              metrics=['accuracy'])"
      ],
      "execution_count": null,
      "outputs": []
    },
    {
      "cell_type": "code",
      "metadata": {
        "colab": {
          "base_uri": "https://localhost:8080/"
        },
        "id": "ROkEoz_mreTs",
        "outputId": "a99bd31e-532f-45bb-ecc4-2f51d2936180"
      },
      "source": [
        "NUM_EPOCHS = 45\n",
        "history = model.fit(train_generator, \n",
        "                    epochs=NUM_EPOCHS, \n",
        "                    workers=16,\n",
        "                    verbose=1,\n",
        "                    validation_data = validation_generator,\n",
        "                    callbacks=[check_point]\n",
        "                    )"
      ],
      "execution_count": null,
      "outputs": [
        {
          "output_type": "stream",
          "text": [
            "Epoch 1/45\n",
            "191/191 [==============================] - 73s 353ms/step - loss: 2.2561 - accuracy: 0.4358 - val_loss: 1.0998 - val_accuracy: 0.6082\n",
            "\n",
            "Epoch 00001: val_accuracy improved from -inf to 0.60823, saving model to dermnet.h5\n"
          ],
          "name": "stdout"
        },
        {
          "output_type": "stream",
          "text": [
            "/usr/local/lib/python3.7/dist-packages/tensorflow/python/keras/utils/generic_utils.py:497: CustomMaskWarning: Custom mask layers require a config and must override get_config. When loading, the custom mask layer must be passed to the custom_objects argument.\n",
            "  category=CustomMaskWarning)\n"
          ],
          "name": "stderr"
        },
        {
          "output_type": "stream",
          "text": [
            "Epoch 2/45\n",
            "191/191 [==============================] - 67s 340ms/step - loss: 1.3295 - accuracy: 0.5491 - val_loss: 1.0594 - val_accuracy: 0.6212\n",
            "\n",
            "Epoch 00002: val_accuracy improved from 0.60823 to 0.62119, saving model to dermnet.h5\n",
            "Epoch 3/45\n",
            "191/191 [==============================] - 68s 341ms/step - loss: 1.0913 - accuracy: 0.6081 - val_loss: 0.9639 - val_accuracy: 0.6639\n",
            "\n",
            "Epoch 00003: val_accuracy improved from 0.62119 to 0.66387, saving model to dermnet.h5\n",
            "Epoch 4/45\n",
            "191/191 [==============================] - 68s 343ms/step - loss: 0.9742 - accuracy: 0.6431 - val_loss: 1.0453 - val_accuracy: 0.6463\n",
            "\n",
            "Epoch 00004: val_accuracy did not improve from 0.66387\n",
            "Epoch 5/45\n",
            "191/191 [==============================] - 67s 341ms/step - loss: 0.9104 - accuracy: 0.6807 - val_loss: 0.9792 - val_accuracy: 0.6532\n",
            "\n",
            "Epoch 00005: val_accuracy did not improve from 0.66387\n",
            "Epoch 6/45\n",
            "191/191 [==============================] - 68s 343ms/step - loss: 0.8267 - accuracy: 0.7030 - val_loss: 0.9419 - val_accuracy: 0.6715\n",
            "\n",
            "Epoch 00006: val_accuracy improved from 0.66387 to 0.67149, saving model to dermnet.h5\n",
            "Epoch 7/45\n",
            "191/191 [==============================] - 67s 341ms/step - loss: 0.7557 - accuracy: 0.7312 - val_loss: 0.9566 - val_accuracy: 0.6822\n",
            "\n",
            "Epoch 00007: val_accuracy improved from 0.67149 to 0.68216, saving model to dermnet.h5\n",
            "Epoch 8/45\n",
            "191/191 [==============================] - 68s 342ms/step - loss: 0.7726 - accuracy: 0.7233 - val_loss: 0.9631 - val_accuracy: 0.6669\n",
            "\n",
            "Epoch 00008: val_accuracy did not improve from 0.68216\n",
            "Epoch 9/45\n",
            "191/191 [==============================] - 69s 350ms/step - loss: 0.6933 - accuracy: 0.7528 - val_loss: 1.0057 - val_accuracy: 0.6890\n",
            "\n",
            "Epoch 00009: val_accuracy improved from 0.68216 to 0.68902, saving model to dermnet.h5\n",
            "Epoch 10/45\n",
            "191/191 [==============================] - 68s 346ms/step - loss: 0.7035 - accuracy: 0.7475 - val_loss: 0.9862 - val_accuracy: 0.6852\n",
            "\n",
            "Epoch 00010: val_accuracy did not improve from 0.68902\n",
            "Epoch 11/45\n",
            "191/191 [==============================] - 70s 344ms/step - loss: 0.6356 - accuracy: 0.7764 - val_loss: 1.0006 - val_accuracy: 0.6837\n",
            "\n",
            "Epoch 00011: val_accuracy did not improve from 0.68902\n",
            "Epoch 12/45\n",
            "191/191 [==============================] - 68s 343ms/step - loss: 0.5878 - accuracy: 0.7940 - val_loss: 0.9486 - val_accuracy: 0.6905\n",
            "\n",
            "Epoch 00012: val_accuracy improved from 0.68902 to 0.69055, saving model to dermnet.h5\n",
            "Epoch 13/45\n",
            "191/191 [==============================] - 68s 344ms/step - loss: 0.5814 - accuracy: 0.7983 - val_loss: 0.9028 - val_accuracy: 0.7050\n",
            "\n",
            "Epoch 00013: val_accuracy improved from 0.69055 to 0.70503, saving model to dermnet.h5\n",
            "Epoch 14/45\n",
            "191/191 [==============================] - 68s 345ms/step - loss: 0.5554 - accuracy: 0.8084 - val_loss: 0.9588 - val_accuracy: 0.6974\n",
            "\n",
            "Epoch 00014: val_accuracy did not improve from 0.70503\n",
            "Epoch 15/45\n",
            "191/191 [==============================] - 67s 339ms/step - loss: 0.5197 - accuracy: 0.8212 - val_loss: 0.9921 - val_accuracy: 0.7111\n",
            "\n",
            "Epoch 00015: val_accuracy improved from 0.70503 to 0.71113, saving model to dermnet.h5\n",
            "Epoch 16/45\n",
            "191/191 [==============================] - 68s 342ms/step - loss: 0.5397 - accuracy: 0.8281 - val_loss: 0.9909 - val_accuracy: 0.6944\n",
            "\n",
            "Epoch 00016: val_accuracy did not improve from 0.71113\n",
            "Epoch 17/45\n",
            "191/191 [==============================] - 67s 341ms/step - loss: 0.5146 - accuracy: 0.8274 - val_loss: 0.9465 - val_accuracy: 0.7149\n",
            "\n",
            "Epoch 00017: val_accuracy improved from 0.71113 to 0.71494, saving model to dermnet.h5\n",
            "Epoch 18/45\n",
            "191/191 [==============================] - 68s 345ms/step - loss: 0.4892 - accuracy: 0.8255 - val_loss: 0.9785 - val_accuracy: 0.7043\n",
            "\n",
            "Epoch 00018: val_accuracy did not improve from 0.71494\n",
            "Epoch 19/45\n",
            "191/191 [==============================] - 69s 350ms/step - loss: 0.4668 - accuracy: 0.8337 - val_loss: 0.9469 - val_accuracy: 0.7081\n",
            "\n",
            "Epoch 00019: val_accuracy did not improve from 0.71494\n",
            "Epoch 20/45\n",
            "191/191 [==============================] - 68s 344ms/step - loss: 0.4419 - accuracy: 0.8445 - val_loss: 0.9723 - val_accuracy: 0.7195\n",
            "\n",
            "Epoch 00020: val_accuracy improved from 0.71494 to 0.71951, saving model to dermnet.h5\n",
            "Epoch 21/45\n",
            "191/191 [==============================] - 68s 344ms/step - loss: 0.4285 - accuracy: 0.8527 - val_loss: 0.9446 - val_accuracy: 0.7088\n",
            "\n",
            "Epoch 00021: val_accuracy did not improve from 0.71951\n",
            "Epoch 22/45\n",
            "191/191 [==============================] - 71s 346ms/step - loss: 0.4288 - accuracy: 0.8566 - val_loss: 1.0158 - val_accuracy: 0.7058\n",
            "\n",
            "Epoch 00022: val_accuracy did not improve from 0.71951\n",
            "Epoch 23/45\n",
            "191/191 [==============================] - 69s 348ms/step - loss: 0.4286 - accuracy: 0.8556 - val_loss: 1.0717 - val_accuracy: 0.7104\n",
            "\n",
            "Epoch 00023: val_accuracy did not improve from 0.71951\n",
            "Epoch 24/45\n",
            "191/191 [==============================] - 71s 348ms/step - loss: 0.3954 - accuracy: 0.8582 - val_loss: 1.0136 - val_accuracy: 0.7203\n",
            "\n",
            "Epoch 00024: val_accuracy improved from 0.71951 to 0.72027, saving model to dermnet.h5\n",
            "Epoch 25/45\n",
            "191/191 [==============================] - 68s 344ms/step - loss: 0.3862 - accuracy: 0.8631 - val_loss: 1.0185 - val_accuracy: 0.7317\n",
            "\n",
            "Epoch 00025: val_accuracy improved from 0.72027 to 0.73171, saving model to dermnet.h5\n",
            "Epoch 26/45\n",
            "191/191 [==============================] - 68s 346ms/step - loss: 0.3996 - accuracy: 0.8631 - val_loss: 1.1137 - val_accuracy: 0.7043\n",
            "\n",
            "Epoch 00026: val_accuracy did not improve from 0.73171\n",
            "Epoch 27/45\n",
            "191/191 [==============================] - 70s 347ms/step - loss: 0.3634 - accuracy: 0.8746 - val_loss: 0.9632 - val_accuracy: 0.7340\n",
            "\n",
            "Epoch 00027: val_accuracy improved from 0.73171 to 0.73399, saving model to dermnet.h5\n",
            "Epoch 28/45\n",
            "191/191 [==============================] - 69s 347ms/step - loss: 0.3585 - accuracy: 0.8756 - val_loss: 1.0337 - val_accuracy: 0.7233\n",
            "\n",
            "Epoch 00028: val_accuracy did not improve from 0.73399\n",
            "Epoch 29/45\n",
            "191/191 [==============================] - 68s 347ms/step - loss: 0.3607 - accuracy: 0.8818 - val_loss: 1.0057 - val_accuracy: 0.7348\n",
            "\n",
            "Epoch 00029: val_accuracy improved from 0.73399 to 0.73476, saving model to dermnet.h5\n",
            "Epoch 30/45\n",
            "191/191 [==============================] - 68s 344ms/step - loss: 0.3238 - accuracy: 0.8913 - val_loss: 1.1810 - val_accuracy: 0.7096\n",
            "\n",
            "Epoch 00030: val_accuracy did not improve from 0.73476\n",
            "Epoch 31/45\n",
            "191/191 [==============================] - 68s 344ms/step - loss: 0.3236 - accuracy: 0.8831 - val_loss: 0.9952 - val_accuracy: 0.7492\n",
            "\n",
            "Epoch 00031: val_accuracy improved from 0.73476 to 0.74924, saving model to dermnet.h5\n",
            "Epoch 32/45\n",
            "191/191 [==============================] - 69s 349ms/step - loss: 0.3149 - accuracy: 0.8939 - val_loss: 1.1538 - val_accuracy: 0.7226\n",
            "\n",
            "Epoch 00032: val_accuracy did not improve from 0.74924\n",
            "Epoch 33/45\n",
            "191/191 [==============================] - 71s 348ms/step - loss: 0.2936 - accuracy: 0.8933 - val_loss: 1.0988 - val_accuracy: 0.7309\n",
            "\n",
            "Epoch 00033: val_accuracy did not improve from 0.74924\n",
            "Epoch 34/45\n",
            "191/191 [==============================] - 69s 348ms/step - loss: 0.3099 - accuracy: 0.8919 - val_loss: 1.0801 - val_accuracy: 0.7363\n",
            "\n",
            "Epoch 00034: val_accuracy did not improve from 0.74924\n",
            "Epoch 35/45\n",
            "191/191 [==============================] - 71s 346ms/step - loss: 0.2906 - accuracy: 0.9001 - val_loss: 1.0201 - val_accuracy: 0.7393\n",
            "\n",
            "Epoch 00035: val_accuracy did not improve from 0.74924\n",
            "Epoch 36/45\n",
            "191/191 [==============================] - 68s 344ms/step - loss: 0.2958 - accuracy: 0.8969 - val_loss: 1.2187 - val_accuracy: 0.7241\n",
            "\n",
            "Epoch 00036: val_accuracy did not improve from 0.74924\n",
            "Epoch 37/45\n",
            "191/191 [==============================] - 71s 350ms/step - loss: 0.2736 - accuracy: 0.9083 - val_loss: 1.1543 - val_accuracy: 0.7172\n",
            "\n",
            "Epoch 00037: val_accuracy did not improve from 0.74924\n",
            "Epoch 38/45\n",
            "191/191 [==============================] - 69s 352ms/step - loss: 0.2676 - accuracy: 0.9093 - val_loss: 1.2256 - val_accuracy: 0.7149\n",
            "\n",
            "Epoch 00038: val_accuracy did not improve from 0.74924\n",
            "Epoch 39/45\n",
            "191/191 [==============================] - 71s 347ms/step - loss: 0.3009 - accuracy: 0.9011 - val_loss: 1.1513 - val_accuracy: 0.7241\n",
            "\n",
            "Epoch 00039: val_accuracy did not improve from 0.74924\n",
            "Epoch 40/45\n",
            "191/191 [==============================] - 70s 354ms/step - loss: 0.2612 - accuracy: 0.9093 - val_loss: 1.0709 - val_accuracy: 0.7309\n",
            "\n",
            "Epoch 00040: val_accuracy did not improve from 0.74924\n",
            "Epoch 41/45\n",
            "191/191 [==============================] - 69s 348ms/step - loss: 0.2533 - accuracy: 0.9152 - val_loss: 1.1952 - val_accuracy: 0.7470\n",
            "\n",
            "Epoch 00041: val_accuracy did not improve from 0.74924\n",
            "Epoch 42/45\n",
            "191/191 [==============================] - 68s 344ms/step - loss: 0.2452 - accuracy: 0.9168 - val_loss: 1.3012 - val_accuracy: 0.7172\n",
            "\n",
            "Epoch 00042: val_accuracy did not improve from 0.74924\n",
            "Epoch 43/45\n",
            "191/191 [==============================] - 69s 347ms/step - loss: 0.2445 - accuracy: 0.9211 - val_loss: 1.2594 - val_accuracy: 0.7462\n",
            "\n",
            "Epoch 00043: val_accuracy did not improve from 0.74924\n",
            "Epoch 44/45\n",
            "191/191 [==============================] - 69s 347ms/step - loss: 0.2284 - accuracy: 0.9221 - val_loss: 1.2112 - val_accuracy: 0.7264\n",
            "\n",
            "Epoch 00044: val_accuracy did not improve from 0.74924\n",
            "Epoch 45/45\n",
            "191/191 [==============================] - 72s 351ms/step - loss: 0.2104 - accuracy: 0.9309 - val_loss: 1.2656 - val_accuracy: 0.7325\n",
            "\n",
            "Epoch 00045: val_accuracy did not improve from 0.74924\n"
          ],
          "name": "stdout"
        }
      ]
    },
    {
      "cell_type": "code",
      "metadata": {
        "colab": {
          "base_uri": "https://localhost:8080/"
        },
        "id": "nB80tLA0rgQV",
        "outputId": "d3b6e7c0-704c-407b-c8e0-9310d32e48de"
      },
      "source": [
        "model.summary()"
      ],
      "execution_count": null,
      "outputs": [
        {
          "output_type": "stream",
          "text": [
            "Model: \"sequential\"\n",
            "_________________________________________________________________\n",
            "Layer (type)                 Output Shape              Param #   \n",
            "=================================================================\n",
            "lambda (Lambda)              (None, 224, 224, None)    0         \n",
            "_________________________________________________________________\n",
            "resnet50 (Functional)        (None, 7, 7, 2048)        23587712  \n",
            "_________________________________________________________________\n",
            "flatten (Flatten)            (None, 100352)            0         \n",
            "_________________________________________________________________\n",
            "dense (Dense)                (None, 1024)              102761472 \n",
            "_________________________________________________________________\n",
            "dense_1 (Dense)              (None, 512)               524800    \n",
            "_________________________________________________________________\n",
            "dropout (Dropout)            (None, 512)               0         \n",
            "_________________________________________________________________\n",
            "dense_2 (Dense)              (None, 256)               131328    \n",
            "_________________________________________________________________\n",
            "dropout_1 (Dropout)          (None, 256)               0         \n",
            "_________________________________________________________________\n",
            "dense_3 (Dense)              (None, 128)               32896     \n",
            "_________________________________________________________________\n",
            "dropout_2 (Dropout)          (None, 128)               0         \n",
            "_________________________________________________________________\n",
            "dense_4 (Dense)              (None, 5)                 645       \n",
            "=================================================================\n",
            "Total params: 127,038,853\n",
            "Trainable params: 103,451,141\n",
            "Non-trainable params: 23,587,712\n",
            "_________________________________________________________________\n"
          ],
          "name": "stdout"
        }
      ]
    },
    {
      "cell_type": "markdown",
      "metadata": {
        "id": "eSitMLnLMKjD"
      },
      "source": [
        "## EfficientNetB7 #1"
      ]
    },
    {
      "cell_type": "code",
      "metadata": {
        "colab": {
          "base_uri": "https://localhost:8080/"
        },
        "id": "5OkPF2TYMNNm",
        "outputId": "efac4093-b5b6-4ff4-9040-e4639ee24674"
      },
      "source": [
        "input_t = tf.keras.Input(shape=(224,224,3))\n",
        "inception_resnetv2_model = tf.keras.applications.EfficientNetB7(include_top=False,\n",
        "                                    weights=\"imagenet\",\n",
        "                                    input_tensor=input_t)"
      ],
      "execution_count": null,
      "outputs": [
        {
          "output_type": "stream",
          "text": [
            "Downloading data from https://storage.googleapis.com/keras-applications/efficientnetb7_notop.h5\n",
            "258080768/258076736 [==============================] - 2s 0us/step\n"
          ],
          "name": "stdout"
        }
      ]
    },
    {
      "cell_type": "code",
      "metadata": {
        "id": "9XJ1HGg3MxAT"
      },
      "source": [
        "def build_model(base_model, num_classes):\n",
        "  for layer in base_model.layers:\n",
        "    layer.trainable = False\n",
        "\n",
        "  model = tf.keras.models.Sequential()\n",
        "  model.add(tf.keras.layers.Lambda(lambda image: tf.image.resize(image, (224,224))))\n",
        "  model.add(base_model)\n",
        "  model.add(tf.keras.layers.Flatten())\n",
        "\n",
        "  model.add(tf.keras.layers.Dense(1024,activation=('relu')))\n",
        "  model.add(tf.keras.layers.Dense(512,activation=('relu')))\n",
        "  model.add(tf.keras.layers.Dropout(0.4))\n",
        "  model.add(tf.keras.layers.Dense(256,activation=('relu'))) \n",
        "  model.add(tf.keras.layers.Dropout(0.3))\n",
        "  model.add(tf.keras.layers.Dense(128,activation=('relu')))\n",
        "  model.add(tf.keras.layers.Dropout(0.2))\n",
        "\n",
        "  model.add(tf.keras.layers.Dense(num_classes, activation='softmax'))\n",
        "\n",
        "  return model\n",
        "\n",
        "class_list = os.listdir(train_data_dir)\n",
        "model = build_model(inception_resnetv2_model, num_classes = len(class_list))"
      ],
      "execution_count": null,
      "outputs": []
    },
    {
      "cell_type": "code",
      "metadata": {
        "id": "5AuPBbtGMyiS"
      },
      "source": [
        "check_point = tf.keras.callbacks.ModelCheckpoint(\"dermnet.h5\", \n",
        "                                                 monitor='val_accuracy', \n",
        "                                                 verbose=1, \n",
        "                                                 save_best_only=True, \n",
        "                                                 save_weights_only=False, \n",
        "                                                 mode='max')"
      ],
      "execution_count": null,
      "outputs": []
    },
    {
      "cell_type": "code",
      "metadata": {
        "id": "qqOoE3IAMz9F"
      },
      "source": [
        "model.compile(loss='categorical_crossentropy', \n",
        "              optimizer=tf.keras.optimizers.Adam(learning_rate=0.0001),\n",
        "              metrics=['accuracy'])"
      ],
      "execution_count": null,
      "outputs": []
    },
    {
      "cell_type": "code",
      "metadata": {
        "colab": {
          "base_uri": "https://localhost:8080/"
        },
        "id": "YGGIArRvM1fD",
        "outputId": "9e875543-1d4a-4e5c-cff9-96bbb6a4d185"
      },
      "source": [
        "NUM_EPOCHS = 45\n",
        "history = model.fit(train_generator, \n",
        "                    epochs=NUM_EPOCHS, \n",
        "                    workers=16,\n",
        "                    verbose=1,\n",
        "                    validation_data = validation_generator,\n",
        "                    callbacks=[check_point]\n",
        "                    )"
      ],
      "execution_count": null,
      "outputs": [
        {
          "output_type": "stream",
          "text": [
            "Epoch 1/45\n",
            "191/191 [==============================] - 97s 396ms/step - loss: 1.6988 - accuracy: 0.4168 - val_loss: 1.2546 - val_accuracy: 0.5252\n",
            "\n",
            "Epoch 00001: val_accuracy improved from -inf to 0.52515, saving model to dermnet.h5\n"
          ],
          "name": "stdout"
        },
        {
          "output_type": "stream",
          "text": [
            "/usr/local/lib/python3.7/dist-packages/tensorflow/python/keras/utils/generic_utils.py:497: CustomMaskWarning: Custom mask layers require a config and must override get_config. When loading, the custom mask layer must be passed to the custom_objects argument.\n",
            "  category=CustomMaskWarning)\n"
          ],
          "name": "stderr"
        },
        {
          "output_type": "stream",
          "text": [
            "Epoch 2/45\n",
            "191/191 [==============================] - 73s 372ms/step - loss: 1.2487 - accuracy: 0.5337 - val_loss: 1.0892 - val_accuracy: 0.5869\n",
            "\n",
            "Epoch 00002: val_accuracy improved from 0.52515 to 0.58689, saving model to dermnet.h5\n",
            "Epoch 3/45\n",
            "191/191 [==============================] - 73s 372ms/step - loss: 1.1146 - accuracy: 0.5697 - val_loss: 1.1376 - val_accuracy: 0.5762\n",
            "\n",
            "Epoch 00003: val_accuracy did not improve from 0.58689\n",
            "Epoch 4/45\n",
            "191/191 [==============================] - 74s 367ms/step - loss: 1.0375 - accuracy: 0.6136 - val_loss: 1.0571 - val_accuracy: 0.6220\n",
            "\n",
            "Epoch 00004: val_accuracy improved from 0.58689 to 0.62195, saving model to dermnet.h5\n",
            "Epoch 5/45\n",
            "191/191 [==============================] - 73s 370ms/step - loss: 1.0214 - accuracy: 0.6094 - val_loss: 0.9941 - val_accuracy: 0.6349\n",
            "\n",
            "Epoch 00005: val_accuracy improved from 0.62195 to 0.63491, saving model to dermnet.h5\n",
            "Epoch 6/45\n",
            "191/191 [==============================] - 73s 371ms/step - loss: 0.9420 - accuracy: 0.6441 - val_loss: 1.0165 - val_accuracy: 0.6220\n",
            "\n",
            "Epoch 00006: val_accuracy did not improve from 0.63491\n",
            "Epoch 7/45\n",
            "191/191 [==============================] - 73s 374ms/step - loss: 0.9140 - accuracy: 0.6385 - val_loss: 0.9661 - val_accuracy: 0.6555\n",
            "\n",
            "Epoch 00007: val_accuracy improved from 0.63491 to 0.65549, saving model to dermnet.h5\n",
            "Epoch 8/45\n",
            "191/191 [==============================] - 72s 367ms/step - loss: 0.8523 - accuracy: 0.6807 - val_loss: 1.0190 - val_accuracy: 0.6494\n",
            "\n",
            "Epoch 00008: val_accuracy did not improve from 0.65549\n",
            "Epoch 9/45\n",
            "191/191 [==============================] - 72s 367ms/step - loss: 0.8640 - accuracy: 0.6745 - val_loss: 1.0132 - val_accuracy: 0.6357\n",
            "\n",
            "Epoch 00009: val_accuracy did not improve from 0.65549\n",
            "Epoch 10/45\n",
            "191/191 [==============================] - 75s 372ms/step - loss: 0.8228 - accuracy: 0.6916 - val_loss: 1.0387 - val_accuracy: 0.6463\n",
            "\n",
            "Epoch 00010: val_accuracy did not improve from 0.65549\n",
            "Epoch 11/45\n",
            "191/191 [==============================] - 75s 370ms/step - loss: 0.8041 - accuracy: 0.6974 - val_loss: 1.0009 - val_accuracy: 0.6456\n",
            "\n",
            "Epoch 00011: val_accuracy did not improve from 0.65549\n",
            "Epoch 12/45\n",
            "191/191 [==============================] - 75s 373ms/step - loss: 0.7963 - accuracy: 0.7027 - val_loss: 0.9820 - val_accuracy: 0.6654\n",
            "\n",
            "Epoch 00012: val_accuracy improved from 0.65549 to 0.66540, saving model to dermnet.h5\n",
            "Epoch 13/45\n",
            "191/191 [==============================] - 74s 378ms/step - loss: 0.7826 - accuracy: 0.7092 - val_loss: 0.9443 - val_accuracy: 0.6555\n",
            "\n",
            "Epoch 00013: val_accuracy did not improve from 0.66540\n",
            "Epoch 14/45\n",
            "191/191 [==============================] - 74s 378ms/step - loss: 0.7158 - accuracy: 0.7233 - val_loss: 1.0446 - val_accuracy: 0.6456\n",
            "\n",
            "Epoch 00014: val_accuracy did not improve from 0.66540\n",
            "Epoch 15/45\n",
            "191/191 [==============================] - 77s 380ms/step - loss: 0.7356 - accuracy: 0.7331 - val_loss: 0.9629 - val_accuracy: 0.6761\n",
            "\n",
            "Epoch 00015: val_accuracy improved from 0.66540 to 0.67607, saving model to dermnet.h5\n",
            "Epoch 16/45\n",
            "191/191 [==============================] - 74s 378ms/step - loss: 0.7188 - accuracy: 0.7322 - val_loss: 0.9597 - val_accuracy: 0.6654\n",
            "\n",
            "Epoch 00016: val_accuracy did not improve from 0.67607\n",
            "Epoch 17/45\n",
            "191/191 [==============================] - 74s 378ms/step - loss: 0.6649 - accuracy: 0.7475 - val_loss: 0.9891 - val_accuracy: 0.6684\n",
            "\n",
            "Epoch 00017: val_accuracy did not improve from 0.67607\n",
            "Epoch 18/45\n",
            "191/191 [==============================] - 76s 374ms/step - loss: 0.6834 - accuracy: 0.7492 - val_loss: 0.9848 - val_accuracy: 0.6799\n",
            "\n",
            "Epoch 00018: val_accuracy improved from 0.67607 to 0.67988, saving model to dermnet.h5\n",
            "Epoch 19/45\n",
            "191/191 [==============================] - 74s 375ms/step - loss: 0.6597 - accuracy: 0.7646 - val_loss: 0.9782 - val_accuracy: 0.6730\n",
            "\n",
            "Epoch 00019: val_accuracy did not improve from 0.67988\n",
            "Epoch 20/45\n",
            "191/191 [==============================] - 74s 375ms/step - loss: 0.6443 - accuracy: 0.7616 - val_loss: 0.9700 - val_accuracy: 0.6677\n",
            "\n",
            "Epoch 00020: val_accuracy did not improve from 0.67988\n",
            "Epoch 21/45\n",
            "191/191 [==============================] - 74s 378ms/step - loss: 0.6478 - accuracy: 0.7577 - val_loss: 0.9937 - val_accuracy: 0.6791\n",
            "\n",
            "Epoch 00021: val_accuracy did not improve from 0.67988\n",
            "Epoch 22/45\n",
            "191/191 [==============================] - 75s 373ms/step - loss: 0.6503 - accuracy: 0.7639 - val_loss: 1.0201 - val_accuracy: 0.6860\n",
            "\n",
            "Epoch 00022: val_accuracy improved from 0.67988 to 0.68598, saving model to dermnet.h5\n",
            "Epoch 23/45\n",
            "191/191 [==============================] - 74s 374ms/step - loss: 0.6262 - accuracy: 0.7747 - val_loss: 1.0198 - val_accuracy: 0.6684\n",
            "\n",
            "Epoch 00023: val_accuracy did not improve from 0.68598\n",
            "Epoch 24/45\n",
            "191/191 [==============================] - 75s 373ms/step - loss: 0.6197 - accuracy: 0.7714 - val_loss: 1.0191 - val_accuracy: 0.6905\n",
            "\n",
            "Epoch 00024: val_accuracy improved from 0.68598 to 0.69055, saving model to dermnet.h5\n",
            "Epoch 25/45\n",
            "191/191 [==============================] - 74s 375ms/step - loss: 0.6265 - accuracy: 0.7692 - val_loss: 1.0001 - val_accuracy: 0.6745\n",
            "\n",
            "Epoch 00025: val_accuracy did not improve from 0.69055\n",
            "Epoch 26/45\n",
            "191/191 [==============================] - 75s 374ms/step - loss: 0.6161 - accuracy: 0.7790 - val_loss: 0.9595 - val_accuracy: 0.6829\n",
            "\n",
            "Epoch 00026: val_accuracy did not improve from 0.69055\n",
            "Epoch 27/45\n",
            "191/191 [==============================] - 76s 376ms/step - loss: 0.6085 - accuracy: 0.7744 - val_loss: 0.9766 - val_accuracy: 0.6982\n",
            "\n",
            "Epoch 00027: val_accuracy improved from 0.69055 to 0.69817, saving model to dermnet.h5\n",
            "Epoch 28/45\n",
            "191/191 [==============================] - 74s 375ms/step - loss: 0.5791 - accuracy: 0.7921 - val_loss: 1.0321 - val_accuracy: 0.6768\n",
            "\n",
            "Epoch 00028: val_accuracy did not improve from 0.69817\n",
            "Epoch 29/45\n",
            "191/191 [==============================] - 74s 374ms/step - loss: 0.5891 - accuracy: 0.7914 - val_loss: 1.0304 - val_accuracy: 0.6814\n",
            "\n",
            "Epoch 00029: val_accuracy did not improve from 0.69817\n",
            "Epoch 30/45\n",
            "191/191 [==============================] - 74s 376ms/step - loss: 0.5512 - accuracy: 0.7996 - val_loss: 1.0363 - val_accuracy: 0.6875\n",
            "\n",
            "Epoch 00030: val_accuracy did not improve from 0.69817\n",
            "Epoch 31/45\n",
            "191/191 [==============================] - 75s 373ms/step - loss: 0.5512 - accuracy: 0.8006 - val_loss: 1.0599 - val_accuracy: 0.6928\n",
            "\n",
            "Epoch 00031: val_accuracy did not improve from 0.69817\n",
            "Epoch 32/45\n",
            "191/191 [==============================] - 74s 376ms/step - loss: 0.5476 - accuracy: 0.8111 - val_loss: 1.0685 - val_accuracy: 0.7035\n",
            "\n",
            "Epoch 00032: val_accuracy improved from 0.69817 to 0.70351, saving model to dermnet.h5\n",
            "Epoch 33/45\n",
            "191/191 [==============================] - 74s 375ms/step - loss: 0.5327 - accuracy: 0.8062 - val_loss: 1.1579 - val_accuracy: 0.6845\n",
            "\n",
            "Epoch 00033: val_accuracy did not improve from 0.70351\n",
            "Epoch 34/45\n",
            "191/191 [==============================] - 76s 376ms/step - loss: 0.5453 - accuracy: 0.8029 - val_loss: 1.0092 - val_accuracy: 0.7005\n",
            "\n",
            "Epoch 00034: val_accuracy did not improve from 0.70351\n",
            "Epoch 35/45\n",
            "191/191 [==============================] - 73s 372ms/step - loss: 0.5482 - accuracy: 0.8026 - val_loss: 1.0411 - val_accuracy: 0.6875\n",
            "\n",
            "Epoch 00035: val_accuracy did not improve from 0.70351\n",
            "Epoch 36/45\n",
            "191/191 [==============================] - 72s 366ms/step - loss: 0.5217 - accuracy: 0.8114 - val_loss: 1.1176 - val_accuracy: 0.6898\n",
            "\n",
            "Epoch 00036: val_accuracy did not improve from 0.70351\n",
            "Epoch 37/45\n",
            "191/191 [==============================] - 72s 367ms/step - loss: 0.5248 - accuracy: 0.8143 - val_loss: 1.0685 - val_accuracy: 0.6799\n",
            "\n",
            "Epoch 00037: val_accuracy did not improve from 0.70351\n",
            "Epoch 38/45\n",
            "191/191 [==============================] - 75s 374ms/step - loss: 0.5220 - accuracy: 0.8150 - val_loss: 1.0705 - val_accuracy: 0.7050\n",
            "\n",
            "Epoch 00038: val_accuracy improved from 0.70351 to 0.70503, saving model to dermnet.h5\n",
            "Epoch 39/45\n",
            "191/191 [==============================] - 72s 367ms/step - loss: 0.4893 - accuracy: 0.8179 - val_loss: 1.0445 - val_accuracy: 0.6936\n",
            "\n",
            "Epoch 00039: val_accuracy did not improve from 0.70503\n",
            "Epoch 40/45\n",
            "191/191 [==============================] - 75s 372ms/step - loss: 0.4992 - accuracy: 0.8212 - val_loss: 1.1110 - val_accuracy: 0.6982\n",
            "\n",
            "Epoch 00040: val_accuracy did not improve from 0.70503\n",
            "Epoch 41/45\n",
            "191/191 [==============================] - 75s 371ms/step - loss: 0.4557 - accuracy: 0.8353 - val_loss: 1.0887 - val_accuracy: 0.7027\n",
            "\n",
            "Epoch 00041: val_accuracy did not improve from 0.70503\n",
            "Epoch 42/45\n",
            "191/191 [==============================] - 74s 367ms/step - loss: 0.4886 - accuracy: 0.8212 - val_loss: 1.0226 - val_accuracy: 0.7104\n",
            "\n",
            "Epoch 00042: val_accuracy improved from 0.70503 to 0.71037, saving model to dermnet.h5\n",
            "Epoch 43/45\n",
            "191/191 [==============================] - 72s 367ms/step - loss: 0.4493 - accuracy: 0.8386 - val_loss: 1.1083 - val_accuracy: 0.6989\n",
            "\n",
            "Epoch 00043: val_accuracy did not improve from 0.71037\n",
            "Epoch 44/45\n",
            "191/191 [==============================] - 72s 367ms/step - loss: 0.4651 - accuracy: 0.8392 - val_loss: 1.1222 - val_accuracy: 0.6974\n",
            "\n",
            "Epoch 00044: val_accuracy did not improve from 0.71037\n",
            "Epoch 45/45\n",
            "191/191 [==============================] - 74s 368ms/step - loss: 0.4698 - accuracy: 0.8389 - val_loss: 1.0177 - val_accuracy: 0.7104\n",
            "\n",
            "Epoch 00045: val_accuracy did not improve from 0.71037\n"
          ],
          "name": "stdout"
        }
      ]
    },
    {
      "cell_type": "markdown",
      "metadata": {
        "id": "vZn-eIzZ3LHR"
      },
      "source": [
        "# Show Accuracy"
      ]
    },
    {
      "cell_type": "code",
      "metadata": {
        "id": "s6he6Xmp3NNL",
        "colab": {
          "base_uri": "https://localhost:8080/"
        },
        "outputId": "b53c1296-9299-43a2-874a-793cc0ef2a11"
      },
      "source": [
        "import matplotlib.pyplot as plt\n",
        "acc = history.history['accuracy']\n",
        "loss = history.history['loss']\n",
        "val_acc = history.history['val_accuracy']\n",
        "val_loss = history.history['val_loss']\n",
        "epochs = range(len(acc))\n",
        "plt.plot(epochs, acc, 'b', label = 'Training accuracy')\n",
        "plt.plot(epochs, val_acc, 'r', label = 'Validation accuracy')\n",
        "plt.legend(loc=0)\n",
        "plt.figure()\n",
        "\n",
        "plt.show()\n",
        "\n",
        "plt.plot(epochs, loss, 'b', label = 'Training loss')\n",
        "plt.plot(epochs, val_loss, 'r', label = 'Validation loss')\n",
        "plt.legend(loc=0)\n",
        "plt.figure()\n",
        "\n",
        "plt.show()"
      ],
      "execution_count": null,
      "outputs": [
        {
          "output_type": "display_data",
          "data": {
            "image/png": "[encoded data removed]",
            "text/plain": [
              "<Figure size 432x288 with 1 Axes>"
            ]
          },
          "metadata": {
            "tags": [],
            "needs_background": "light"
          }
        },
        {
          "output_type": "display_data",
          "data": {
            "text/plain": [
              "<Figure size 432x288 with 0 Axes>"
            ]
          },
          "metadata": {
            "tags": []
          }
        },
        {
          "output_type": "display_data",
          "data": {
            "image/png": "[encoded data removed]",
            "text/plain": [
              "<Figure size 432x288 with 1 Axes>"
            ]
          },
          "metadata": {
            "tags": [],
            "needs_background": "light"
          }
        },
        {
          "output_type": "display_data",
          "data": {
            "text/plain": [
              "<Figure size 432x288 with 0 Axes>"
            ]
          },
          "metadata": {
            "tags": []
          }
        }
      ]
    },
    {
      "cell_type": "markdown",
      "metadata": {
        "id": "leOPEss63OoX"
      },
      "source": [
        "# Confusion Matrix"
      ]
    },
    {
      "cell_type": "code",
      "metadata": {
        "id": "tvvS3R0O3VGX",
        "colab": {
          "base_uri": "https://localhost:8080/"
        },
        "outputId": "4f4b3ad8-74a8-4103-cf61-784d5cf72672"
      },
      "source": [
        "print(validation_generator.classes)"
      ],
      "execution_count": null,
      "outputs": [
        {
          "output_type": "stream",
          "text": [
            "[0 0 0 ... 4 4 4]\n"
          ],
          "name": "stdout"
        }
      ]
    },
    {
      "cell_type": "code",
      "metadata": {
        "colab": {
          "base_uri": "https://localhost:8080/"
        },
        "id": "uTaevIaO3Vr9",
        "outputId": "f48c1879-485e-4dca-b552-c0065a7668c3"
      },
      "source": [
        "from sklearn.metrics import classification_report, confusion_matrix\n",
        "import numpy as np\n",
        "\n",
        "num_test_images = 1457 \n",
        "# Y_pred = finetune_model.predict_generator(validation_generator, num_test_images // BATCH_SIZE+1)\n",
        "Y_pred = model.predict_generator(validation_generator, num_test_images)\n",
        "y_pred = np.argmax(Y_pred, axis=1)\n",
        "print('Confusion Matrix')\n",
        "print(confusion_matrix(validation_generator.classes, y_pred))\n",
        "print('\\nClassification Report')\n",
        "# 7 target_names = ['Acne and Rosacea Photos', 'Actinic Keratosis Basal Cell Carcinoma and other Malignant Lesions', 'Eczema Photos', 'Light Diseases and Disorders of Pigmentation', 'Nail Fungus and other Nail Disease', 'Vascular Tumors', 'Warts Molluscum and other Viral Infections']\n",
        "# 5 target_names = ['Acne and Rosacea Photos', 'Actinic Keratosis Basal Cell Carcinoma and other Malignant Lesions', 'Light Diseases and Disorders of Pigmentation', 'Vascular Tumors', 'Warts Molluscum and other Viral Infections']\n",
        "target_names = ['Acne and Rosacea Photos', 'Actinic Keratosis Basal Cell Carcinoma and other Malignant Lesions', 'Eczema Photos', 'Light Diseases and Disorders of Pigmentation', 'Nail Fungus and other Nail Disease', 'Vascular Tumors', 'Warts Molluscum and other Viral Infections']\n",
        "\n",
        "print(classification_report(validation_generator.classes, y_pred, target_names=used_data))"
      ],
      "execution_count": null,
      "outputs": [
        {
          "output_type": "stream",
          "text": [
            "/usr/local/lib/python3.7/dist-packages/tensorflow/python/keras/engine/training.py:2001: UserWarning: `Model.predict_generator` is deprecated and will be removed in a future version. Please use `Model.predict`, which supports generators.\n",
            "  warnings.warn('`Model.predict_generator` is deprecated and '\n"
          ],
          "name": "stderr"
        },
        {
          "output_type": "stream",
          "text": [
            "WARNING:tensorflow:Your input ran out of data; interrupting training. Make sure that your dataset or generator can generate at least `steps_per_epoch * epochs` batches (in this case, 1457 batches). You may need to use the repeat() function when building your dataset.\n",
            "Confusion Matrix\n",
            "[[93 75 56 34 53]\n",
            " [79 63 72 31 43]\n",
            " [97 73 61 41 37]\n",
            " [30 35 31 17 30]\n",
            " [55 60 63 33 50]]\n",
            "\n",
            "Classification Report\n",
            "                                                                    precision    recall  f1-score   support\n",
            "\n",
            "                                           Acne and Rosacea Photos       0.26      0.30      0.28       311\n",
            "Actinic Keratosis Basal Cell Carcinoma and other Malignant Lesions       0.21      0.22      0.21       288\n",
            "                                                     Eczema Photos       0.22      0.20      0.21       309\n",
            "                      Light Diseases and Disorders of Pigmentation       0.11      0.12      0.11       143\n",
            "                                Nail Fungus and other Nail Disease       0.23      0.19      0.21       261\n",
            "\n",
            "                                                          accuracy                           0.22      1312\n",
            "                                                         macro avg       0.21      0.21      0.20      1312\n",
            "                                                      weighted avg       0.22      0.22      0.22      1312\n",
            "\n"
          ],
          "name": "stdout"
        }
      ]
    },
    {
      "cell_type": "markdown",
      "metadata": {
        "id": "hqCmCNRD3h0I"
      },
      "source": [
        "# Test Predict"
      ]
    },
    {
      "cell_type": "code",
      "metadata": {
        "colab": {
          "resources": {
            "http://localhost:8080/nbextensions/google.colab/files.js": {
              "data": "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",
              "ok": true,
              "headers": [
                [
                  "content-type",
                  "application/javascript"
                ]
              ],
              "status": 200,
              "status_text": ""
            }
          },
          "base_uri": "https://localhost:8080/",
          "height": 177
        },
        "id": "PsfqlSVp3jGN",
        "outputId": "a887e496-a8d6-4f25-a030-3fcb4aacbe50"
      },
      "source": [
        "import numpy as np\n",
        "from google.colab import files\n",
        "from keras.preprocessing import image\n",
        "\n",
        "uploaded = files.upload()\n",
        "\n",
        "for fn in uploaded.keys():\n",
        " \n",
        "  # predicting images\n",
        "  path = '/content/' + fn\n",
        "  img = image.load_img(path, target_size=(224, 224))\n",
        "  x = image.img_to_array(img)\n",
        "  x = np.expand_dims(x, axis=0)\n",
        "\n",
        "  images = np.vstack([x])\n",
        "  classes = finetune_model.predict(images)\n",
        "  classes_predict = finetune_model.predict_classes(images)\n",
        "  print(classes)\n",
        "  print(classes_predict)"
      ],
      "execution_count": null,
      "outputs": [
        {
          "output_type": "display_data",
          "data": {
            "text/html": [
              "\n",
              "     <input type=\"file\" id=\"files-8afeac39-5844-4b75-8339-22b184be3313\" name=\"files[]\" multiple disabled\n",
              "        style=\"border:none\" />\n",
              "     <output id=\"result-8afeac39-5844-4b75-8339-22b184be3313\">\n",
              "      Upload widget is only available when the cell has been executed in the\n",
              "      current browser session. Please rerun this cell to enable.\n",
              "      </output>\n",
              "      <script src=\"/nbextensions/google.colab/files.js\"></script> "
            ],
            "text/plain": [
              "<IPython.core.display.HTML object>"
            ]
          },
          "metadata": {
            "tags": []
          }
        },
        {
          "output_type": "stream",
          "text": [
            "Saving t-warts-common-10.jpg to t-warts-common-10.jpg\n",
            "[[0.21589687 0.02971862 0.0526148  0.10036353 0.07585002 0.06511889\n",
            "  0.4604372 ]]\n",
            "[6]\n"
          ],
          "name": "stdout"
        },
        {
          "output_type": "stream",
          "text": [
            "/usr/local/lib/python3.7/dist-packages/tensorflow/python/keras/engine/sequential.py:455: UserWarning: `model.predict_classes()` is deprecated and will be removed after 2021-01-01. Please use instead:* `np.argmax(model.predict(x), axis=-1)`,   if your model does multi-class classification   (e.g. if it uses a `softmax` last-layer activation).* `(model.predict(x) > 0.5).astype(\"int32\")`,   if your model does binary classification   (e.g. if it uses a `sigmoid` last-layer activation).\n",
            "  warnings.warn('`model.predict_classes()` is deprecated and '\n"
          ],
          "name": "stderr"
        }
      ]
    },
    {
      "cell_type": "markdown",
      "metadata": {
        "id": "uiKxeKrG2z9R"
      },
      "source": [
        "# Save Model"
      ]
    },
    {
      "cell_type": "code",
      "metadata": {
        "colab": {
          "base_uri": "https://localhost:8080/"
        },
        "id": "dKGW5xV17uDw",
        "outputId": "65b22981-efc3-4126-f500-1603c7ccafb3"
      },
      "source": [
        "model.save(\"dermnet.h5\")"
      ],
      "execution_count": null,
      "outputs": [
        {
          "output_type": "stream",
          "text": [
            "/usr/local/lib/python3.7/dist-packages/tensorflow/python/keras/utils/generic_utils.py:497: CustomMaskWarning: Custom mask layers require a config and must override get_config. When loading, the custom mask layer must be passed to the custom_objects argument.\n",
            "  category=CustomMaskWarning)\n"
          ],
          "name": "stderr"
        }
      ]
    },
    {
      "cell_type": "markdown",
      "metadata": {
        "id": "W2V85xeG25Nl"
      },
      "source": [
        "# Upload to GCS"
      ]
    },
    {
      "cell_type": "code",
      "metadata": {
        "colab": {
          "base_uri": "https://localhost:8080/"
        },
        "id": "_PltecFa9U8X",
        "outputId": "fe85e06b-ed2a-4431-dca0-120e9b4458b6"
      },
      "source": [
        "!ls -al"
      ],
      "execution_count": null,
      "outputs": [
        {
          "output_type": "stream",
          "text": [
            "total 28\n",
            "drwxr-xr-x 1 root root 4096 Jun  1 17:35 .\n",
            "drwxr-xr-x 1 root root 4096 Jun  1 17:32 ..\n",
            "-rw-r--r-- 1 root root  720 Jun  1 17:34 adc.json\n",
            "-rw-r--r-- 1 root root    0 Jun  1 17:35 a.txt\n",
            "drwxr-xr-x 1 root root 4096 Jun  1 17:34 .config\n",
            "drwxr-xr-x 1 root root 4096 May  6 13:44 sample_data\n"
          ],
          "name": "stdout"
        }
      ]
    },
    {
      "cell_type": "code",
      "metadata": {
        "id": "SKlO8PZT9ftb"
      },
      "source": [
        "from google.colab import auth\n",
        "auth.authenticate_user()"
      ],
      "execution_count": null,
      "outputs": []
    },
    {
      "cell_type": "code",
      "metadata": {
        "id": "V9fVJ8aXANPx"
      },
      "source": [
        "project_id ='plexiform-being-312905'\n",
        "bucket_name = 'dermnet'"
      ],
      "execution_count": null,
      "outputs": []
    },
    {
      "cell_type": "code",
      "metadata": {
        "id": "fL0tbtnZpFzm",
        "colab": {
          "base_uri": "https://localhost:8080/",
          "height": 35
        },
        "outputId": "e3821eaf-745f-4539-c106-88e9ec7c3bf8"
      },
      "source": [
        "from datetime import datetime\n",
        "\n",
        "now = datetime.now()\n",
        "current_time = now.strftime(\"%d%m%y-%H%M%S\")\n",
        "current_time"
      ],
      "execution_count": null,
      "outputs": [
        {
          "output_type": "execute_result",
          "data": {
            "application/vnd.google.colaboratory.intrinsic+json": {
              "type": "string"
            },
            "text/plain": [
              "'020621-185129'"
            ]
          },
          "metadata": {
            "tags": []
          },
          "execution_count": 55
        }
      ]
    },
    {
      "cell_type": "code",
      "metadata": {
        "colab": {
          "base_uri": "https://localhost:8080/"
        },
        "id": "SK2k8uC7AfoE",
        "outputId": "691ec723-78e2-42d4-a804-02e11c4e0a78"
      },
      "source": [
        "!gsutil cp dermnet.h5 gs://{bucket_name}/{current_time}/"
      ],
      "execution_count": null,
      "outputs": [
        {
          "output_type": "stream",
          "text": [
            "Copying file://dermnet.h5 [Content-Type=application/octet-stream]...\n",
            "/ [0 files][    0.0 B/  1.2 GiB]                                                \r==> NOTE: You are uploading one or more large file(s), which would run\n",
            "significantly faster if you enable parallel composite uploads. This\n",
            "feature can be enabled by editing the\n",
            "\"parallel_composite_upload_threshold\" value in your .boto\n",
            "configuration file. However, note that if you do this large files will\n",
            "be uploaded as `composite objects\n",
            "<https://cloud.google.com/storage/docs/composite-objects>`_,which\n",
            "means that any user who downloads such objects will need to have a\n",
            "compiled crcmod installed (see \"gsutil help crcmod\"). This is because\n",
            "without a compiled crcmod, computing checksums on composite objects is\n",
            "so slow that gsutil disables downloads of composite objects.\n",
            "\n",
            "-\n",
            "Operation completed over 1 objects/1.2 GiB.                                      \n"
          ],
          "name": "stdout"
        }
      ]
    }
  ]
}